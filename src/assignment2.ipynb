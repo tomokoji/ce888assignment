{
 "cells": [
  {
   "cell_type": "markdown",
   "metadata": {},
   "source": [
    "# CE888 Assignment 2 for Demo\n",
    "\n",
    "This code is written to demonstarte data analysis made for ce888 assignment 2.\n",
    "\n",
    "**Author**          : Tomoko Ayakawa<br> \n",
    "**Created on**      : 29 March 2019<br> \n",
    "**Last modified on**: 6 April 2019<br> "
   ]
  },
  {
   "cell_type": "code",
   "execution_count": 1,
   "metadata": {},
   "outputs": [],
   "source": [
    "# import open source libraries\n",
    "import pandas as pd \n",
    "import seaborn as sns\n",
    "import numpy as np\n",
    "import matplotlib.pyplot as plt\n",
    "import sys\n",
    "\n",
    "# import original libraries\n",
    "sys.path.append(\"../\")\n",
    "\n",
    "import utility as UTL\n",
    "#import assignment1_main as MAIN\n",
    "import load_data as DATA\n",
    "import histogram as HST\n",
    "from conf import myVariables as VAR\n",
    "import correlation as CRRL\n",
    "import pca as PCA\n",
    "import classifier as CLS\n",
    "import feature_importance as IMP"
   ]
  },
  {
   "cell_type": "markdown",
   "metadata": {},
   "source": [
    "## 1. Load Data\n",
    "Load data from **data** directory.<br>\n",
    "Reading and preprocessing data into pandas.DataFrame are done by respective python files.<br>\n",
    "#### Returned variables<br>\n",
    ">`col_names` : List --- Name of the columns (including target column)<br>\n",
    "`features_df` : DataFrame --- Feature values<br>\n",
    "`targets_df` : DataFrame --- Target values<br>\n",
    "`data_df` : DataFrame --- The whole data containing both features and targets<br>\n",
    "`pic_file`: String --- Prefix for file name (data name + timestamp)<br>\n",
    "`unique_labels` : List --- Column haeders containing feature names and terget name (\"Class\")\n",
    ">\n",
    "\n",
    "#### Select data to load (Argument `data_id`)\n",
    "> 0. Human Activity\n",
    "1. Spam\n",
    "2. Phishing\n",
    ">"
   ]
  },
  {
   "cell_type": "code",
   "execution_count": 2,
   "metadata": {
    "scrolled": true
   },
   "outputs": [
    {
     "name": "stdout",
     "output_type": "stream",
     "text": [
      "{0: 'human activity', 1: 'spam', 2: 'phishing'}2\n",
      "Number of NaN: 0\n",
      "Data shape:  (11055, 31)\n",
      "Target labels: [-1.  1.]\n",
      "Class distribution: ['0.44', '0.56']\n"
     ]
    }
   ],
   "source": [
    "data_list={0: \"human activity\", 1: \"spam\", 2: \"phishing\"}\n",
    "data_id = int(input(data_list))\n",
    "\n",
    "col_names, features_df, targets_df, data_df, pic_file = DATA.load_data(data_id=data_id)\n",
    "unique_labels = DATA.verify_data(data_df, targets_df, dispaly_range=False)"
   ]
  },
  {
   "cell_type": "code",
   "execution_count": null,
   "metadata": {},
   "outputs": [],
   "source": [
    "#display the first 5 rows of the selected data\n",
    "data_df.head(5)"
   ]
  },
  {
   "cell_type": "markdown",
   "metadata": {},
   "source": [
    "## 2. Pre-process the data\n",
    "### 2-1. Obtain the small data\n",
    "`get_small_data` returns the specified number of samples. <br>\n",
    "If `min_samples` is **None**, then **50 + 8\\*num_cols** samples will be returned."
   ]
  },
  {
   "cell_type": "code",
   "execution_count": 3,
   "metadata": {},
   "outputs": [
    {
     "name": "stdout",
     "output_type": "stream",
     "text": [
      "Enter the number of samples to use (Total: 11055): \n",
      "ratio: 0.026232473993668022\n",
      "Minimul size of the data for 30 features: 290\n",
      "The size of the data used for classification: 290\n"
     ]
    }
   ],
   "source": [
    "min_samples=input(\"Enter the number of samples to use (Total: %d): \" % data_df.shape[0])\n",
    "try:\n",
    "    min_samples=int(min_samples)\n",
    "except:\n",
    "    min_samples=None\n",
    "    \n",
    "features, classes=UTL.get_small_data(features_df.values, targets_df.values, min_samples=min_samples)"
   ]
  },
  {
   "cell_type": "markdown",
   "metadata": {},
   "source": [
    "### 2-2. Fit the scaler and transform the data"
   ]
  },
  {
   "cell_type": "code",
   "execution_count": 4,
   "metadata": {},
   "outputs": [],
   "source": [
    "def pre_processing(X, mode):   \n",
    "    from sklearn.preprocessing import \\\n",
    "        MinMaxScaler, QuantileTransformer, StandardScaler\n",
    "    \n",
    "    # fit the scalar\n",
    "    if mode==0:\n",
    "        scl=None\n",
    "        X_nrm=X\n",
    "    else:\n",
    "        if mode==1: scl=MinMaxScaler()\n",
    "        if mode==2: scl=QuantileTransformer(output_distribution=\"normal\")\n",
    "        if mode==3: scl=StandardScaler()\n",
    "        scl.fit(X)\n",
    "        X_nrm=scl.transform(X)\n",
    "    \n",
    "    print(\"Scaler:\", scl)\n",
    "    \n",
    "    return scl, X_nrm"
   ]
  },
  {
   "cell_type": "code",
   "execution_count": 5,
   "metadata": {},
   "outputs": [
    {
     "name": "stdout",
     "output_type": "stream",
     "text": [
      "Select the scaler 0 (None), 1 (MinMax), 2 (Quantile), 3 (Standard): 0\n",
      "Scaler: None\n"
     ]
    },
    {
     "data": {
      "text/plain": [
       "array([[ 1., -1.,  1.,  1.,  1., -1., -1.,  0., -1.,  1.,  1.,  1., -1.,\n",
       "         0., -1., -1.,  1.,  1.,  0.,  1.,  1.,  1.,  1., -1.,  1.,  0.,\n",
       "        -1.,  1.,  0.,  1.],\n",
       "       [ 1.,  1.,  1.,  1.,  1., -1., -1.,  1., -1.,  1.,  1.,  1.,  1.,\n",
       "         0., -1., -1.,  1.,  1.,  0.,  1.,  1.,  1.,  1.,  1.,  1.,  1.,\n",
       "        -1.,  1.,  0.,  1.],\n",
       "       [ 1., -1.,  1.,  1.,  1., -1., -1.,  1.,  1.,  1.,  1.,  1., -1.,\n",
       "         0.,  0., -1.,  1.,  1.,  0.,  1.,  1.,  1.,  1.,  1.,  1.,  1.,\n",
       "         1.,  1.,  0.,  1.],\n",
       "       [ 1., -1.,  1.,  1.,  1., -1.,  0., -1.,  1.,  1.,  1., -1., -1.,\n",
       "        -1., -1., -1., -1., -1.,  0.,  1.,  1.,  1.,  1.,  1., -1.,  0.,\n",
       "        -1.,  1., -1., -1.],\n",
       "       [ 1., -1.,  1.,  1.,  1., -1.,  0.,  1., -1.,  1.,  1.,  1., -1.,\n",
       "         0.,  0.,  1.,  1.,  1.,  0.,  1.,  1.,  1.,  1., -1.,  1.,  1.,\n",
       "         1.,  1.,  0.,  1.]])"
      ]
     },
     "execution_count": 5,
     "metadata": {},
     "output_type": "execute_result"
    }
   ],
   "source": [
    "scaler=int(input(\"Select the scaler 0 (None), 1 (MinMax), 2 (Quantile), 3 (Standard): \"))\n",
    "\n",
    "scl_features, features_nrm=pre_processing(features, scaler)\n",
    "features_nrm[:5]"
   ]
  },
  {
   "cell_type": "markdown",
   "metadata": {},
   "source": [
    "## 3. Split the training dataset"
   ]
  },
  {
   "cell_type": "code",
   "execution_count": 6,
   "metadata": {},
   "outputs": [],
   "source": [
    "def split_data(X, y, test_size=0.2):\n",
    "    from sklearn.model_selection import train_test_split\n",
    "    \n",
    "    X_tr, X_te, Y_tr, Y_te=train_test_split(X, y, test_size=test_size)\n",
    "    print(\"Training: %d, Test: %d\" % (len(X_tr), len(X_te)))\n",
    "    \n",
    "    return X_tr, X_te, Y_tr, Y_te"
   ]
  },
  {
   "cell_type": "code",
   "execution_count": 7,
   "metadata": {},
   "outputs": [
    {
     "name": "stdout",
     "output_type": "stream",
     "text": [
      "Enter the test_size (0<=test_size<1): 0\n",
      "Training: 290, Test: 0\n"
     ]
    }
   ],
   "source": [
    "test_size=float(input(\"Enter the test_size (0<=test_size<1): \"))\n",
    "X_tr, X_te, Y_tr, Y_te=split_data(features_nrm, classes, test_size=test_size)"
   ]
  },
  {
   "cell_type": "markdown",
   "metadata": {},
   "source": [
    "## 4. Build an Autoencoder\n",
    "### 4-1. Define the parameters\n",
    "- `num_outs`: number of outputs\n",
    "- `act_funcs`:activation functions\n",
    "- `opt`:optimiser\n",
    "- `loss`: loss function\n",
    "- `tr_epoch`: training epoch\n",
    "- `ver`: verbose"
   ]
  },
  {
   "cell_type": "code",
   "execution_count": 198,
   "metadata": {},
   "outputs": [],
   "source": [
    "num_outs=[20, 10, 5]\n",
    "act_funcs=[\"relu\"] * len(num_outs) \n",
    "opt=\"adam\"\n",
    "loss=\"mse\"\n",
    "tr_epoch=10\n",
    "ver=0"
   ]
  },
  {
   "cell_type": "markdown",
   "metadata": {},
   "source": [
    "### 4-2. Build an autoencoder\n",
    "#### (1) Autoencoder"
   ]
  },
  {
   "cell_type": "code",
   "execution_count": 199,
   "metadata": {},
   "outputs": [],
   "source": [
    "def autoencoder(X, epochs=20, verbose=1): \n",
    "    from keras.models import Sequential, Model\n",
    "    from keras.layers import Dense, Input\n",
    "    from keras.optimizers import Adam\n",
    "    from keras.layers.advanced_activations import PReLU\n",
    "    import warnings\n",
    "    \n",
    "    #ignore warnings\n",
    "    warnings.filterwarnings(\"ignore\")\n",
    "    \n",
    "    #create an input holder\n",
    "    num_features=len(X[0])\n",
    "    input_holder=Input(shape=(num_features,))\n",
    "        \n",
    "    #initialise the encoder variables\n",
    "    num_outs.insert (0, num_features)\n",
    "    act_funcs.insert (0, \"Inputs\")\n",
    "    tmp_holder = input_holder\n",
    "\n",
    "    #initialise the decoder variables\n",
    "    n=len(num_outs)\n",
    "    num_out_dec=[]\n",
    "    for i in range(n-1, -1, -1): num_out_dec.append(num_outs[i])     \n",
    "    num_out_dec.append(num_features)\n",
    "    act_funcs_dec=[act_funcs[-1]]*len(num_out_dec)\n",
    "    \n",
    "    print(\"num_outs:\", num_outs, num_out_dec)\n",
    "    print(\"act:\", act_funcs, act_funcs_dec)\n",
    "    #build an encoder\n",
    "    encode = input_holder\n",
    "    for i in range (0, n-1):\n",
    "        print(\"i=\",i,\"| output=\", num_outs[i+1], \", input=\",num_outs[i],\", act=\",act_funcs[i+1])\n",
    "        \n",
    "        encode=Dense(num_outs[i+1], input_dim=num_outs[i], \\\n",
    "                    activation = act_funcs[i+1])(encode)\n",
    "    decode = encode\n",
    "    for i in range (0, len(act_funcs)-1):\n",
    "        print(\"i=\",i,\"| output=\", num_out_dec[i+1], \", input=\",num_out_dec[i],\", act=\",act_funcs_dec[i+1])\n",
    "        decode = Dense ( num_out_dec[i+1], input_dim=num_out_dec[i], \\\n",
    "                        activation=act_funcs_dec[i+1])(decode)\n",
    "    \n",
    "    autoencoder=Model(input=input_holder, output=decode)\n",
    "    autoencoder.compile (optimizer = \"adam\", loss = \"mse\")\n",
    "    \n",
    "    #train the autoencoder\n",
    "    loss_hiss=autoencoder.fit (X, X, epochs=epochs, verbose=verbose)\n",
    "    \n",
    "    return encode, [loss_hiss]"
   ]
  },
  {
   "cell_type": "code",
   "execution_count": 200,
   "metadata": {},
   "outputs": [
    {
     "name": "stdout",
     "output_type": "stream",
     "text": [
      "num_outs: [30, 20, 10, 5] [5, 10, 20, 30, 30]\n",
      "act: ['Inputs', 'relu', 'relu', 'relu'] ['relu', 'relu', 'relu', 'relu', 'relu']\n",
      "i= 0 | output= 20 , input= 30 , act= relu\n",
      "i= 1 | output= 10 , input= 20 , act= relu\n",
      "i= 2 | output= 5 , input= 10 , act= relu\n",
      "i= 0 | output= 10 , input= 5 , act= relu\n",
      "i= 1 | output= 20 , input= 10 , act= relu\n",
      "i= 2 | output= 30 , input= 20 , act= relu\n"
     ]
    },
    {
     "ename": "AttributeError",
     "evalue": "'Tensor' object has no attribute 'summary'",
     "output_type": "error",
     "traceback": [
      "\u001b[0;31m---------------------------------------------------------------------------\u001b[0m",
      "\u001b[0;31mAttributeError\u001b[0m                            Traceback (most recent call last)",
      "\u001b[0;32m<ipython-input-200-254b7c8aa7e7>\u001b[0m in \u001b[0;36m<module>\u001b[0;34m\u001b[0m\n\u001b[1;32m      1\u001b[0m \u001b[0mencoder\u001b[0m\u001b[0;34m,\u001b[0m \u001b[0mloss_hiss\u001b[0m\u001b[0;34m=\u001b[0m\u001b[0mautoencoder\u001b[0m\u001b[0;34m(\u001b[0m\u001b[0mX_tr\u001b[0m\u001b[0;34m,\u001b[0m \u001b[0mepochs\u001b[0m\u001b[0;34m=\u001b[0m\u001b[0mtr_epoch\u001b[0m\u001b[0;34m,\u001b[0m \u001b[0mverbose\u001b[0m\u001b[0;34m=\u001b[0m\u001b[0mver\u001b[0m\u001b[0;34m)\u001b[0m\u001b[0;34m\u001b[0m\u001b[0m\n\u001b[0;32m----> 2\u001b[0;31m \u001b[0mencoder\u001b[0m\u001b[0;34m.\u001b[0m\u001b[0msummary\u001b[0m\u001b[0;34m(\u001b[0m\u001b[0;34m)\u001b[0m\u001b[0;34m\u001b[0m\u001b[0m\n\u001b[0m",
      "\u001b[0;31mAttributeError\u001b[0m: 'Tensor' object has no attribute 'summary'"
     ]
    }
   ],
   "source": [
    "encoder, loss_hiss=autoencoder(X_tr, epochs=tr_epoch, verbose=ver)"
   ]
  },
  {
   "cell_type": "code",
   "execution_count": 197,
   "metadata": {},
   "outputs": [
    {
     "data": {
      "image/png": "[encoded data removed]",
      "text/plain": [
       "<matplotlib.figure.Figure at 0x1311707b8>"
      ]
     },
     "metadata": {
      "needs_background": "light"
     },
     "output_type": "display_data"
    }
   ],
   "source": [
    "plot_ae_loss_history(loss_hiss, pic_file=\"test\")"
   ]
  },
  {
   "cell_type": "markdown",
   "metadata": {},
   "source": [
    "#### (2) Stacked Autoencoder"
   ]
  },
  {
   "cell_type": "code",
   "execution_count": 186,
   "metadata": {},
   "outputs": [],
   "source": [
    "def stacked_autoencoder(X, epochs=20, verbose=1): \n",
    "    from keras.models import Sequential, Model\n",
    "    from keras.layers import Dense, Input\n",
    "    from keras.optimizers import Adam\n",
    "    from keras.layers.advanced_activations import PReLU\n",
    "    import warnings\n",
    "    \n",
    "    # ignore warnings\n",
    "    warnings.filterwarnings(\"ignore\")\n",
    "\n",
    "    #create an input holder\n",
    "    num_features=len(X[0])\n",
    "    input_holder=Input(shape=(num_features,))\n",
    "        \n",
    "    #initialise the variables\n",
    "    num_outs.insert(0, num_features)\n",
    "    tmp_holder = input_holder\n",
    "    tr_data=X\n",
    "    encoders = []\n",
    "    loss_hiss = []\n",
    "\n",
    "    #train encoder layers\n",
    "    for i in range(len(act_funcs)):\n",
    "        print(\"Training Layer %d/%d ...\" % (i+1, len(act_funcs)))\n",
    "        encode=Dense(num_outs[i+1], input_dim=num_outs[i], \\\n",
    "                       activation=act_funcs [i])(tmp_holder)\n",
    "        decode=Dense(num_outs[i], input_dim=num_outs[i+1], \\\n",
    "                       activation=act_funcs[i])(encode)\n",
    "        encoder=Model(input=tmp_holder, output=decode)\n",
    "        encoder.compile(optimizer=opt, loss=loss)\n",
    "    \n",
    "        # train a layer\n",
    "        loss_his=encoder.fit(tr_data, tr_data, epochs=epochs, verbose=verbose)\n",
    "        loss_hiss.append(loss_his)\n",
    "        \n",
    "        # use output of the layer as next training input\n",
    "        encoder = Model(input=tmp_holder, output=encode)\n",
    "        tr_data=encoder.predict(tr_data)\n",
    "        \n",
    "        # update the input_holder\n",
    "        tmp_holder=Input(shape=(num_outs[i+1],))\n",
    "    \n",
    "        # store the trainined layer in a list\n",
    "        encoders.append(encoder)\n",
    "        \n",
    "    # connect traind encoder layers as 'encode'\n",
    "    encoder=Sequential()\n",
    "    for e in encoders:\n",
    "        encoder.add (e)\n",
    "        \n",
    "    return encoder, loss_hiss"
   ]
  },
  {
   "cell_type": "markdown",
   "metadata": {},
   "source": [
    "### 4-3. Train the autoencoder"
   ]
  },
  {
   "cell_type": "code",
   "execution_count": 187,
   "metadata": {},
   "outputs": [
    {
     "name": "stdout",
     "output_type": "stream",
     "text": [
      "Training Layer 1/3 ...\n",
      "Training Layer 2/3 ...\n",
      "Training Layer 3/3 ...\n",
      "_________________________________________________________________\n",
      "Layer (type)                 Output Shape              Param #   \n",
      "=================================================================\n",
      "model_13 (Model)             (None, 20)                620       \n",
      "_________________________________________________________________\n",
      "model_15 (Model)             (None, 10)                210       \n",
      "_________________________________________________________________\n",
      "model_17 (Model)             (None, 5)                 55        \n",
      "=================================================================\n",
      "Total params: 885\n",
      "Trainable params: 885\n",
      "Non-trainable params: 0\n",
      "_________________________________________________________________\n"
     ]
    }
   ],
   "source": [
    "encoder, loss_hiss=stacked_autoencoder(X_tr, epochs=tr_epoch, verbose=ver)\n",
    "encoder.summary()"
   ]
  },
  {
   "cell_type": "markdown",
   "metadata": {},
   "source": [
    "### 4-4. Display the training history"
   ]
  },
  {
   "cell_type": "code",
   "execution_count": 196,
   "metadata": {},
   "outputs": [],
   "source": [
    "def plot_ae_loss_history(histories, pic_file):\n",
    "    fig=plt.figure(figsize=(15,10))\n",
    "    \n",
    "    for i in range(len(histories)):\n",
    "        plt.subplot(2, 2, i+1)\n",
    "        plt.plot(histories[i].history[\"loss\"])\n",
    "        plt.title(\"Layer %d Training %s\" % (i+1, loss.upper()))\n",
    "    \n",
    "    \n",
    "    plt.show ()\n",
    "    \n",
    "    fig.savefig(\"%s%s_ae_loss.png\" % (VAR.out_path, pic_file), \\\n",
    "                bbox_inches='tight')"
   ]
  },
  {
   "cell_type": "code",
   "execution_count": 189,
   "metadata": {},
   "outputs": [
    {
     "data": {
      "image/png": "[encoded data removed]",
      "text/plain": [
       "<matplotlib.figure.Figure at 0x12c62c668>"
      ]
     },
     "metadata": {
      "needs_background": "light"
     },
     "output_type": "display_data"
    }
   ],
   "source": [
    "plot_ae_loss_history(loss_hiss, pic_file=\"test\")"
   ]
  },
  {
   "cell_type": "markdown",
   "metadata": {},
   "source": [
    "### 4-4. Extract features from the datasets"
   ]
  },
  {
   "cell_type": "code",
   "execution_count": 12,
   "metadata": {},
   "outputs": [],
   "source": [
    "feat_compressed=encoder.predict(features_nrm)\n",
    "X_tr_compressed=encoder.predict(X_tr)\n",
    "X_tr_compressed=encoder.predict(X_te)"
   ]
  },
  {
   "cell_type": "markdown",
   "metadata": {},
   "source": [
    "## 5. Train discriminative neural network\n",
    "### 5-1. Keras Multiclass classifier\n",
    "This model is developed in reference to [Multi-Class Classification Tutorial with the Keras Deep Learning Library ](https://machinelearningmastery.com/multi-class-classification-tutorial-keras-deep-learning-library/)."
   ]
  },
  {
   "cell_type": "code",
   "execution_count": 37,
   "metadata": {},
   "outputs": [],
   "source": [
    "hidden_act='relu'\n",
    "out_act='softmax'\n",
    "cls_optimizer=\"adam\"\n",
    "cls_loss='categorical_crossentropy'"
   ]
  },
  {
   "cell_type": "code",
   "execution_count": 38,
   "metadata": {},
   "outputs": [],
   "source": [
    "def classifier(num_out=1,finetune=True):\n",
    "    from keras.models import Sequential\n",
    "    from keras.layers import Dense, Input\n",
    "\n",
    "    model=Sequential()\n",
    "    for e in encoder.layers:\n",
    "        e.trainable=finetune\n",
    "        model.add(e)\n",
    "    model.add(Dense(30, input_dim=num_outs[-1], activation=hidden_act))\n",
    "    model.add(Dense(num_out, activation=out_act))\n",
    "\n",
    "    model.compile(loss=cls_loss, optimizer=cls_optimizer, metrics=['accuracy'])    \n",
    "    \n",
    "    return model"
   ]
  },
  {
   "cell_type": "code",
   "execution_count": 39,
   "metadata": {},
   "outputs": [
    {
     "name": "stdout",
     "output_type": "stream",
     "text": [
      "_________________________________________________________________\n",
      "Layer (type)                 Output Shape              Param #   \n",
      "=================================================================\n",
      "model_2 (Model)              (None, 55)                1705      \n",
      "_________________________________________________________________\n",
      "model_4 (Model)              (None, 35)                1960      \n",
      "_________________________________________________________________\n",
      "model_6 (Model)              (None, 15)                540       \n",
      "_________________________________________________________________\n",
      "dense_13 (Dense)             (None, 30)                480       \n",
      "_________________________________________________________________\n",
      "dense_14 (Dense)             (None, 2)                 62        \n",
      "=================================================================\n",
      "Total params: 4,747\n",
      "Trainable params: 4,747\n",
      "Non-trainable params: 0\n",
      "_________________________________________________________________\n"
     ]
    }
   ],
   "source": [
    "mlp=classifier(num_out=len(unique_labels), finetune=True)\n",
    "mlp.summary()"
   ]
  },
  {
   "cell_type": "code",
   "execution_count": 29,
   "metadata": {},
   "outputs": [],
   "source": [
    "def multi_class(Y):\n",
    "    # For multi class task, replace the target with dummy values\n",
    "    from keras.utils import np_utils\n",
    "    from sklearn.preprocessing import LabelEncoder\n",
    "\n",
    "    # encode class values as integers\n",
    "    label_encoder=LabelEncoder()\n",
    "    encoded_Y=label_encoder.fit_transform(Y)\n",
    "\n",
    "    # convert integers to dummy variables (i.e. one hot encoded)\n",
    "    encoded_Y=np_utils.to_categorical(encoded_Y)\n",
    "\n",
    "    return encoded_Y\n",
    "\n",
    "Y_tr=multi_class(Y_tr)"
   ]
  },
  {
   "cell_type": "code",
   "execution_count": 30,
   "metadata": {},
   "outputs": [
    {
     "name": "stdout",
     "output_type": "stream",
     "text": [
      "Train on 232 samples, validate on 58 samples\n",
      "Epoch 1/20\n",
      "232/232 [==============================] - 0s - loss: 0.7011 - acc: 0.5043 - val_loss: 0.6760 - val_acc: 0.6207\n",
      "Epoch 2/20\n",
      "232/232 [==============================] - 0s - loss: 0.6552 - acc: 0.6552 - val_loss: 0.6443 - val_acc: 0.7069\n",
      "Epoch 3/20\n",
      "232/232 [==============================] - 0s - loss: 0.6185 - acc: 0.8319 - val_loss: 0.6045 - val_acc: 0.8103\n",
      "Epoch 4/20\n",
      "232/232 [==============================] - 0s - loss: 0.5708 - acc: 0.8664 - val_loss: 0.5361 - val_acc: 0.8966\n",
      "Epoch 5/20\n",
      "232/232 [==============================] - 0s - loss: 0.4977 - acc: 0.8922 - val_loss: 0.4454 - val_acc: 0.9138\n",
      "Epoch 6/20\n",
      "232/232 [==============================] - 0s - loss: 0.4238 - acc: 0.8879 - val_loss: 0.3686 - val_acc: 0.9138\n",
      "Epoch 7/20\n",
      "232/232 [==============================] - 0s - loss: 0.3636 - acc: 0.8966 - val_loss: 0.3326 - val_acc: 0.8966\n",
      "Epoch 8/20\n",
      "232/232 [==============================] - 0s - loss: 0.3086 - acc: 0.8966 - val_loss: 0.2980 - val_acc: 0.9138\n",
      "Epoch 9/20\n",
      "232/232 [==============================] - 0s - loss: 0.2720 - acc: 0.9052 - val_loss: 0.2652 - val_acc: 0.9138\n",
      "Epoch 10/20\n",
      "232/232 [==============================] - 0s - loss: 0.2426 - acc: 0.9181 - val_loss: 0.2541 - val_acc: 0.8966\n",
      "Epoch 11/20\n",
      "232/232 [==============================] - 0s - loss: 0.2192 - acc: 0.9181 - val_loss: 0.2415 - val_acc: 0.8966\n",
      "Epoch 12/20\n",
      "232/232 [==============================] - 0s - loss: 0.2025 - acc: 0.9353 - val_loss: 0.2255 - val_acc: 0.9138\n",
      "Epoch 13/20\n",
      "232/232 [==============================] - 0s - loss: 0.1835 - acc: 0.9440 - val_loss: 0.2423 - val_acc: 0.8966\n",
      "Epoch 14/20\n",
      "232/232 [==============================] - 0s - loss: 0.1749 - acc: 0.9483 - val_loss: 0.2187 - val_acc: 0.9138\n",
      "Epoch 15/20\n",
      "232/232 [==============================] - 0s - loss: 0.1760 - acc: 0.9483 - val_loss: 0.2064 - val_acc: 0.9310\n",
      "Epoch 16/20\n",
      "232/232 [==============================] - 0s - loss: 0.1592 - acc: 0.9397 - val_loss: 0.2452 - val_acc: 0.9310\n",
      "Epoch 17/20\n",
      "232/232 [==============================] - 0s - loss: 0.1445 - acc: 0.9526 - val_loss: 0.2023 - val_acc: 0.9310\n",
      "Epoch 18/20\n",
      "232/232 [==============================] - 0s - loss: 0.1433 - acc: 0.9440 - val_loss: 0.2134 - val_acc: 0.9310\n",
      "Epoch 19/20\n",
      "232/232 [==============================] - 0s - loss: 0.1387 - acc: 0.9483 - val_loss: 0.2249 - val_acc: 0.9483\n",
      "Epoch 20/20\n",
      "232/232 [==============================] - 0s - loss: 0.1258 - acc: 0.9526 - val_loss: 0.2112 - val_acc: 0.9310\n"
     ]
    }
   ],
   "source": [
    "# Train the network\n",
    "loss_hiss=mlp.fit(X_tr, Y_tr, epochs=20, validation_split=0.2, verbose=1)"
   ]
  },
  {
   "cell_type": "code",
   "execution_count": 31,
   "metadata": {},
   "outputs": [],
   "source": [
    "def plot_mlp_loss_history(histories, pic_file):\n",
    "    fig=plt.figure(figsize=(8,5))\n",
    "\n",
    "    plt.plot(histories.history[\"loss\"], label=\"training\")\n",
    "    plt.plot(histories.history[\"val_loss\"], label=\"validation\")\n",
    "    plt.title(\"MLP Training and Validation MSE\")\n",
    "    plt.legend()\n",
    "\n",
    "    plt.show ()\n",
    "    \n",
    "    fig.savefig(\"%s%s_ae_loss.png\" % (VAR.out_path, pic_file), \\\n",
    "                bbox_inches='tight')"
   ]
  },
  {
   "cell_type": "code",
   "execution_count": 32,
   "metadata": {},
   "outputs": [
    {
     "data": {
      "image/png": "[encoded data removed]",
      "text/plain": [
       "<matplotlib.figure.Figure at 0x117c7beb8>"
      ]
     },
     "metadata": {
      "needs_background": "light"
     },
     "output_type": "display_data"
    }
   ],
   "source": [
    "pic_file=\"test_mlp\"\n",
    "plot_mlp_loss_history(loss_hiss, pic_file)"
   ]
  },
  {
   "cell_type": "markdown",
   "metadata": {},
   "source": [
    "### 5-2. Sklearn Neural Network"
   ]
  },
  {
   "cell_type": "code",
   "execution_count": 33,
   "metadata": {},
   "outputs": [],
   "source": [
    "from sklearn.neural_network import MLPClassifier\n",
    "\n",
    "classifier=MLPClassifier(activation = \"tanh\", alpha = 1, hidden_layer_sizes = (14,), \n",
    "                   max_iter = 8000, learning_rate_init = 0.00001, \n",
    "                    solver = \"lbfgs\")"
   ]
  },
  {
   "cell_type": "markdown",
   "metadata": {},
   "source": [
    "### (1) Grid Search\n",
    "The codes and markdown below are originally written by the author for the assignment for CE802 which was submitted to the CSEE Department on 16 January 2019.<br><br>\n",
    "Major parameters to be tuned are:\n",
    "\n",
    "\n",
    "|parameter               |default    |description                                              |\n",
    "|------------------------|-----------|---------------------------------------------------------|\n",
    "|hidden_layer_sizes      |(100,)     |i-th element: numb of neurons in the i-th hidden layer   |\n",
    "|activation              |\"relu\"     |activation function                                      |\n",
    "|solver                  |\"adam\"     |weight optimasation                                      |\n",
    "|alpha                   |0.0001     |regularization parameter                                 |\n",
    "|learning_rate_init      |0.001      |step-size in weights update (solver=’sgd’ or ‘adam’)     |\n",
    "|max_iter                |200        |max num of iterations                                    |\n",
    "|momentum                |0.9        |momentum for gradient descent update (range (0, 1), solver=’sgd’|"
   ]
  },
  {
   "cell_type": "code",
   "execution_count": null,
   "metadata": {},
   "outputs": [],
   "source": [
    "from sklearn.model_selection import \\\n",
    "    GridSearchCV, cross_val_score, KFold, ShuffleSplit\n",
    "from statistics import mode\n",
    "\n",
    "Hs=[(100,), (14, ), (28, ), (42, ), (56, )]\n",
    "ACTs=[\"identity\", \"logistic\", \"tanh\", \"relu\"]\n",
    "SLOs=[\"lbfgs\", \"sgd\", \"adam\"]\n",
    "ALPHAs=np.logspace (-5, 1, 7)\n",
    "ITRs=np.linspace (6000, 10000, 5, dtype = int)\n",
    "ETAs=np.logspace (-5, -3, 3)\n",
    "\n",
    "param_grid = dict (activation = ACTs, solver = SLOs)\n",
    "# max_iter = ITRs, learning_rate_init = ETAs, alpha = ALPHAs\n",
    "# , , hidden_layer_sizes = Hs\n",
    "print (param_grid)"
   ]
  },
  {
   "cell_type": "code",
   "execution_count": null,
   "metadata": {},
   "outputs": [],
   "source": [
    "clf=GridSearchCV(estimator=classifier, param_grid=param_grid, n_jobs=-1,\n",
    "                    cv=ShuffleSplit())"
   ]
  },
  {
   "cell_type": "code",
   "execution_count": null,
   "metadata": {},
   "outputs": [],
   "source": [
    "score, bests, lbs, means, modes = [], [], [], [], []\n",
    "n_splits=10\n",
    "k_fold=KFold (n_splits=n_splits)\n",
    "\n",
    "grd = 1\n",
    "for tr, te in k_fold.split (X):\n",
    "    print (\"\\rProgress [%s%s]\" % \n",
    "           (grd * \"# \", (n_splits - grd) * \". \"), end = \"\")\n",
    "    grd += 1\n",
    "    best = []\n",
    "    \n",
    "    clf.fit (X[tr], y[tr])\n",
    "    score.append (clf.score(X[te], y[te]))\n",
    "\n",
    "    for key in param_grid.keys ():\n",
    "        method = getattr(clf.best_estimator_, key)\n",
    "        best.append (method)\n",
    "        if len (lbs) != len (param_grid): lbs.append (\"Best %s\" % key)\n",
    "    best.append (score[-1])\n",
    "    bests.append (best)\n",
    "\n",
    "lbs.append (\"Fold Accuracy\")\n",
    "\n",
    "# append mean and mode\n",
    "for k in range (len (bests[0])):\n",
    "    avgs = (np.array (bests)[:, k]).tolist()\n",
    "    try:    modes.append (mode (avgs))\n",
    "    except: modes.append (\"N/A\")\n",
    "\n",
    "    try:    means.append (np.mean ([float (avg) for avg in avgs]))\n",
    "    except: means.append (\"N/A\")\n",
    "\n",
    "index = [\"Fold-%d\" % fold for fold in (range (1, grd))]\n",
    "for add1, add2 in zip ([[\"---\"] * (len (param_grid) + 1), means, modes], \n",
    "                       [\"---\", \"mean\", \"modes\"]):\n",
    "    bests.append (add1)\n",
    "    index.append (add2)"
   ]
  },
  {
   "cell_type": "code",
   "execution_count": null,
   "metadata": {},
   "outputs": [],
   "source": [
    "# display best scores\n",
    "print (\"\\n\")\n",
    "d = pd.DataFrame (bests, index=index, columns=lbs)\n",
    "print (d)\n",
    "\n",
    "# export the results to a file\n",
    "from datetime import datetime\n",
    "now = datetime.now().strftime(\"%Y%m%d_%H%M%S\")\n",
    "mystr = input (\">>> Enter the type of predictor (for file name): \")\n",
    "d.to_csv (\"GridSearch_%s_%s.csv\" % (mystr, now), header = lbs, \n",
    "          index = index, sep = \",\", mode = \"a\")\n",
    "print (\"[  O K  ] The result of Grid Search is exported to \"\n",
    "       \"<GridSearch_%s_%s.csv>.\" % (mystr, now))"
   ]
  },
  {
   "cell_type": "markdown",
   "metadata": {},
   "source": [
    "### (2) Train the network"
   ]
  },
  {
   "cell_type": "code",
   "execution_count": 35,
   "metadata": {},
   "outputs": [
    {
     "data": {
      "text/plain": [
       "MLPClassifier(activation='tanh', alpha=1, batch_size='auto', beta_1=0.9,\n",
       "       beta_2=0.999, early_stopping=False, epsilon=1e-08,\n",
       "       hidden_layer_sizes=(14,), learning_rate='constant',\n",
       "       learning_rate_init=1e-05, max_iter=8000, momentum=0.9,\n",
       "       n_iter_no_change=10, nesterovs_momentum=True, power_t=0.5,\n",
       "       random_state=None, shuffle=True, solver='lbfgs', tol=0.0001,\n",
       "       validation_fraction=0.1, verbose=False, warm_start=False)"
      ]
     },
     "execution_count": 35,
     "metadata": {},
     "output_type": "execute_result"
    }
   ],
   "source": [
    "classifier.fit(X_tr, Y_tr) "
   ]
  },
  {
   "cell_type": "markdown",
   "metadata": {},
   "source": [
    "### (3) Prediction and Evaluation"
   ]
  },
  {
   "cell_type": "code",
   "execution_count": 36,
   "metadata": {},
   "outputs": [
    {
     "ename": "ValueError",
     "evalue": "Found array with 0 sample(s) (shape=(0, 30)) while a minimum of 1 is required.",
     "output_type": "error",
     "traceback": [
      "\u001b[0;31m---------------------------------------------------------------------------\u001b[0m",
      "\u001b[0;31mValueError\u001b[0m                                Traceback (most recent call last)",
      "\u001b[0;32m<ipython-input-36-cb60603310a6>\u001b[0m in \u001b[0;36m<module>\u001b[0;34m\u001b[0m\n\u001b[0;32m----> 1\u001b[0;31m \u001b[0mpred\u001b[0m\u001b[0;34m=\u001b[0m\u001b[0mclassifier\u001b[0m\u001b[0;34m.\u001b[0m\u001b[0mpredict\u001b[0m\u001b[0;34m(\u001b[0m\u001b[0mX_te\u001b[0m\u001b[0;34m)\u001b[0m\u001b[0;34m\u001b[0m\u001b[0m\n\u001b[0m\u001b[1;32m      2\u001b[0m \u001b[0;34m\u001b[0m\u001b[0m\n\u001b[1;32m      3\u001b[0m \u001b[0;31m# for multi class tasks, decode the class attribute\u001b[0m\u001b[0;34m\u001b[0m\u001b[0;34m\u001b[0m\u001b[0m\n\u001b[1;32m      4\u001b[0m \u001b[0mpred_df\u001b[0m\u001b[0;34m=\u001b[0m\u001b[0mpd\u001b[0m\u001b[0;34m.\u001b[0m\u001b[0mDataFrame\u001b[0m\u001b[0;34m(\u001b[0m\u001b[0mpred\u001b[0m\u001b[0;34m,\u001b[0m \u001b[0mcolumns\u001b[0m\u001b[0;34m=\u001b[0m\u001b[0munique_labels\u001b[0m\u001b[0;34m)\u001b[0m\u001b[0;34m\u001b[0m\u001b[0m\n\u001b[1;32m      5\u001b[0m \u001b[0mpred\u001b[0m\u001b[0;34m=\u001b[0m\u001b[0mpred_df\u001b[0m\u001b[0;34m.\u001b[0m\u001b[0midxmax\u001b[0m\u001b[0;34m(\u001b[0m\u001b[0maxis\u001b[0m\u001b[0;34m=\u001b[0m\u001b[0;36m1\u001b[0m\u001b[0;34m)\u001b[0m\u001b[0;34m\u001b[0m\u001b[0m\n",
      "\u001b[0;32m/Library/Frameworks/Python.framework/Versions/3.6/lib/python3.6/site-packages/sklearn/neural_network/multilayer_perceptron.py\u001b[0m in \u001b[0;36mpredict\u001b[0;34m(self, X)\u001b[0m\n\u001b[1;32m    951\u001b[0m         \"\"\"\n\u001b[1;32m    952\u001b[0m         \u001b[0mcheck_is_fitted\u001b[0m\u001b[0;34m(\u001b[0m\u001b[0mself\u001b[0m\u001b[0;34m,\u001b[0m \u001b[0;34m\"coefs_\"\u001b[0m\u001b[0;34m)\u001b[0m\u001b[0;34m\u001b[0m\u001b[0m\n\u001b[0;32m--> 953\u001b[0;31m         \u001b[0my_pred\u001b[0m \u001b[0;34m=\u001b[0m \u001b[0mself\u001b[0m\u001b[0;34m.\u001b[0m\u001b[0m_predict\u001b[0m\u001b[0;34m(\u001b[0m\u001b[0mX\u001b[0m\u001b[0;34m)\u001b[0m\u001b[0;34m\u001b[0m\u001b[0m\n\u001b[0m\u001b[1;32m    954\u001b[0m \u001b[0;34m\u001b[0m\u001b[0m\n\u001b[1;32m    955\u001b[0m         \u001b[0;32mif\u001b[0m \u001b[0mself\u001b[0m\u001b[0;34m.\u001b[0m\u001b[0mn_outputs_\u001b[0m \u001b[0;34m==\u001b[0m \u001b[0;36m1\u001b[0m\u001b[0;34m:\u001b[0m\u001b[0;34m\u001b[0m\u001b[0m\n",
      "\u001b[0;32m/Library/Frameworks/Python.framework/Versions/3.6/lib/python3.6/site-packages/sklearn/neural_network/multilayer_perceptron.py\u001b[0m in \u001b[0;36m_predict\u001b[0;34m(self, X)\u001b[0m\n\u001b[1;32m    656\u001b[0m             \u001b[0mThe\u001b[0m \u001b[0mdecision\u001b[0m \u001b[0mfunction\u001b[0m \u001b[0mof\u001b[0m \u001b[0mthe\u001b[0m \u001b[0msamples\u001b[0m \u001b[0;32mfor\u001b[0m \u001b[0meach\u001b[0m \u001b[0;32mclass\u001b[0m \u001b[0;32min\u001b[0m \u001b[0mthe\u001b[0m \u001b[0mmodel\u001b[0m\u001b[0;34m.\u001b[0m\u001b[0;34m\u001b[0m\u001b[0m\n\u001b[1;32m    657\u001b[0m         \"\"\"\n\u001b[0;32m--> 658\u001b[0;31m         \u001b[0mX\u001b[0m \u001b[0;34m=\u001b[0m \u001b[0mcheck_array\u001b[0m\u001b[0;34m(\u001b[0m\u001b[0mX\u001b[0m\u001b[0;34m,\u001b[0m \u001b[0maccept_sparse\u001b[0m\u001b[0;34m=\u001b[0m\u001b[0;34m[\u001b[0m\u001b[0;34m'csr'\u001b[0m\u001b[0;34m,\u001b[0m \u001b[0;34m'csc'\u001b[0m\u001b[0;34m,\u001b[0m \u001b[0;34m'coo'\u001b[0m\u001b[0;34m]\u001b[0m\u001b[0;34m)\u001b[0m\u001b[0;34m\u001b[0m\u001b[0m\n\u001b[0m\u001b[1;32m    659\u001b[0m \u001b[0;34m\u001b[0m\u001b[0m\n\u001b[1;32m    660\u001b[0m         \u001b[0;31m# Make sure self.hidden_layer_sizes is a list\u001b[0m\u001b[0;34m\u001b[0m\u001b[0;34m\u001b[0m\u001b[0m\n",
      "\u001b[0;32m/Library/Frameworks/Python.framework/Versions/3.6/lib/python3.6/site-packages/sklearn/utils/validation.py\u001b[0m in \u001b[0;36mcheck_array\u001b[0;34m(array, accept_sparse, accept_large_sparse, dtype, order, copy, force_all_finite, ensure_2d, allow_nd, ensure_min_samples, ensure_min_features, warn_on_dtype, estimator)\u001b[0m\n\u001b[1;32m    580\u001b[0m                              \u001b[0;34m\" minimum of %d is required%s.\"\u001b[0m\u001b[0;34m\u001b[0m\u001b[0m\n\u001b[1;32m    581\u001b[0m                              % (n_samples, shape_repr, ensure_min_samples,\n\u001b[0;32m--> 582\u001b[0;31m                                 context))\n\u001b[0m\u001b[1;32m    583\u001b[0m \u001b[0;34m\u001b[0m\u001b[0m\n\u001b[1;32m    584\u001b[0m     \u001b[0;32mif\u001b[0m \u001b[0mensure_min_features\u001b[0m \u001b[0;34m>\u001b[0m \u001b[0;36m0\u001b[0m \u001b[0;32mand\u001b[0m \u001b[0marray\u001b[0m\u001b[0;34m.\u001b[0m\u001b[0mndim\u001b[0m \u001b[0;34m==\u001b[0m \u001b[0;36m2\u001b[0m\u001b[0;34m:\u001b[0m\u001b[0;34m\u001b[0m\u001b[0m\n",
      "\u001b[0;31mValueError\u001b[0m: Found array with 0 sample(s) (shape=(0, 30)) while a minimum of 1 is required."
     ]
    }
   ],
   "source": [
    "pred=classifier.predict(X_te)\n",
    "\n",
    "# for multi class tasks, decode the class attribute\n",
    "pred_df=pd.DataFrame(pred, columns=unique_labels)\n",
    "pred=pred_df.idxmax(axis=1)"
   ]
  },
  {
   "cell_type": "markdown",
   "metadata": {},
   "source": []
  },
  {
   "cell_type": "markdown",
   "metadata": {},
   "source": [
    "## 6. Evaluation\n",
    "### 6-1. Cross Validation"
   ]
  },
  {
   "cell_type": "code",
   "execution_count": null,
   "metadata": {},
   "outputs": [],
   "source": [
    "from keras.wrappers.scikit_learn import KerasClassifier\n",
    "from sklearn.model_selection import cross_val_score\n",
    "\n",
    "estimator=KerasClassifier(build_fn=classifier, num_out=num_out, finetune=False, epochs=100, verbose=0)\n",
    "scores=cross_val_score(estimator, X, y, cv=5)#, n_jobs=-1)"
   ]
  },
  {
   "cell_type": "code",
   "execution_count": null,
   "metadata": {},
   "outputs": [],
   "source": [
    "print(\"Accuracy (95%% confidence interval): %0.2f (+/- %0.2f)\" % (scores.mean(), scores.std() * 2))"
   ]
  },
  {
   "cell_type": "markdown",
   "metadata": {},
   "source": [
    "### 6-2. Various evaluation metrics on test data"
   ]
  },
  {
   "cell_type": "code",
   "execution_count": null,
   "metadata": {},
   "outputs": [],
   "source": [
    "from sklearn import metrics\n",
    "import pandas as pd\n",
    "\n",
    "print (\"\\n< Classification Report >\")\n",
    "print (metrics.classification_report (cls_te, pred, digits = 5))\n",
    "\n",
    "print (\"\\n< Confusion Matrix >\")\n",
    "print (pd.DataFrame (metrics.confusion_matrix(cls_te, pred)))\n",
    "print (\"Accuracy: %f\" % metrics.accuracy_score (cls_te, pred))\n",
    "\n",
    "print (\"\\n< Kappa Statistic >\")\n",
    "print (metrics.cohen_kappa_score (cls_te, pred))\n",
    "\n",
    "CLS.plot_confusion_matrix(cls_te, pred, unique_labels, \"test\", \"NN\", \"NN\")"
   ]
  },
  {
   "cell_type": "code",
   "execution_count": null,
   "metadata": {},
   "outputs": [],
   "source": []
  },
  {
   "cell_type": "markdown",
   "metadata": {},
   "source": [
    "### 2-4. Classification with other procedures"
   ]
  },
  {
   "cell_type": "markdown",
   "metadata": {},
   "source": [
    "#### (1) Decision Tree"
   ]
  },
  {
   "cell_type": "code",
   "execution_count": null,
   "metadata": {},
   "outputs": [],
   "source": [
    "title = \"%s_Decision_Tree (%d)\" % (pic_file, len(X))\n",
    "true_label, pred_label, clf = CLS.train (feat_te_compressed, cls_te, 0, 0)\n",
    "#CLS.plot_confusion_matrix(true_label, pred_label, unique_labels, pic_file, title, \"Decision_Tree\")\n",
    "clf"
   ]
  },
  {
   "cell_type": "markdown",
   "metadata": {},
   "source": [
    "#### (2) Naive Bayes"
   ]
  },
  {
   "cell_type": "code",
   "execution_count": null,
   "metadata": {},
   "outputs": [],
   "source": [
    "title = \"%s_Naive Bayes (%d)\" % (pic_file, len(X))\n",
    "true_label, pred_label, clf = CLS.train (feat_te_compressed, cls_te, 1, 0)\n",
    "#CLS.plot_confusion_matrix(true_label, pred_label, unique_labels, pic_file, title, \"Naive Bayes\")\n",
    "clf"
   ]
  },
  {
   "cell_type": "markdown",
   "metadata": {},
   "source": [
    "#### (3) SVM"
   ]
  },
  {
   "cell_type": "code",
   "execution_count": null,
   "metadata": {
    "scrolled": true
   },
   "outputs": [],
   "source": [
    "title = \"%s_SVM (%d)\" % (pic_file, len(X))\n",
    "true_label, pred_label, clf = CLS.train (feat_te_compressed, cls_te, 2, data_id)\n",
    "#CLS.plot_confusion_matrix(true_label, pred_label, unique_labels, pic_file, title, \"SVM\")\n",
    "clf"
   ]
  },
  {
   "cell_type": "code",
   "execution_count": null,
   "metadata": {},
   "outputs": [],
   "source": []
  }
 ],
 "metadata": {
  "kernelspec": {
   "display_name": "Python 3",
   "language": "python",
   "name": "python3"
  },
  "language_info": {
   "codemirror_mode": {
    "name": "ipython",
    "version": 3
   },
   "file_extension": ".py",
   "mimetype": "text/x-python",
   "name": "python",
   "nbconvert_exporter": "python",
   "pygments_lexer": "ipython3",
   "version": "3.6.4"
  }
 },
 "nbformat": 4,
 "nbformat_minor": 2
}

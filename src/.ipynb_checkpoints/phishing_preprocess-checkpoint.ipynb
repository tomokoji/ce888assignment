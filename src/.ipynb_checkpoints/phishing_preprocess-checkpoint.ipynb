{
 "cells": [
  {
   "cell_type": "markdown",
   "metadata": {},
   "source": [
    "# CE888 Assignment 1\n",
    "\n",
    "This code is written as part of requirments of CE888 Data Science and Decision Making for Task 1 of Project 1.\n",
    "\n",
    "**Author**          : Tomoko Ayakawa<br> \n",
    "**Created on**      : 5 February 2019<br> \n",
    "**Last modified on**: 6 February 2019<br> "
   ]
  },
  {
   "cell_type": "code",
   "execution_count": null,
   "metadata": {},
   "outputs": [],
   "source": [
    "import pandas as pd \n",
    "import seaborn as sns\n",
    "import numpy as np\n",
    "import matplotlib.pyplot as plt\n",
    "\n",
    "import load_phishing as PHS"
   ]
  },
  {
   "cell_type": "code",
   "execution_count": null,
   "metadata": {},
   "outputs": [],
   "source": [
    "col_names, data_df = PHS.get_data(\"../data/phishing/Training Dataset.txt\")\n",
    "col_names"
   ]
  },
  {
   "cell_type": "code",
   "execution_count": null,
   "metadata": {},
   "outputs": [],
   "source": [
    "data_df.head(5)"
   ]
  },
  {
   "cell_type": "code",
   "execution_count": null,
   "metadata": {},
   "outputs": [],
   "source": [
    "file = \"../data/phishing/Training Dataset.txt\"\n",
    "with open(file, 'r') as f:\n",
    "    data = f.read()\n",
    "\n",
    "# split data into lines\n",
    "lines = data.split(\"\\n\")"
   ]
  },
  {
   "cell_type": "code",
   "execution_count": null,
   "metadata": {},
   "outputs": [],
   "source": [
    "# split each lint into cells and obtain feature matrix\n",
    "feature_names = []\n",
    "data = []\n",
    "\n",
    "for line in lines:\n",
    "    if line != \"\":\n",
    "        if line[0] == \"@\":\n",
    "            cells = line.split(\" \")\n",
    "            if cells[0] == \"@attribute\":\n",
    "                feature_names.append(cells[1])\n",
    "        else:\n",
    "            data.append(line.split(\",\"))\n",
    "            \n",
    "# convert the data into DataFrame\n",
    "data_df = pd.DataFrame(data)\n",
    "\n",
    "# replace default column names with feature names\n",
    "data_df.columns = feature_names\n",
    "\n",
    "# replace string representations into numeric values\n",
    "data_df = data_df.replace({\"-1\": -1, \"0\":0, \"1\":1})\n",
    "\n",
    "data_df.shape"
   ]
  },
  {
   "cell_type": "code",
   "execution_count": null,
   "metadata": {},
   "outputs": [],
   "source": [
    "def histogram(data_df):\n",
    "    num_cols = len(data_df.columns)\n",
    "\n",
    "    # convert DataFrame to numpy array\n",
    "    data = data_df.values\n",
    "\n",
    "    # define figure grid\n",
    "    if num_cols < 6: row, col = 1, num_cols\n",
    "    else: row, col = num_cols//4+1, 4\n",
    "\n",
    "    # create figure object\n",
    "    fig = plt.figure(figsize = (col*5, row*3))\n",
    "    \n",
    "    # plot data\n",
    "    for i in range(num_cols):\n",
    "        plt.subplot (row, col, i+1)\n",
    "        plt.title (data_df.columns[i])\n",
    "        sns.distplot(data_df[data_df.columns[i]].values, kde=False, rug=False)"
   ]
  },
  {
   "cell_type": "code",
   "execution_count": null,
   "metadata": {},
   "outputs": [],
   "source": [
    "histogram(data_df)        "
   ]
  },
  {
   "cell_type": "code",
   "execution_count": null,
   "metadata": {},
   "outputs": [],
   "source": [
    "def cr_heatmap(data_np, labels):\n",
    "    size = len(labels) * 0.5\n",
    "    fig = plt.figure(figsize = (size, size))\n",
    "    hm = sns.heatmap(data_np, cbar = True, annot = True, square = True, \n",
    "                     fmt = '.2f', annot_kws = {'size': 8},\n",
    "                     yticklabels = labels,\n",
    "                     xticklabels = labels)\n",
    "    plt.show ()"
   ]
  },
  {
   "cell_type": "code",
   "execution_count": null,
   "metadata": {},
   "outputs": [],
   "source": [
    "# heatmap of the correlation coefficient matrix\n",
    "cr = np.corrcoef (data_df.values.T)\n",
    "cr_heatmap(cr, feature_names)"
   ]
  },
  {
   "cell_type": "code",
   "execution_count": null,
   "metadata": {},
   "outputs": [],
   "source": [
    "def cr_bar_graph (data_np, feature_names):\n",
    "    size_h = len (data_np)*0.5\n",
    "    size_v = size_h * 0.5\n",
    "    \n",
    "    fig = plt.figure (figsize = (size_h, size_v))\n",
    "    index = np.arange (len (data_np))\n",
    "    plt.bar(index, data_np)\n",
    "    plt.title (\"Correlation Coefficient with the Label\", fontsize = 10)\n",
    "    plt.xlabel(\"Features\", fontsize = 10)\n",
    "    plt.xticks(index, feature_names, fontsize = 10, rotation = 90)\n",
    "    plt.show ()"
   ]
  },
  {
   "cell_type": "code",
   "execution_count": null,
   "metadata": {},
   "outputs": [],
   "source": [
    "cr_with_labels = cr[-1][:-1]\n",
    "cr_bar_graph (cr_with_labels, feature_names)"
   ]
  },
  {
   "cell_type": "code",
   "execution_count": null,
   "metadata": {},
   "outputs": [],
   "source": []
  }
 ],
 "metadata": {
  "kernelspec": {
   "display_name": "Python 3",
   "language": "python",
   "name": "python3"
  },
  "language_info": {
   "codemirror_mode": {
    "name": "ipython",
    "version": 3
   },
   "file_extension": ".py",
   "mimetype": "text/x-python",
   "name": "python",
   "nbconvert_exporter": "python",
   "pygments_lexer": "ipython3",
   "version": "3.6.5"
  }
 },
 "nbformat": 4,
 "nbformat_minor": 2
}

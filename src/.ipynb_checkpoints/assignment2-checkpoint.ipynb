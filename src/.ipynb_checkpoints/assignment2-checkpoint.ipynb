{
 "cells": [
  {
   "cell_type": "markdown",
   "metadata": {},
   "source": [
    "# CE888 Assignment 2 for Demo\n",
    "\n",
    "This code is written to demonstarte data analysis made for ce888 assignment 2.\n",
    "\n",
    "**Author**          : Tomoko Ayakawa<br> \n",
    "**Created on**      : 29 March 2019<br> \n",
    "**Last modified on**: 4 April 2019<br> "
   ]
  },
  {
   "cell_type": "code",
   "execution_count": 1,
   "metadata": {},
   "outputs": [],
   "source": [
    "# import open source libraries\n",
    "import pandas as pd \n",
    "import seaborn as sns\n",
    "import numpy as np\n",
    "import matplotlib.pyplot as plt\n",
    "import sys\n",
    "\n",
    "# import original libraries\n",
    "sys.path.append(\"../\")\n",
    "\n",
    "import utility as UTL\n",
    "#import assignment1_main as MAIN\n",
    "import load_data as DATA\n",
    "import histogram as HST\n",
    "from conf import myVariables as VAR\n",
    "import correlation as CRRL\n",
    "import pca as PCA\n",
    "import classifier as CLS\n",
    "import feature_importance as IMP"
   ]
  },
  {
   "cell_type": "markdown",
   "metadata": {},
   "source": [
    "## 1. Load Data\n",
    "Load data from **data** directory.<br>\n",
    "Reading and preprocessing data into pandas.DataFrame are done by respective python files.<br>\n",
    "#### Returned variables<br>\n",
    ">`col_names` : List --- Name of the columns (including target column)<br>\n",
    "`features_df` : DataFrame --- Feature values<br>\n",
    "`targets_df` : DataFrame --- Target values<br>\n",
    "`data_df` : DataFrame --- The whole data containing both features and targets<br>\n",
    "`pic_file`: String --- Prefix for file name (data name + timestamp)<br>\n",
    "`unique_labels` : List --- Column haeders containing feature names and terget name (\"Class\")\n",
    ">\n",
    "\n",
    "#### Select data to load (Argument `data_id`)\n",
    "> 0. Human Activity\n",
    "1. Spam\n",
    "2. Phishing\n",
    ">"
   ]
  },
  {
   "cell_type": "code",
   "execution_count": 2,
   "metadata": {
    "scrolled": true
   },
   "outputs": [
    {
     "name": "stdout",
     "output_type": "stream",
     "text": [
      "{0: 'human activity', 1: 'spam', 2: 'phishing'}0\n"
     ]
    },
    {
     "name": "stderr",
     "output_type": "stream",
     "text": [
      "./sub/load_data.py:52: FutureWarning: convert_objects is deprecated.  To re-infer data dtypes for object columns, use DataFrame.infer_objects()\n",
      "For all other conversions use the data-type specific converters pd.to_datetime, pd.to_timedelta and pd.to_numeric.\n",
      "  data_df = data_df.convert_objects(convert_numeric=True)\n"
     ]
    },
    {
     "name": "stdout",
     "output_type": "stream",
     "text": [
      "Number of NaN: 0\n",
      "Data shape:  (7352, 562)\n",
      "Target labels: ['1' '2' '3' '4' '5' '6']\n",
      "The range of features:                                                 Max       Min\n",
      "1_tBodyAcc-mean()-X                       1.000000 -1.000000\n",
      "2_tBodyAcc-mean()-Y                       1.000000 -1.000000\n",
      "3_tBodyAcc-mean()-Z                       1.000000 -1.000000\n",
      "4_tBodyAcc-std()-X                        1.000000 -1.000000\n",
      "5_tBodyAcc-std()-Y                        0.916238 -0.999873\n",
      "6_tBodyAcc-std()-Z                        1.000000 -1.000000\n",
      "7_tBodyAcc-mad()-X                        1.000000 -1.000000\n",
      "8_tBodyAcc-mad()-Y                        0.967664 -1.000000\n",
      "9_tBodyAcc-mad()-Z                        1.000000 -1.000000\n",
      "10_tBodyAcc-max()-X                       1.000000 -1.000000\n",
      "11_tBodyAcc-max()-Y                       1.000000 -1.000000\n",
      "12_tBodyAcc-max()-Z                       1.000000 -1.000000\n",
      "13_tBodyAcc-min()-X                       1.000000 -1.000000\n",
      "14_tBodyAcc-min()-Y                       1.000000 -1.000000\n",
      "15_tBodyAcc-min()-Z                       1.000000 -1.000000\n",
      "16_tBodyAcc-sma()                         1.000000 -1.000000\n",
      "17_tBodyAcc-energy()-X                    1.000000 -1.000000\n",
      "18_tBodyAcc-energy()-Y                    1.000000 -0.999999\n",
      "19_tBodyAcc-energy()-Z                    1.000000 -1.000000\n",
      "20_tBodyAcc-iqr()-X                       1.000000 -1.000000\n",
      "21_tBodyAcc-iqr()-Y                       1.000000 -1.000000\n",
      "22_tBodyAcc-iqr()-Z                       1.000000 -1.000000\n",
      "23_tBodyAcc-entropy()-X                   0.919662 -1.000000\n",
      "24_tBodyAcc-entropy()-Y                   1.000000 -1.000000\n",
      "25_tBodyAcc-entropy()-Z                   1.000000 -1.000000\n",
      "26_tBodyAcc-arCoeff()-X,1                 1.000000 -0.925897\n",
      "27_tBodyAcc-arCoeff()-X,2                 0.978449 -0.963099\n",
      "28_tBodyAcc-arCoeff()-X,3                 1.000000 -1.000000\n",
      "29_tBodyAcc-arCoeff()-X,4                 1.000000 -0.822053\n",
      "30_tBodyAcc-arCoeff()-Y,1                 1.000000 -1.000000\n",
      "...                                            ...       ...\n",
      "533_fBodyBodyGyroMag-min()                1.000000 -1.000000\n",
      "534_fBodyBodyGyroMag-sma()                1.000000 -1.000000\n",
      "535_fBodyBodyGyroMag-energy()             1.000000 -1.000000\n",
      "536_fBodyBodyGyroMag-iqr()                1.000000 -1.000000\n",
      "537_fBodyBodyGyroMag-entropy()            1.000000 -1.000000\n",
      "538_fBodyBodyGyroMag-maxInds              1.000000 -1.000000\n",
      "539_fBodyBodyGyroMag-meanFreq()           1.000000 -0.997500\n",
      "540_fBodyBodyGyroMag-skewness()           0.969311 -1.000000\n",
      "541_fBodyBodyGyroMag-kurtosis()           0.949350 -1.000000\n",
      "542_fBodyBodyGyroJerkMag-mean()           1.000000 -0.999996\n",
      "543_fBodyBodyGyroJerkMag-std()            1.000000 -1.000000\n",
      "544_fBodyBodyGyroJerkMag-mad()            1.000000 -1.000000\n",
      "545_fBodyBodyGyroJerkMag-max()            1.000000 -1.000000\n",
      "546_fBodyBodyGyroJerkMag-min()            1.000000 -1.000000\n",
      "547_fBodyBodyGyroJerkMag-sma()            1.000000 -0.999996\n",
      "548_fBodyBodyGyroJerkMag-energy()         1.000000 -1.000000\n",
      "549_fBodyBodyGyroJerkMag-iqr()            1.000000 -1.000000\n",
      "550_fBodyBodyGyroJerkMag-entropy()        1.000000 -1.000000\n",
      "551_fBodyBodyGyroJerkMag-maxInds          0.968254 -1.000000\n",
      "552_fBodyBodyGyroJerkMag-meanFreq()       0.946700 -1.000000\n",
      "553_fBodyBodyGyroJerkMag-skewness()       0.989538 -0.995357\n",
      "554_fBodyBodyGyroJerkMag-kurtosis()       0.956845 -0.999765\n",
      "555_angle(tBodyAccMean,gravity)           1.000000 -0.976580\n",
      "556_angle(tBodyAccJerkMean),gravityMean)  1.000000 -1.000000\n",
      "557_angle(tBodyGyroMean,gravityMean)      0.998702 -1.000000\n",
      "558_angle(tBodyGyroJerkMean,gravityMean)  0.996078 -1.000000\n",
      "559_angle(X,gravityMean)                  1.000000 -1.000000\n",
      "560_angle(Y,gravityMean)                  0.478157 -1.000000\n",
      "561_angle(Z,gravityMean)                  1.000000 -1.000000\n",
      "Class                                     6.000000  1.000000\n",
      "\n",
      "[562 rows x 2 columns]\n"
     ]
    }
   ],
   "source": [
    "data_list={0: \"human activity\", 1: \"spam\", 2: \"phishing\"}\n",
    "data_id = int(input(data_list))\n",
    "\n",
    "col_names, features_df, targets_df, data_df, pic_file = DATA.load_data(data_id=data_id)\n",
    "unique_labels = DATA.verify_data(data_df, targets_df)"
   ]
  },
  {
   "cell_type": "code",
   "execution_count": null,
   "metadata": {},
   "outputs": [],
   "source": [
    "#display the first 5 rows of the selected data\n",
    "data_df.head(5)"
   ]
  },
  {
   "cell_type": "markdown",
   "metadata": {},
   "source": [
    "## 2. Pre-process the data\n",
    "### 2-1. Obtain the small data\n",
    "`get_small_data` returns the specified number of samples. <br>\n",
    "If `min_samples` is **None**, then **50 + 8\\*num_cols** samples will be returned."
   ]
  },
  {
   "cell_type": "code",
   "execution_count": 5,
   "metadata": {},
   "outputs": [
    {
     "name": "stdout",
     "output_type": "stream",
     "text": [
      "Enter the number of samples to use (Total: 7352): 100\n",
      "ratio: 0.013601741022850925\n",
      "Minimul size of the data for 562 features: 100\n",
      "The size of the data used for classification: 100\n"
     ]
    }
   ],
   "source": [
    "min_samples=int(input(\"Enter the number of samples to use (Total: %d): \" % data_df.shape[0]))\n",
    "features, classes=UTL.get_small_data(data_df.values, targets_df.values, min_samples=min_samples)"
   ]
  },
  {
   "cell_type": "markdown",
   "metadata": {},
   "source": [
    "### 2-2. Fit the scaler and transform the data"
   ]
  },
  {
   "cell_type": "code",
   "execution_count": 9,
   "metadata": {},
   "outputs": [],
   "source": [
    "def pre_processing(X, mode):   \n",
    "    from sklearn.preprocessing import \\\n",
    "        MinMaxScaler, QuantileTransformer, StandardScaler\n",
    "    \n",
    "    # fit the scalar\n",
    "    if mode==0:\n",
    "        scl=None\n",
    "        X_nrm=X\n",
    "    else:\n",
    "        if mode==1: scl=MinMaxScaler()\n",
    "        if mode==2: scl=QuantileTransformer(output_distribution=\"normal\")\n",
    "        if mode==3: scl=StandardScaler()\n",
    "        scl.fit(X)\n",
    "        X_nrm=scl.transform(X)\n",
    "    \n",
    "    print(\"Scaler:\", scl)\n",
    "    \n",
    "    return scl, X_nrm"
   ]
  },
  {
   "cell_type": "code",
   "execution_count": 93,
   "metadata": {},
   "outputs": [
    {
     "name": "stdout",
     "output_type": "stream",
     "text": [
      "Select the scaler 0 (None), 1 (MinMax), 2 (Quantile), 3 (Standard): 0\n",
      "Scaler: None\n"
     ]
    },
    {
     "data": {
      "text/plain": [
       "array([[ 0.2301819 , -0.03903564, -0.06595503, ..., -0.33675597,\n",
       "        -0.65147245,  6.        ],\n",
       "       [ 0.18817546, -0.03356478, -0.09779167, ...,  0.16044214,\n",
       "         0.01485896,  3.        ],\n",
       "       [ 0.26902148, -0.01668537, -0.1085458 , ..., -0.89608056,\n",
       "        -0.09523919,  6.        ],\n",
       "       [ 0.33584724,  0.01144556, -0.08003737, ...,  0.28283857,\n",
       "         0.08020741,  3.        ],\n",
       "       [ 0.26001824, -0.00849105, -0.11758838, ...,  0.11375537,\n",
       "         0.10016997,  4.        ]])"
      ]
     },
     "execution_count": 93,
     "metadata": {},
     "output_type": "execute_result"
    }
   ],
   "source": [
    "scaler=int(input(\"Select the scaler 0 (None), 1 (MinMax), 2 (Quantile), 3 (Standard): \"))\n",
    "\n",
    "scl_features, features_nrm=pre_processing(features, scaler)\n",
    "features_nrm[:5]"
   ]
  },
  {
   "cell_type": "markdown",
   "metadata": {},
   "source": [
    "### 2-3. Check the distribution of pre-processed data"
   ]
  },
  {
   "cell_type": "code",
   "execution_count": 13,
   "metadata": {},
   "outputs": [
    {
     "name": "stderr",
     "output_type": "stream",
     "text": [
      "/Library/Frameworks/Python.framework/Versions/3.6/lib/python3.6/site-packages/scipy/stats/stats.py:1713: FutureWarning: Using a non-tuple sequence for multidimensional indexing is deprecated; use `arr[tuple(seq)]` instead of `arr[seq]`. In the future this will be interpreted as an array index, `arr[np.array(seq)]`, which will result either in an error or a different result.\n",
      "  return np.add.reduce(sorted[indexer] * weights, axis=axis) / sumval\n"
     ]
    },
    {
     "data": {
      "image/png": "[encoded data removed]",
      "text/plain": [
       "<matplotlib.figure.Figure at 0x13e5dc828>"
      ]
     },
     "metadata": {
      "needs_background": "light"
     },
     "output_type": "display_data"
    }
   ],
   "source": [
    "pic_file=\"test\"\n",
    "nrm_pd=pd.DataFrame(features_nrm)\n",
    "HST.histogram(nrm_pd[nrm_pd.columns[:10]], pic_file, \"_features\")"
   ]
  },
  {
   "cell_type": "markdown",
   "metadata": {},
   "source": [
    "## 3. Split the training dataset"
   ]
  },
  {
   "cell_type": "code",
   "execution_count": 94,
   "metadata": {},
   "outputs": [],
   "source": [
    "def split_data(X, y, test_size=0.2):\n",
    "    from sklearn.model_selection import train_test_split\n",
    "    \n",
    "    X_tr, X_te, Y_tr, Y_te=train_test_split(X, y, test_size=test_size)\n",
    "    print(\"Training: %d, Test: %d\" % (len(X_tr), len(X_te)))\n",
    "    \n",
    "    return X_tr, X_te, Y_tr, Y_te"
   ]
  },
  {
   "cell_type": "code",
   "execution_count": 200,
   "metadata": {},
   "outputs": [
    {
     "name": "stdout",
     "output_type": "stream",
     "text": [
      "Enter the test_size (0<test_size<1): 0.2\n",
      "Training: 80, Test: 20\n"
     ]
    }
   ],
   "source": [
    "test_size=float(input(\"Enter the test_size (0<test_size<1): \"))\n",
    "feat_tr, feat_te, cls_tr, cls_te=split_data(features_nrm, classes, test_size=test_size)"
   ]
  },
  {
   "cell_type": "markdown",
   "metadata": {},
   "source": [
    "## 4. Build an Autoencoder\n",
    "### 4-1. Define the parameters\n",
    "- `num_outs`: number of outputs\n",
    "- `act_funcs`:activation functions\n",
    "- `opt`:optimiser\n",
    "- `loss`: loss function\n",
    "- `tr_epoch`: training epoch\n",
    "- `ver`: verbose"
   ]
  },
  {
   "cell_type": "code",
   "execution_count": 96,
   "metadata": {},
   "outputs": [],
   "source": [
    "num_outs = [55, 35, 15, 10]\n",
    "act_funcs = [\"relu\"] * len (num_outs) \n",
    "opt=\"adam\"\n",
    "loss=\"mse\"\n",
    "tr_epoch=100\n",
    "ver=0"
   ]
  },
  {
   "cell_type": "markdown",
   "metadata": {},
   "source": [
    "### 4-2. Build a stacked autoencoder"
   ]
  },
  {
   "cell_type": "code",
   "execution_count": 265,
   "metadata": {},
   "outputs": [],
   "source": [
    "def stacked_autoencoder(X, epochs=20, verbose=1): \n",
    "    from keras.models import Sequential, Model\n",
    "    from keras.layers import Dense, Input\n",
    "    from keras.optimizers import Adam\n",
    "    from keras.layers.advanced_activations import PReLU\n",
    "    import warnings\n",
    "    \n",
    "    # ignore warnings\n",
    "    warnings.filterwarnings(\"ignore\")\n",
    "\n",
    "    #create an input holder\n",
    "    num_features=len(X[0])\n",
    "    input_holder=Input(shape=(num_features,))\n",
    "        \n",
    "    #initialise the variables\n",
    "    num_outs.insert(0, num_features)\n",
    "    tmp_holder = input_holder\n",
    "    tr_data=X\n",
    "    encoders = []\n",
    "    loss_hiss = []\n",
    "\n",
    "    #train encoder layers\n",
    "    for i in range(len(act_funcs)):\n",
    "        print(\"Training Layer %d/%d ...\" % (i+1, len(act_funcs)))\n",
    "        encode=Dense(num_outs[i+1], input_dim=num_outs[i], \\\n",
    "                       activation=act_funcs [i])(tmp_holder)\n",
    "        decode=Dense(num_outs[i], input_dim=num_outs[i+1], \\\n",
    "                       activation=act_funcs[i])(encode)\n",
    "        encoder=Model(input=tmp_holder, output=decode)\n",
    "        encoder.compile(optimizer=opt, loss=loss)\n",
    "    \n",
    "        # train a layer\n",
    "        loss_his=encoder.fit(tr_data, tr_data, epochs=epochs, verbose=verbose)\n",
    "        loss_hiss.append(loss_his)\n",
    "        \n",
    "        # use output of the layer as next training input\n",
    "        encoder = Model(input=tmp_holder, output=encode)\n",
    "        tr_data=encoder.predict(tr_data)\n",
    "        \n",
    "        # update the input_holder\n",
    "        tmp_holder=Input(shape=(num_outs[i+1],))\n",
    "    \n",
    "        # store the trainined layer in a list\n",
    "        encoders.append(encoder)\n",
    "        \n",
    "    # connect traind encoder layers as 'encode'\n",
    "    encoder=Sequential()\n",
    "    for e in encoders:\n",
    "        encoder.add (e)\n",
    "        \n",
    "    return encoder, loss_hiss"
   ]
  },
  {
   "cell_type": "markdown",
   "metadata": {},
   "source": [
    "### 4-3. Display the autoencoder summary"
   ]
  },
  {
   "cell_type": "code",
   "execution_count": 266,
   "metadata": {},
   "outputs": [
    {
     "name": "stdout",
     "output_type": "stream",
     "text": [
      "Training Layer 1/4 ...\n",
      "Training Layer 2/4 ...\n",
      "Training Layer 3/4 ...\n",
      "Training Layer 4/4 ...\n",
      "_________________________________________________________________\n",
      "Layer (type)                 Output Shape              Param #   \n",
      "=================================================================\n",
      "model_42 (Model)             (None, 562)               316406    \n",
      "_________________________________________________________________\n",
      "model_44 (Model)             (None, 562)               316406    \n",
      "_________________________________________________________________\n",
      "model_46 (Model)             (None, 562)               316406    \n",
      "_________________________________________________________________\n",
      "model_48 (Model)             (None, 55)                30965     \n",
      "=================================================================\n",
      "Total params: 980,183\n",
      "Trainable params: 980,183\n",
      "Non-trainable params: 0\n",
      "_________________________________________________________________\n"
     ]
    }
   ],
   "source": [
    "encoder, loss_hiss=stacked_autoencoder(feat_tr, epochs=tr_epoch, verbose=ver)\n",
    "encoder.summary()"
   ]
  },
  {
   "cell_type": "markdown",
   "metadata": {},
   "source": [
    "### 4-4. Display the training history"
   ]
  },
  {
   "cell_type": "code",
   "execution_count": 25,
   "metadata": {},
   "outputs": [],
   "source": [
    "def plot_loss_history(histories, pic_file):\n",
    "    fig=plt.figure(figsize=(15,10))\n",
    "    \n",
    "    for i in range(len(loss_hiss)):\n",
    "        plt.subplot(2, 2, i+1)\n",
    "        plt.plot(loss_hiss[i].history[\"loss\"])\n",
    "        plt.title(\"Layer %d Training Loss\" % (i+1))\n",
    "    \n",
    "    \n",
    "    plt.show ()\n",
    "    \n",
    "    fig.savefig(\"%s%s_ae_loss.png\" % (VAR.out_path, pic_file), \\\n",
    "                bbox_inches='tight')"
   ]
  },
  {
   "cell_type": "code",
   "execution_count": 26,
   "metadata": {},
   "outputs": [
    {
     "data": {
      "image/png": "[encoded data removed]",
      "text/plain": [
       "<matplotlib.figure.Figure at 0x11fd9ac18>"
      ]
     },
     "metadata": {
      "needs_background": "light"
     },
     "output_type": "display_data"
    }
   ],
   "source": [
    "plot_loss_history(loss_hiss, pic_file=\"test\")"
   ]
  },
  {
   "cell_type": "markdown",
   "metadata": {},
   "source": [
    "### 4-4. Extract features from the datasets"
   ]
  },
  {
   "cell_type": "code",
   "execution_count": 47,
   "metadata": {},
   "outputs": [],
   "source": [
    "feat_tr_compressed=encoder.predict(feat_tr)\n",
    "feat_te_compressed=encoder.predict(feat_te)"
   ]
  },
  {
   "cell_type": "markdown",
   "metadata": {},
   "source": [
    "### 4-5. Plot the data in 3D (Decrease dimentionality using PCA)"
   ]
  },
  {
   "cell_type": "code",
   "execution_count": 29,
   "metadata": {},
   "outputs": [
    {
     "data": {
      "image/png": "[encoded data removed]",
      "text/plain": [
       "<matplotlib.figure.Figure at 0x120949160>"
      ]
     },
     "metadata": {
      "needs_background": "light"
     },
     "output_type": "display_data"
    }
   ],
   "source": [
    "%matplotlib inline\n",
    "PCA.pca(feat_tr_compressed, cls_tr, unique_labels, pic_file)"
   ]
  },
  {
   "cell_type": "markdown",
   "metadata": {},
   "source": [
    "### 4-6. Train discriminative neural network\n",
    "#### (1) Keral Multiclass classifier\n",
    "This model is developed in reference to [Multi-Class Classification Tutorial with the Keras Deep Learning Library ](https://machinelearningmastery.com/multi-class-classification-tutorial-keras-deep-learning-library/)."
   ]
  },
  {
   "cell_type": "code",
   "execution_count": 287,
   "metadata": {},
   "outputs": [],
   "source": [
    "def classifier(finetune=True):\n",
    "    from keras.models import Sequential\n",
    "    from keras.layers import Dense, Input\n",
    "\n",
    "    model=Sequential()\n",
    "    for e in encoder.layers:\n",
    "        e.trainable=finetune\n",
    "        model.add(e)\n",
    "    model.add(Dense(30, input_dim=num_outs[-1], activation='relu'))\n",
    "    model.add(Dense(6, activation='softmax'))\n",
    "\n",
    "    model.compile(loss='categorical_crossentropy', optimizer='adam', metrics=['accuracy'])    \n",
    "    \n",
    "    return model"
   ]
  },
  {
   "cell_type": "code",
   "execution_count": 288,
   "metadata": {},
   "outputs": [
    {
     "name": "stdout",
     "output_type": "stream",
     "text": [
      "_________________________________________________________________\n",
      "Layer (type)                 Output Shape              Param #   \n",
      "=================================================================\n",
      "model_42 (Model)             (None, 562)               316406    \n",
      "_________________________________________________________________\n",
      "model_44 (Model)             (None, 562)               316406    \n",
      "_________________________________________________________________\n",
      "model_46 (Model)             (None, 562)               316406    \n",
      "_________________________________________________________________\n",
      "model_48 (Model)             (None, 55)                30965     \n",
      "_________________________________________________________________\n",
      "dense_445 (Dense)            (None, 30)                1680      \n",
      "_________________________________________________________________\n",
      "dense_446 (Dense)            (None, 6)                 186       \n",
      "=================================================================\n",
      "Total params: 982,049\n",
      "Trainable params: 982,049\n",
      "Non-trainable params: 0\n",
      "_________________________________________________________________\n"
     ]
    }
   ],
   "source": [
    "tmp=classifier(finetune=True)\n",
    "tmp.summary()"
   ]
  },
  {
   "cell_type": "code",
   "execution_count": 229,
   "metadata": {},
   "outputs": [],
   "source": [
    "from keras.utils import np_utils\n",
    "\n",
    "# encode class values as integers\n",
    "label_encoder=LabelEncoder()\n",
    "encoded_Y=label_encoder.fit_transform(cls_tr)\n",
    "# convert integers to dummy variables (i.e. one hot encoded)\n",
    "dummy_y = np_utils.to_categorical(encoded_Y)"
   ]
  },
  {
   "cell_type": "code",
   "execution_count": 286,
   "metadata": {},
   "outputs": [
    {
     "name": "stderr",
     "output_type": "stream",
     "text": [
      "[Parallel(n_jobs=1)]: Using backend SequentialBackend with 1 concurrent workers.\n"
     ]
    },
    {
     "name": "stdout",
     "output_type": "stream",
     "text": [
      "_________________________________________________________________\n",
      "Layer (type)                 Output Shape              Param #   \n",
      "=================================================================\n",
      "model_42 (Model)             (None, 562)               316406    \n",
      "_________________________________________________________________\n",
      "model_44 (Model)             (None, 562)               316406    \n",
      "_________________________________________________________________\n",
      "model_46 (Model)             (None, 562)               316406    \n",
      "_________________________________________________________________\n",
      "model_48 (Model)             (None, 55)                30965     \n",
      "_________________________________________________________________\n",
      "dense_425 (Dense)            (None, 30)                1680      \n",
      "_________________________________________________________________\n",
      "dense_426 (Dense)            (None, 6)                 186       \n",
      "=================================================================\n",
      "Total params: 982,049\n",
      "Trainable params: 1,866\n",
      "Non-trainable params: 980,183\n",
      "_________________________________________________________________\n",
      "None\n",
      "_________________________________________________________________\n",
      "Layer (type)                 Output Shape              Param #   \n",
      "=================================================================\n",
      "model_42 (Model)             (None, 562)               316406    \n",
      "_________________________________________________________________\n",
      "model_44 (Model)             (None, 562)               316406    \n",
      "_________________________________________________________________\n",
      "model_46 (Model)             (None, 562)               316406    \n",
      "_________________________________________________________________\n",
      "model_48 (Model)             (None, 55)                30965     \n",
      "_________________________________________________________________\n",
      "dense_427 (Dense)            (None, 30)                1680      \n",
      "_________________________________________________________________\n",
      "dense_428 (Dense)            (None, 6)                 186       \n",
      "=================================================================\n",
      "Total params: 982,049\n",
      "Trainable params: 1,866\n",
      "Non-trainable params: 980,183\n",
      "_________________________________________________________________\n",
      "None\n",
      "_________________________________________________________________\n",
      "Layer (type)                 Output Shape              Param #   \n",
      "=================================================================\n",
      "model_42 (Model)             (None, 562)               316406    \n",
      "_________________________________________________________________\n",
      "model_44 (Model)             (None, 562)               316406    \n",
      "_________________________________________________________________\n",
      "model_46 (Model)             (None, 562)               316406    \n",
      "_________________________________________________________________\n",
      "model_48 (Model)             (None, 55)                30965     \n",
      "_________________________________________________________________\n",
      "dense_429 (Dense)            (None, 30)                1680      \n",
      "_________________________________________________________________\n",
      "dense_430 (Dense)            (None, 6)                 186       \n",
      "=================================================================\n",
      "Total params: 982,049\n",
      "Trainable params: 1,866\n",
      "Non-trainable params: 980,183\n",
      "_________________________________________________________________\n",
      "None\n",
      "_________________________________________________________________\n",
      "Layer (type)                 Output Shape              Param #   \n",
      "=================================================================\n",
      "model_42 (Model)             (None, 562)               316406    \n",
      "_________________________________________________________________\n",
      "model_44 (Model)             (None, 562)               316406    \n",
      "_________________________________________________________________\n",
      "model_46 (Model)             (None, 562)               316406    \n",
      "_________________________________________________________________\n",
      "model_48 (Model)             (None, 55)                30965     \n",
      "_________________________________________________________________\n",
      "dense_431 (Dense)            (None, 30)                1680      \n",
      "_________________________________________________________________\n",
      "dense_432 (Dense)            (None, 6)                 186       \n",
      "=================================================================\n",
      "Total params: 982,049\n",
      "Trainable params: 1,866\n",
      "Non-trainable params: 980,183\n",
      "_________________________________________________________________\n",
      "None\n",
      "_________________________________________________________________\n",
      "Layer (type)                 Output Shape              Param #   \n",
      "=================================================================\n",
      "model_42 (Model)             (None, 562)               316406    \n",
      "_________________________________________________________________\n",
      "model_44 (Model)             (None, 562)               316406    \n",
      "_________________________________________________________________\n",
      "model_46 (Model)             (None, 562)               316406    \n",
      "_________________________________________________________________\n",
      "model_48 (Model)             (None, 55)                30965     \n",
      "_________________________________________________________________\n",
      "dense_433 (Dense)            (None, 30)                1680      \n",
      "_________________________________________________________________\n",
      "dense_434 (Dense)            (None, 6)                 186       \n",
      "=================================================================\n",
      "Total params: 982,049\n",
      "Trainable params: 1,866\n",
      "Non-trainable params: 980,183\n",
      "_________________________________________________________________\n",
      "None\n",
      "_________________________________________________________________\n",
      "Layer (type)                 Output Shape              Param #   \n",
      "=================================================================\n",
      "model_42 (Model)             (None, 562)               316406    \n",
      "_________________________________________________________________\n",
      "model_44 (Model)             (None, 562)               316406    \n",
      "_________________________________________________________________\n",
      "model_46 (Model)             (None, 562)               316406    \n",
      "_________________________________________________________________\n",
      "model_48 (Model)             (None, 55)                30965     \n",
      "_________________________________________________________________\n",
      "dense_435 (Dense)            (None, 30)                1680      \n",
      "_________________________________________________________________\n",
      "dense_436 (Dense)            (None, 6)                 186       \n",
      "=================================================================\n",
      "Total params: 982,049\n",
      "Trainable params: 1,866\n",
      "Non-trainable params: 980,183\n",
      "_________________________________________________________________\n",
      "None\n",
      "_________________________________________________________________\n",
      "Layer (type)                 Output Shape              Param #   \n",
      "=================================================================\n",
      "model_42 (Model)             (None, 562)               316406    \n",
      "_________________________________________________________________\n",
      "model_44 (Model)             (None, 562)               316406    \n",
      "_________________________________________________________________\n",
      "model_46 (Model)             (None, 562)               316406    \n",
      "_________________________________________________________________\n",
      "model_48 (Model)             (None, 55)                30965     \n",
      "_________________________________________________________________\n",
      "dense_437 (Dense)            (None, 30)                1680      \n",
      "_________________________________________________________________\n",
      "dense_438 (Dense)            (None, 6)                 186       \n",
      "=================================================================\n",
      "Total params: 982,049\n",
      "Trainable params: 1,866\n",
      "Non-trainable params: 980,183\n",
      "_________________________________________________________________\n",
      "None\n",
      "_________________________________________________________________\n",
      "Layer (type)                 Output Shape              Param #   \n",
      "=================================================================\n",
      "model_42 (Model)             (None, 562)               316406    \n",
      "_________________________________________________________________\n",
      "model_44 (Model)             (None, 562)               316406    \n",
      "_________________________________________________________________\n",
      "model_46 (Model)             (None, 562)               316406    \n",
      "_________________________________________________________________\n",
      "model_48 (Model)             (None, 55)                30965     \n",
      "_________________________________________________________________\n",
      "dense_439 (Dense)            (None, 30)                1680      \n",
      "_________________________________________________________________\n",
      "dense_440 (Dense)            (None, 6)                 186       \n",
      "=================================================================\n",
      "Total params: 982,049\n",
      "Trainable params: 1,866\n",
      "Non-trainable params: 980,183\n",
      "_________________________________________________________________\n",
      "None\n"
     ]
    },
    {
     "name": "stdout",
     "output_type": "stream",
     "text": [
      "_________________________________________________________________\n",
      "Layer (type)                 Output Shape              Param #   \n",
      "=================================================================\n",
      "model_42 (Model)             (None, 562)               316406    \n",
      "_________________________________________________________________\n",
      "model_44 (Model)             (None, 562)               316406    \n",
      "_________________________________________________________________\n",
      "model_46 (Model)             (None, 562)               316406    \n",
      "_________________________________________________________________\n",
      "model_48 (Model)             (None, 55)                30965     \n",
      "_________________________________________________________________\n",
      "dense_441 (Dense)            (None, 30)                1680      \n",
      "_________________________________________________________________\n",
      "dense_442 (Dense)            (None, 6)                 186       \n",
      "=================================================================\n",
      "Total params: 982,049\n",
      "Trainable params: 1,866\n",
      "Non-trainable params: 980,183\n",
      "_________________________________________________________________\n",
      "None\n",
      "_________________________________________________________________\n",
      "Layer (type)                 Output Shape              Param #   \n",
      "=================================================================\n",
      "model_42 (Model)             (None, 562)               316406    \n",
      "_________________________________________________________________\n",
      "model_44 (Model)             (None, 562)               316406    \n",
      "_________________________________________________________________\n",
      "model_46 (Model)             (None, 562)               316406    \n",
      "_________________________________________________________________\n",
      "model_48 (Model)             (None, 55)                30965     \n",
      "_________________________________________________________________\n",
      "dense_443 (Dense)            (None, 30)                1680      \n",
      "_________________________________________________________________\n",
      "dense_444 (Dense)            (None, 6)                 186       \n",
      "=================================================================\n",
      "Total params: 982,049\n",
      "Trainable params: 1,866\n",
      "Non-trainable params: 980,183\n",
      "_________________________________________________________________\n",
      "None\n",
      "Cross validation accuracy: Mean= 0.60, Std= 0.29\n"
     ]
    },
    {
     "name": "stderr",
     "output_type": "stream",
     "text": [
      "[Parallel(n_jobs=1)]: Done  10 out of  10 | elapsed:   45.6s finished\n"
     ]
    }
   ],
   "source": [
    "from keras.wrappers.scikit_learn import KerasClassifier\n",
    "from sklearn.model_selection import cross_val_score\n",
    "\n",
    "estimator=KerasClassifier(build_fn=classifier, finetune=False, epochs=10, batch_size=5, verbose=0)\n",
    "results=cross_val_score(estimator, feat_tr, dummy_y, cv=10, verbose=1)#, n_jobs=-1)\n",
    "print(\"Cross validation accuracy: Mean= %.2f, Std= %.2f\" % (results.mean(), results.std()))"
   ]
  },
  {
   "cell_type": "code",
   "execution_count": null,
   "metadata": {},
   "outputs": [],
   "source": []
  },
  {
   "cell_type": "code",
   "execution_count": null,
   "metadata": {},
   "outputs": [],
   "source": []
  },
  {
   "cell_type": "markdown",
   "metadata": {},
   "source": [
    "### 2-4. Classification with other procedures"
   ]
  },
  {
   "cell_type": "markdown",
   "metadata": {},
   "source": [
    "#### (1) Decision Tree"
   ]
  },
  {
   "cell_type": "code",
   "execution_count": null,
   "metadata": {},
   "outputs": [],
   "source": [
    "title = \"%s_Decision_Tree (%d)\" % (pic_file, len(X))\n",
    "true_label, pred_label, clf = CLS.train (feat_te_compressed, cls_te, 0, 0)\n",
    "CLS.plot_confusion_matrix(true_label, pred_label, unique_labels, pic_file, title, \"Decision_Tree\")\n",
    "clf"
   ]
  },
  {
   "cell_type": "markdown",
   "metadata": {},
   "source": [
    "#### (2) Naive Bayes"
   ]
  },
  {
   "cell_type": "code",
   "execution_count": null,
   "metadata": {},
   "outputs": [],
   "source": [
    "title = \"%s_Naive Bayes (%d)\" % (pic_file, len(X))\n",
    "true_label, pred_label, clf = CLS.train (feat_te_compressed, cls_te, 1, 0)\n",
    "CLS.plot_confusion_matrix(true_label, pred_label, unique_labels, pic_file, title, \"Naive Bayes\")\n",
    "clf"
   ]
  },
  {
   "cell_type": "markdown",
   "metadata": {},
   "source": [
    "#### (3) SVM"
   ]
  },
  {
   "cell_type": "code",
   "execution_count": null,
   "metadata": {
    "scrolled": true
   },
   "outputs": [],
   "source": [
    "title = \"%s_SVM (%d)\" % (pic_file, len(X))\n",
    "true_label, pred_label, clf = CLS.train (feat_te_compressed, cls_te, 2, data_id)\n",
    "CLS.plot_confusion_matrix(true_label, pred_label, unique_labels, pic_file, title, \"SVM\")\n",
    "clf"
   ]
  },
  {
   "cell_type": "code",
   "execution_count": null,
   "metadata": {},
   "outputs": [],
   "source": []
  }
 ],
 "metadata": {
  "kernelspec": {
   "display_name": "Python 3",
   "language": "python",
   "name": "python3"
  },
  "language_info": {
   "codemirror_mode": {
    "name": "ipython",
    "version": 3
   },
   "file_extension": ".py",
   "mimetype": "text/x-python",
   "name": "python",
   "nbconvert_exporter": "python",
   "pygments_lexer": "ipython3",
   "version": "3.6.4"
  }
 },
 "nbformat": 4,
 "nbformat_minor": 2
}

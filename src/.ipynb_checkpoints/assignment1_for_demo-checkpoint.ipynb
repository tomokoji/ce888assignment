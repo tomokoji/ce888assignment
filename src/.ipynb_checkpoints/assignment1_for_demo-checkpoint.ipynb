{
 "cells": [
  {
   "cell_type": "markdown",
   "metadata": {},
   "source": [
    "# CE888 Assignment 1 for Demo\n",
    "\n",
    "This code is written to demonstarte data analysis made for ce888 assignment 1.\n",
    "\n",
    "**Author**          : Tomoko Ayakawa<br> \n",
    "**Created on**      : 5 February 2019<br> \n",
    "**Last modified on**: 19 February 2019<br> "
   ]
  },
  {
   "cell_type": "code",
   "execution_count": 4,
   "metadata": {},
   "outputs": [
    {
     "ename": "SyntaxError",
     "evalue": "invalid syntax (load_data.py, line 101)",
     "output_type": "error",
     "traceback": [
      "Traceback \u001b[1;36m(most recent call last)\u001b[0m:\n",
      "  File \u001b[0;32m\"C:\\ProgramData\\Anaconda3\\lib\\site-packages\\IPython\\core\\interactiveshell.py\"\u001b[0m, line \u001b[0;32m2963\u001b[0m, in \u001b[0;35mrun_code\u001b[0m\n    exec(code_obj, self.user_global_ns, self.user_ns)\n",
      "  File \u001b[0;32m\"<ipython-input-4-12b3bf285a3e>\"\u001b[0m, line \u001b[0;32m11\u001b[0m, in \u001b[0;35m<module>\u001b[0m\n    import assignment1_main as MAIN\n",
      "\u001b[1;36m  File \u001b[1;32m\"M:\\CE888 Data Science\\ce888assignment\\src\\assignment1_main.py\"\u001b[1;36m, line \u001b[1;32m19\u001b[1;36m, in \u001b[1;35m<module>\u001b[1;36m\u001b[0m\n\u001b[1;33m    import load_data as DATA\u001b[0m\n",
      "\u001b[1;36m  File \u001b[1;32m\"./sub\\load_data.py\"\u001b[1;36m, line \u001b[1;32m101\u001b[0m\n\u001b[1;33m    pd.DataFrame(data_df.min()(],axis=1)\u001b[0m\n\u001b[1;37m                               ^\u001b[0m\n\u001b[1;31mSyntaxError\u001b[0m\u001b[1;31m:\u001b[0m invalid syntax\n"
     ]
    }
   ],
   "source": [
    "# import open source libraries\n",
    "import pandas as pd \n",
    "import seaborn as sns\n",
    "import numpy as np\n",
    "import matplotlib.pyplot as plt\n",
    "import sys\n",
    "\n",
    "# import original libraries\n",
    "sys.path.append(\"../\")\n",
    "\n",
    "import assignment1_main as MAIN\n",
    "import load_data as DATA\n",
    "import histogram as HST\n",
    "import correlation as CRRL\n",
    "import pca as PCA\n",
    "import classifier as CLS\n",
    "import feature_importance as IMP"
   ]
  },
  {
   "cell_type": "markdown",
   "metadata": {},
   "source": [
    "## 1. Load Data\n",
    "Load data from **data** directory.<br>\n",
    "Reading and preprocessing data into pandas.DataFrame are done by respective python files.<br>\n",
    "#### Returned variables<br>\n",
    ">`col_names` : List --- Name of the columns (including target column)<br>\n",
    "`features_df` : DataFrame --- Feature values<br>\n",
    "`targets_df` : DataFrame --- Target values<br>\n",
    "`data_df` : DataFrame --- The whole data containing both features and targets<br>\n",
    "`pic_file`: String --- Prefix for file name (data name + timestamp)<br>\n",
    "`unique_labels` : List --- Column haeders containing feature names and terget name (\"Class\")\n",
    ">\n",
    "\n",
    "#### Select data to load (Argument `data_id`)\n",
    "> 0. Human Activity\n",
    "1. Spam\n",
    "2. Phishing\n",
    ">"
   ]
  },
  {
   "cell_type": "code",
   "execution_count": 2,
   "metadata": {},
   "outputs": [
    {
     "name": "stdout",
     "output_type": "stream",
     "text": [
      "Select the data to load (0: human activity, 1: spam, 2: phishing): 0\n"
     ]
    },
    {
     "ename": "NameError",
     "evalue": "name 'DATA' is not defined",
     "output_type": "error",
     "traceback": [
      "\u001b[1;31m---------------------------------------------------------------------------\u001b[0m",
      "\u001b[1;31mNameError\u001b[0m                                 Traceback (most recent call last)",
      "\u001b[1;32m<ipython-input-2-b7e53af70c1b>\u001b[0m in \u001b[0;36m<module>\u001b[1;34m()\u001b[0m\n\u001b[0;32m      1\u001b[0m \u001b[0mdata_id\u001b[0m \u001b[1;33m=\u001b[0m \u001b[0mint\u001b[0m\u001b[1;33m(\u001b[0m\u001b[0minput\u001b[0m\u001b[1;33m(\u001b[0m\u001b[1;34m\"Select the data to load (0: human activity, 1: spam, 2: phishing): \"\u001b[0m\u001b[1;33m)\u001b[0m\u001b[1;33m)\u001b[0m\u001b[1;33m\u001b[0m\u001b[0m\n\u001b[0;32m      2\u001b[0m \u001b[1;33m\u001b[0m\u001b[0m\n\u001b[1;32m----> 3\u001b[1;33m \u001b[0mcol_names\u001b[0m\u001b[1;33m,\u001b[0m \u001b[0mfeatures_df\u001b[0m\u001b[1;33m,\u001b[0m \u001b[0mtargets_df\u001b[0m\u001b[1;33m,\u001b[0m \u001b[0mdata_df\u001b[0m\u001b[1;33m,\u001b[0m \u001b[0mpic_file\u001b[0m \u001b[1;33m=\u001b[0m \u001b[0mDATA\u001b[0m\u001b[1;33m.\u001b[0m\u001b[0mload_data\u001b[0m\u001b[1;33m(\u001b[0m\u001b[0mdata_id\u001b[0m\u001b[1;33m=\u001b[0m\u001b[0mdata_id\u001b[0m\u001b[1;33m)\u001b[0m\u001b[1;33m\u001b[0m\u001b[0m\n\u001b[0m\u001b[0;32m      4\u001b[0m \u001b[0munique_labels\u001b[0m \u001b[1;33m=\u001b[0m \u001b[0mDATA\u001b[0m\u001b[1;33m.\u001b[0m\u001b[0mverify_data\u001b[0m\u001b[1;33m(\u001b[0m\u001b[0mdata_df\u001b[0m\u001b[1;33m,\u001b[0m \u001b[0mtargets_df\u001b[0m\u001b[1;33m)\u001b[0m\u001b[1;33m\u001b[0m\u001b[0m\n\u001b[0;32m      5\u001b[0m \u001b[0mdata_df\u001b[0m\u001b[1;33m.\u001b[0m\u001b[0mhead\u001b[0m\u001b[1;33m(\u001b[0m\u001b[1;36m5\u001b[0m\u001b[1;33m)\u001b[0m\u001b[1;33m\u001b[0m\u001b[0m\n",
      "\u001b[1;31mNameError\u001b[0m: name 'DATA' is not defined"
     ]
    }
   ],
   "source": [
    "data_id = int(input(\"Select the data to load (0: human activity, 1: spam, 2: phishing): \"))\n",
    "\n",
    "col_names, features_df, targets_df, data_df, pic_file = DATA.load_data(data_id=data_id)\n",
    "unique_labels = DATA.verify_data(data_df, targets_df)\n",
    "data_df.head(5)"
   ]
  },
  {
   "cell_type": "markdown",
   "metadata": {},
   "source": [
    "## 2. Analyse the Data"
   ]
  },
  {
   "cell_type": "markdown",
   "metadata": {},
   "source": [
    "### 2-1. Data Structure\n",
    "#### (1) Feature distribution"
   ]
  },
  {
   "cell_type": "code",
   "execution_count": null,
   "metadata": {},
   "outputs": [],
   "source": [
    "HST.histogram(data_df[data_df.columns[:-1]], pic_file, \"_features\")"
   ]
  },
  {
   "cell_type": "markdown",
   "metadata": {},
   "source": [
    "#### (2) Target distribution"
   ]
  },
  {
   "cell_type": "code",
   "execution_count": null,
   "metadata": {},
   "outputs": [],
   "source": [
    "HST.histogram(data_df[data_df.columns[-1:]], pic_file, \"_targets\")"
   ]
  },
  {
   "cell_type": "markdown",
   "metadata": {},
   "source": [
    "#### (3) Correlation among features"
   ]
  },
  {
   "cell_type": "code",
   "execution_count": null,
   "metadata": {},
   "outputs": [],
   "source": [
    "cr_np = CRRL.correlation(data_df)\n",
    "CRRL.cr_heatmap (cr_np, pic_file, col_names)"
   ]
  },
  {
   "cell_type": "markdown",
   "metadata": {},
   "source": [
    "### 2-2. Feature importance\n",
    "#### (1) Correlation with the target"
   ]
  },
  {
   "cell_type": "code",
   "execution_count": null,
   "metadata": {},
   "outputs": [],
   "source": [
    "CRRL.cr_bar_graph (cr_np, pic_file, col_names)"
   ]
  },
  {
   "cell_type": "markdown",
   "metadata": {},
   "source": [
    "#### (2) Feature Importance based on Decision Tree"
   ]
  },
  {
   "cell_type": "code",
   "execution_count": null,
   "metadata": {},
   "outputs": [],
   "source": [
    "clf = CLS.train (features_df, targets_df, 0)[-1]\n",
    "IMP.feature_importance(clf, col_names, pic_file, pic_file.split(\"_\")[0])"
   ]
  },
  {
   "cell_type": "markdown",
   "metadata": {},
   "source": [
    "### 2-3. Principal Component Analysis (PCA)"
   ]
  },
  {
   "cell_type": "markdown",
   "metadata": {},
   "source": [
    "#### (1) Plot the data in 3D"
   ]
  },
  {
   "cell_type": "code",
   "execution_count": null,
   "metadata": {},
   "outputs": [],
   "source": [
    "%matplotlib notebook\n",
    "PCA.pca(features_df, targets_df, unique_labels, pic_file)"
   ]
  },
  {
   "cell_type": "markdown",
   "metadata": {},
   "source": [
    "#### (2) Explained Variance"
   ]
  },
  {
   "cell_type": "code",
   "execution_count": null,
   "metadata": {},
   "outputs": [],
   "source": [
    "%matplotlib inline\n",
    "PCA.variance(features_df, pic_file)"
   ]
  },
  {
   "cell_type": "markdown",
   "metadata": {},
   "source": [
    "### 2-4. Classification with small training data\n",
    "#### Obtain minimal size data"
   ]
  },
  {
   "cell_type": "code",
   "execution_count": null,
   "metadata": {},
   "outputs": [],
   "source": [
    "X, y = MAIN.get_minimal_data(features_df.values, targets_df.values)\n",
    "#X, y = features_df.values, targets_df.values"
   ]
  },
  {
   "cell_type": "markdown",
   "metadata": {},
   "source": [
    "#### (1) Decision Tree"
   ]
  },
  {
   "cell_type": "code",
   "execution_count": null,
   "metadata": {},
   "outputs": [],
   "source": [
    "title = \"%s_Decision_Tree\" % pic_file.split(\"_\")[0]\n",
    "true_label, pred_label, clf = CLS.train (X, y, 0)\n",
    "CLS.plot_confusion_matrix(true_label, pred_label, unique_labels, pic_file, title, \"Decision_Tree\")\n",
    "clf"
   ]
  },
  {
   "cell_type": "markdown",
   "metadata": {},
   "source": [
    "#### (2) Naive Bayes"
   ]
  },
  {
   "cell_type": "code",
   "execution_count": null,
   "metadata": {},
   "outputs": [],
   "source": [
    "title = \"%s_Naive Bayes\" % pic_file.split(\"_\")[0]\n",
    "true_label, pred_label, clf = CLS.train (X, y, 1)\n",
    "CLS.plot_confusion_matrix(true_label, pred_label, unique_labels, pic_file, title, \"Naive Bayes\")\n",
    "clf"
   ]
  },
  {
   "cell_type": "markdown",
   "metadata": {},
   "source": [
    "#### (3) SVM"
   ]
  },
  {
   "cell_type": "code",
   "execution_count": null,
   "metadata": {},
   "outputs": [],
   "source": [
    "title = \"%s_SVM\" % pic_file.split(\"_\")[0]\n",
    "true_label, pred_label, clf = CLS.train (X, y, 2)\n",
    "CLS.plot_confusion_matrix(true_label, pred_label, unique_labels, pic_file, title, \"SVM\")\n",
    "clf"
   ]
  },
  {
   "cell_type": "code",
   "execution_count": null,
   "metadata": {},
   "outputs": [],
   "source": []
  }
 ],
 "metadata": {
  "kernelspec": {
   "display_name": "Python 3",
   "language": "python",
   "name": "python3"
  },
  "language_info": {
   "codemirror_mode": {
    "name": "ipython",
    "version": 3
   },
   "file_extension": ".py",
   "mimetype": "text/x-python",
   "name": "python",
   "nbconvert_exporter": "python",
   "pygments_lexer": "ipython3",
   "version": "3.6.5"
  }
 },
 "nbformat": 4,
 "nbformat_minor": 2
}

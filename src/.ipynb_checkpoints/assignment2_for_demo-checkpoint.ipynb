{
 "cells": [
  {
   "cell_type": "markdown",
   "metadata": {},
   "source": [
    "# CE888 Assignment 2 for Demo\n",
    "\n",
    "This code is written to demonstarte a classifier using an autoencoder for ce888 assignment 2.\n",
    "\n",
    "**Author**          : Tomoko Ayakawa<br> \n",
    "**Created on**      : 29 March 2019<br> \n",
    "**Last modified on**: 19 April 2019<br> "
   ]
  },
  {
   "cell_type": "code",
   "execution_count": 1,
   "metadata": {},
   "outputs": [
    {
     "name": "stderr",
     "output_type": "stream",
     "text": [
      "Using TensorFlow backend.\n"
     ]
    }
   ],
   "source": [
    "# import open source libraries\n",
    "#import pandas as pd\n",
    "#import seaborn as sns\n",
    "import numpy as np\n",
    "#import matplotlib.pyplot as plt\n",
    "import sys\n",
    "import keras\n",
    "\n",
    "# import original libraries\n",
    "sys.path.append(\"../\")\n",
    "sys.path.append(\"./sub\")\n",
    "\n",
    "#import utility as UTL\n",
    "#import assignment2_main as MAIN2\n",
    "from conf import myVariables as VAR\n",
    "import load_data as DATA\n",
    "import preprocess as PREP\n",
    "import autoencoder as AE\n",
    "import mlp as MLP\n",
    "import grid_search as GS\n",
    "import comparison as CMP"
   ]
  },
  {
   "cell_type": "markdown",
   "metadata": {},
   "source": [
    "## 1. Prepare the data\n",
    "### 1-1. Select the data to load\n",
    "> 0. Human Activity\n",
    "1. Spam\n",
    "2. Phishing\n",
    ">"
   ]
  },
  {
   "cell_type": "code",
   "execution_count": 3,
   "metadata": {
    "scrolled": true
   },
   "outputs": [
    {
     "name": "stdout",
     "output_type": "stream",
     "text": [
      "{0: 'human activity', 1: 'spam', 2: 'phishing'}0\n",
      "Number of NaN: 0\n",
      "Data shape:  (7352, 562)\n",
      "Target labels: ['1' '2' '3' '4' '5' '6']\n",
      "Class distribution: ['0.17', '0.15', '0.13', '0.17', '0.19', '0.19']\n"
     ]
    }
   ],
   "source": [
    "data_list={0: \"human activity\", 1: \"spam\", 2: \"phishing\"}\n",
    "data_id=int(input(data_list))\n",
    "\n",
    "col_names, features_df, targets_df, data_df, pic_file=DATA.load_data(data_id=data_id)\n",
    "unique_labels=DATA.verify_data(data_df, targets_df, dispaly_range=False)"
   ]
  },
  {
   "cell_type": "markdown",
   "metadata": {},
   "source": [
    "### 1-2. Obtain the small data"
   ]
  },
  {
   "cell_type": "code",
   "execution_count": 4,
   "metadata": {},
   "outputs": [
    {
     "name": "stdout",
     "output_type": "stream",
     "text": [
      "Enter the number of samples to use (Total: 7352): 100\n",
      " - Number of features: 561\n",
      " - Minimul data size : 4538\n",
      " - Specified size    : 100\n",
      "\n"
     ]
    }
   ],
   "source": [
    "features, classes=PREP.get_small_data(features_df, targets_df)"
   ]
  },
  {
   "cell_type": "markdown",
   "metadata": {},
   "source": [
    "### 1-3. Pre-process the data\n",
    "Fit the scaler and transform the data.<br>\n",
    "When the scaler ID is not specified, MinMaxScaler will be applied."
   ]
  },
  {
   "cell_type": "code",
   "execution_count": 6,
   "metadata": {},
   "outputs": [
    {
     "name": "stdout",
     "output_type": "stream",
     "text": [
      "Select the scaler 0 (None), 1 (MinMax), 2 (Quantile), 3 (Standard): 1\n",
      "Scaler: MinMaxScaler(copy=True, feature_range=(0, 1))\n"
     ]
    },
    {
     "name": "stderr",
     "output_type": "stream",
     "text": [
      "/Library/Frameworks/Python.framework/Versions/3.6/lib/python3.6/site-packages/sklearn/utils/validation.py:595: DataConversionWarning: Data with input dtype object was converted to float64 by MinMaxScaler.\n",
      "  warnings.warn(msg, DataConversionWarning)\n"
     ]
    }
   ],
   "source": [
    "scl, features_nrm=PREP.pre_processing(features, display_result=False)"
   ]
  },
  {
   "cell_type": "markdown",
   "metadata": {},
   "source": [
    "### 1-4. Split the data"
   ]
  },
  {
   "cell_type": "code",
   "execution_count": 7,
   "metadata": {},
   "outputs": [
    {
     "name": "stdout",
     "output_type": "stream",
     "text": [
      "Enter the test_size (0<=test_size<1): \n",
      "Training: 80, Test: 20\n",
      "\n"
     ]
    }
   ],
   "source": [
    "X, y=features_nrm, classes\n",
    "X_tr, X_te, y_tr, y_te=PREP.split_data(features_nrm, classes)"
   ]
  },
  {
   "cell_type": "markdown",
   "metadata": {},
   "source": [
    "## 4. Build an Autoencoder\n",
    "### 4-1. Define the parameters"
   ]
  },
  {
   "cell_type": "code",
   "execution_count": 24,
   "metadata": {},
   "outputs": [
    {
     "name": "stdout",
     "output_type": "stream",
     "text": [
      "Define 9 parameters for the autoencoder.\n",
      "When skipped (push enter) or an invalid value is given, the default value will be used.\n",
      "[Parameter 1/9: Autoencoder type] 0:Normal or 1:Stacked (default=1): \n",
      "[Parameter 2/9: Number of neurons in each layer] Integers separated by comma (default=500,400,300,200,100,50,25,10): \n",
      "[Parameter 3/9: Activation function] 0:relu 1:sigmoid 2:tanh 3:softmax (default=relu): 1\n",
      "[Parameter 4/9: Optimiser] 0:adam 1:sdg (default=adam): \n",
      " - Learning rate (default=0.001000): \n",
      "[Parameter 5/9: Loss function] 0:mse 1:mean_absolute_error 2:mean_squared_logarithmic_error 3:categorical_crossentropy (default=mse): \n",
      "[Parameter 6/9: Dropout rate] 0<=rate<1 (default=0.000000): \n",
      "[Parameter 7/9: Training epochs] (default=100): \n",
      "[Parameter 8/9: Verbose] 0:False or 1:True (default=0): 1\n",
      "[Parameter 9/9: Summary display] 0:False or 1:True (default=0): \n",
      "\n",
      "Parameters for the autoencoder are\n",
      " 1. Mode: 1(Stacked)\n",
      " 2. Layers: [500, 400, 300, 200, 100, 50, 25, 10]\n",
      " 3. Activation function: sigmoid\n",
      " 4. Optimiser: <keras.optimizers.Adam object at 0x139411630>\n",
      " 5. Loss function: mse\n",
      " 6. Dropout: 0.000000\n",
      " 7. Epochs: 100\n",
      " 8. Verbose: 1(True)\n",
      " 9. Summary_display: 0(False)\n"
     ]
    }
   ],
   "source": [
    "ae_layers, mode, act, opt, loss, dropout, \\\n",
    "    epochs, verbose, summary_display=AE.get_parameters(data_id)"
   ]
  },
  {
   "cell_type": "markdown",
   "metadata": {},
   "source": [
    "### 4-2. Train the autoencoder"
   ]
  },
  {
   "cell_type": "code",
   "execution_count": null,
   "metadata": {},
   "outputs": [],
   "source": [
    "encoder, histories=AE.autoencoder(X, layers=ae_layers, mode=mode, act=act, opt=opt, \n",
    "                                 loss=loss, dropout=dropout, epochs=epochs, \n",
    "                                 verbose=verbose, summary_display=summary_display)"
   ]
  },
  {
   "cell_type": "code",
   "execution_count": null,
   "metadata": {},
   "outputs": [],
   "source": [
    "for i in range(len(histories)):\n",
    "    print(\"Layer %d loss at epoch 100: %f\" % (i+1, histories[i].history[\"loss\"][-1]))"
   ]
  },
  {
   "cell_type": "markdown",
   "metadata": {},
   "source": [
    "### 4-3. Display the training loss history"
   ]
  },
  {
   "cell_type": "code",
   "execution_count": 10,
   "metadata": {},
   "outputs": [
    {
     "name": "stdout",
     "output_type": "stream",
     "text": [
      "Save training loss history as a picture? (y/n): n\n"
     ]
    },
    {
     "data": {
      "image/png": "[encoded data removed]",
      "text/plain": [
       "<matplotlib.figure.Figure at 0x10e70ef28>"
      ]
     },
     "metadata": {
      "needs_background": "light"
     },
     "output_type": "display_data"
    }
   ],
   "source": [
    "AE.plot_ae_loss_history(histories, mode, pic_file)"
   ]
  },
  {
   "cell_type": "markdown",
   "metadata": {},
   "source": [
    "### 4-4. Extract features from the datasets"
   ]
  },
  {
   "cell_type": "code",
   "execution_count": null,
   "metadata": {},
   "outputs": [],
   "source": [
    "X_all_cmp=encoder.predict(X)\n",
    "X_tr_cmp=encoder.predict(X_tr)\n",
    "X_te_cmp=encoder.predict(X_te)\n",
    "\n",
    "print(\"The number of compressed features:\", len(X_all_cmp[0]))"
   ]
  },
  {
   "cell_type": "markdown",
   "metadata": {},
   "source": [
    "## 5. Build a discriminative neural network\n",
    "### 5-1. Define the parameters"
   ]
  },
  {
   "cell_type": "markdown",
   "metadata": {},
   "source": [
    "finetune, h_num, h_act, out_act, opt, loss, epochs, val_rate, \\\n",
    "    verbose, summary_display=MLP.get_parameters()"
   ]
  },
  {
   "cell_type": "markdown",
   "metadata": {},
   "source": [
    "### 5-2. Train the MLP"
   ]
  },
  {
   "cell_type": "code",
   "execution_count": null,
   "metadata": {},
   "outputs": [],
   "source": [
    "k=ae_layers[-1]\n",
    "n=len(np.unique(y))\n",
    "\n",
    "model=MLP.build_mlp(encoder, num_in=k, num_out=n, \\\n",
    "            finetune=finetune, h_num=h_num, h_act=h_act, \\\n",
    "            out_act=out_act, opt=opt, loss=loss, \\\n",
    "            summary_display=summary_display)\n",
    "histories=MLP.train_mlp(X, y, model, epochs=epochs, \\\n",
    "            val_rate=val_rate, verbose=verbose)"
   ]
  },
  {
   "cell_type": "markdown",
   "metadata": {},
   "source": [
    "### 5-3. Display the training loss history"
   ]
  },
  {
   "cell_type": "code",
   "execution_count": null,
   "metadata": {},
   "outputs": [],
   "source": [
    "MLP.plot_mlp_loss_history(histories, pic_file)"
   ]
  },
  {
   "cell_type": "markdown",
   "metadata": {},
   "source": [
    "## 6. Grid Search for optimal parameter\n",
    "### 6-1. Define the parameters\n",
    "The codes and markdown below are originally written by the author for the assignment for CE802 which was submitted to the CSEE Department on 16 January 2019.<br><br>\n",
    "Major parameters to be tuned are:\n",
    "\n",
    "\n",
    "|parameter               |default    |description                                              |\n",
    "|------------------------|-----------|---------------------------------------------------------|\n",
    "|hidden_layer_sizes      |(100,)     |i-th element: numb of neurons in the i-th hidden layer   |\n",
    "|activation              |\"relu\"     |activation function                                      |\n",
    "|solver                  |\"adam\"     |weight optimasation                                      |\n",
    "|alpha                   |0.0001     |regularization parameter                                 |\n",
    "|learning_rate_init      |0.001      |step-size in weights update (solver=’sgd’ or ‘adam’)     |\n",
    "|max_iter                |200        |max num of iterations                                    |\n",
    "|momentum                |0.9        |momentum for gradient descent update (range (0, 1), solver=’sgd’|"
   ]
  },
  {
   "cell_type": "code",
   "execution_count": null,
   "metadata": {},
   "outputs": [],
   "source": [
    "act, h_num, max_itr, lr, mmt, alpha, solver, splits=GS.get_parameters()"
   ]
  },
  {
   "cell_type": "markdown",
   "metadata": {},
   "source": [
    "### 6-2. Grid Search"
   ]
  },
  {
   "cell_type": "code",
   "execution_count": null,
   "metadata": {},
   "outputs": [],
   "source": [
    "param_grid, clf=GS.parameter_grid(activation=act, \\\n",
    "                           alpha=alpha, hidden_layer_sizes=(h_num,), \\\n",
    "                           max_iter=max_itr, learning_rate_init=lr, \\\n",
    "                           momentum=mmt, solver=solver)\n",
    "if param_grid!=1: GS.grid_search(X_all_cmp, y, clf, param_grid, grid_splits=splits)"
   ]
  },
  {
   "cell_type": "markdown",
   "metadata": {},
   "source": [
    "## 6. Evaluation\n",
    "### 6-1. Cross Validation"
   ]
  },
  {
   "cell_type": "code",
   "execution_count": null,
   "metadata": {},
   "outputs": [],
   "source": [
    "accs, fscores=MLP.cross_validation(model, X, y, epochs=epochs)"
   ]
  },
  {
   "cell_type": "markdown",
   "metadata": {},
   "source": [
    "### 6-2. Train, predict and evaluate the classifier"
   ]
  },
  {
   "cell_type": "code",
   "execution_count": null,
   "metadata": {},
   "outputs": [],
   "source": [
    "pred=MLP.evaluation(model, X_tr, y_tr, X_te, y_te, pic_file)"
   ]
  },
  {
   "cell_type": "markdown",
   "metadata": {},
   "source": [
    "## 7. Comparison with other thechniques\n",
    "### 7-1. Plot 3 dimensions obtained by PCA and Autoencoder"
   ]
  },
  {
   "cell_type": "code",
   "execution_count": null,
   "metadata": {},
   "outputs": [],
   "source": [
    "# the number of unirue values in each dimension\n",
    "for x, t in zip([X, X_all_cmp], [\"PCA    \", \"Encoder\"]):\n",
    "    print(t, \":\", len(x), \n",
    "          \"\\t| axis-1:\", len(np.unique(x[:,0])), \n",
    "          \"\\t| axis-2:\", len(np.unique(x[:,1])),\n",
    "          \"\\t| axis-3:\", len(np.unique(x[:,2])))"
   ]
  },
  {
   "cell_type": "code",
   "execution_count": null,
   "metadata": {},
   "outputs": [],
   "source": [
    "%matplotlib notebook\n",
    "if ae_layers[-1]==3: CMP.plot_3D(X, X_all_cmp, y)"
   ]
  },
  {
   "cell_type": "markdown",
   "metadata": {},
   "source": [
    "### 7-2. Performance comparison with DT, NB, SVM, NN"
   ]
  },
  {
   "cell_type": "code",
   "execution_count": null,
   "metadata": {},
   "outputs": [],
   "source": [
    "%matplotlib inline\n",
    "# original data (uncompressed)\n",
    "CMP.performance_comparison(pred, X_tr, X_te, y_tr, y_te, data_id)"
   ]
  },
  {
   "cell_type": "code",
   "execution_count": null,
   "metadata": {},
   "outputs": [],
   "source": [
    "# compressed data\n",
    "CMP.performance_comparison(pred, X_tr_cmp, X_te_cmp, y_tr, y_te, pic_file, data_id)"
   ]
  },
  {
   "cell_type": "markdown",
   "metadata": {},
   "source": [
    "# ===== End of the code ====="
   ]
  }
 ],
 "metadata": {
  "kernelspec": {
   "display_name": "Python 3",
   "language": "python",
   "name": "python3"
  },
  "language_info": {
   "codemirror_mode": {
    "name": "ipython",
    "version": 3
   },
   "file_extension": ".py",
   "mimetype": "text/x-python",
   "name": "python",
   "nbconvert_exporter": "python",
   "pygments_lexer": "ipython3",
   "version": "3.6.4"
  }
 },
 "nbformat": 4,
 "nbformat_minor": 2
}

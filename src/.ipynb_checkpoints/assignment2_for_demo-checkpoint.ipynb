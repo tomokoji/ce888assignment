{
 "cells": [
  {
   "cell_type": "markdown",
   "metadata": {},
   "source": [
    "# CE888 Assignment 2 for Demo\n",
    "\n",
    "This code is written to demonstarte data analysis made for ce888 assignment 2.\n",
    "\n",
    "**Author**          : Tomoko Ayakawa<br> \n",
    "**Created on**      : 29 March 2019<br> \n",
    "**Last modified on**: 17 April 2019<br> "
   ]
  },
  {
   "cell_type": "code",
   "execution_count": 1,
   "metadata": {},
   "outputs": [],
   "source": [
    "# import open source libraries\n",
    "import pandas as pd \n",
    "import seaborn as sns\n",
    "import numpy as np\n",
    "import matplotlib.pyplot as plt\n",
    "import sys\n",
    "\n",
    "# import original libraries\n",
    "sys.path.append(\"../\")\n",
    "\n",
    "#import utility as UTL\n",
    "import assignment2_main as MAIN2\n",
    "from conf import myVariables as VAR\n",
    "import load_data as DATA\n",
    "import preprocess as PREP\n",
    "import autoencoder as AE\n",
    "import mlp as MLP\n",
    "\n",
    "\n",
    "import histogram as HST\n",
    "import correlation as CRRL\n",
    "import pca as PCA\n",
    "import classifier as CLS\n",
    "import feature_importance as IMP"
   ]
  },
  {
   "cell_type": "markdown",
   "metadata": {},
   "source": [
    "## 1. Prepare the data\n",
    "Load data from **data** directory.<br>\n",
    "\n",
    "### 1-1. Select the data to load\n",
    "> 0. Human Activity\n",
    "1. Spam\n",
    "2. Phishing\n",
    ">"
   ]
  },
  {
   "cell_type": "code",
   "execution_count": 2,
   "metadata": {
    "scrolled": true
   },
   "outputs": [
    {
     "name": "stdout",
     "output_type": "stream",
     "text": [
      "{0: 'human activity', 1: 'spam', 2: 'phishing'}0\n"
     ]
    },
    {
     "name": "stderr",
     "output_type": "stream",
     "text": [
      "./sub/load_data.py:52: FutureWarning: convert_objects is deprecated.  To re-infer data dtypes for object columns, use DataFrame.infer_objects()\n",
      "For all other conversions use the data-type specific converters pd.to_datetime, pd.to_timedelta and pd.to_numeric.\n",
      "  data_df = data_df.convert_objects(convert_numeric=True)\n"
     ]
    },
    {
     "name": "stdout",
     "output_type": "stream",
     "text": [
      "Number of NaN: 0\n",
      "Data shape:  (7352, 562)\n",
      "Target labels: ['1' '2' '3' '4' '5' '6']\n",
      "Class distribution: ['0.17', '0.15', '0.13', '0.17', '0.19', '0.19']\n"
     ]
    }
   ],
   "source": [
    "data_list={0: \"human activity\", 1: \"spam\", 2: \"phishing\"}\n",
    "data_id=int(input(data_list))\n",
    "\n",
    "col_names, features_df, targets_df, data_df, pic_file=DATA.load_data(data_id=data_id)\n",
    "unique_labels=DATA.verify_data(data_df, targets_df, dispaly_range=False)"
   ]
  },
  {
   "cell_type": "markdown",
   "metadata": {},
   "source": [
    "### 1-2. Obtain the small data"
   ]
  },
  {
   "cell_type": "code",
   "execution_count": 3,
   "metadata": {},
   "outputs": [
    {
     "name": "stdout",
     "output_type": "stream",
     "text": [
      "Enter the number of samples to use (Total: 7352): \n",
      " - Number of features: 561\n",
      " - Minimul data size : 4538\n",
      " - Specified size    : 4538\n",
      "\n"
     ]
    }
   ],
   "source": [
    "features, classes=PREP.get_small_data(features_df, targets_df)"
   ]
  },
  {
   "cell_type": "markdown",
   "metadata": {},
   "source": [
    "### 1-3. Pre-process the data\n",
    "Fit the scaler and transform the data.<br>\n",
    "When the scaler ID is not specified, MinMaxScaler will be applied."
   ]
  },
  {
   "cell_type": "code",
   "execution_count": 4,
   "metadata": {},
   "outputs": [
    {
     "name": "stdout",
     "output_type": "stream",
     "text": [
      "Select the scaler 0 (None), 1 (MinMax), 2 (Quantile), 3 (Standard): \n"
     ]
    },
    {
     "name": "stderr",
     "output_type": "stream",
     "text": [
      "/Library/Frameworks/Python.framework/Versions/3.6/lib/python3.6/site-packages/sklearn/utils/validation.py:595: DataConversionWarning: Data with input dtype object was converted to float64 by MinMaxScaler.\n",
      "  warnings.warn(msg, DataConversionWarning)\n"
     ]
    },
    {
     "name": "stdout",
     "output_type": "stream",
     "text": [
      "Scaler: MinMaxScaler(copy=True, feature_range=(0, 1))\n",
      "Original data:\n",
      "               0                1                2                3    \\\n",
      "0  2.6832080e-001  -1.7905183e-002  -1.0739136e-001  -9.4381669e-001   \n",
      "1  2.7830391e-001  -1.7020159e-002  -1.0596972e-001  -9.9571164e-001   \n",
      "2  2.8330402e-001  -1.6640465e-002  -1.1132458e-001  -9.9055509e-001   \n",
      "3  3.1939599e-001  -9.4608597e-003  -1.3456051e-001  -9.6705593e-001   \n",
      "4  2.7891706e-001  -1.6241213e-002  -1.0908840e-001  -9.9167815e-001   \n",
      "\n",
      "               4                5                6                7    \\\n",
      "0  -9.7717661e-001  -9.6448341e-001  -9.4180326e-001  -9.7375346e-001   \n",
      "1  -9.9143273e-001  -9.7029591e-001  -9.9635086e-001  -9.9162686e-001   \n",
      "2  -9.7463704e-001  -9.7064615e-001  -9.9212136e-001  -9.7840359e-001   \n",
      "3  -9.2718213e-001  -7.5643140e-001  -9.7194827e-001  -9.3064270e-001   \n",
      "4  -9.8096760e-001  -9.6900667e-001  -9.9206655e-001  -9.7860945e-001   \n",
      "\n",
      "               8                9    ...             551              552  \\\n",
      "0  -9.5925683e-001  -9.0792609e-001  ...  2.9945290e-001  -5.8344974e-002   \n",
      "1  -9.6866776e-001  -9.3906646e-001  ...  4.0824573e-001  -1.9095627e-001   \n",
      "2  -9.7545505e-001  -9.2632217e-001  ...  1.1688009e-001   4.8041365e-001   \n",
      "3  -7.4179326e-001  -8.8452068e-001  ...  1.0932957e-001   5.8644851e-001   \n",
      "4  -9.6648946e-001  -9.3719796e-001  ...  2.4064963e-001  -2.3120665e-001   \n",
      "\n",
      "               553              554              555              556  \\\n",
      "0  -3.6756424e-001   1.1966475e-001  -1.2305686e-001   3.7252929e-001   \n",
      "1  -5.7023595e-001  -4.6994930e-002   9.8282135e-003  -2.6029176e-001   \n",
      "2   2.8491226e-001  -1.9489427e-001  -1.2698856e-001  -3.5261777e-002   \n",
      "3   3.8401354e-001  -4.5722817e-001   2.8472368e-001  -5.2561129e-001   \n",
      "4  -5.5521516e-001  -2.9063645e-001   6.6238556e-002   4.7848510e-001   \n",
      "\n",
      "               557              558              559              560  \n",
      "0   3.3828584e-001   4.1261615e-001  -3.6268424e-001  -6.2666704e-001  \n",
      "1  -4.2604741e-001  -8.7491575e-001   5.6894100e-002   9.9977972e-002  \n",
      "2  -2.5740671e-001   3.6526417e-001  -8.4643798e-001  -6.2515582e-003  \n",
      "3   8.3428706e-001  -6.3111275e-001   3.1077664e-001   1.5974302e-001  \n",
      "4   2.1277029e-001   4.0497841e-001  -5.3946098e-001  -4.4060008e-001  \n",
      "\n",
      "[5 rows x 561 columns]\n",
      "Pre-processed data:\n",
      "         0         1         2         3         4         5         6    \\\n",
      "0  0.725567  0.395578  0.446304  0.029571  0.011845  0.018390  0.029833   \n",
      "1  0.732022  0.396103  0.447015  0.002257  0.004405  0.015380  0.001871   \n",
      "2  0.735255  0.396329  0.444338  0.004971  0.013170  0.015199  0.004039   \n",
      "3  0.758591  0.400592  0.432720  0.017340  0.037937  0.126116  0.014380   \n",
      "4  0.732419  0.396566  0.445456  0.004380  0.009867  0.016048  0.004067   \n",
      "\n",
      "        7         8         9    ...       551       552       553       554  \\\n",
      "0  0.013339  0.022566  0.048257  ...  0.667516  0.479173  0.325497  0.560032   \n",
      "1  0.004255  0.017338  0.031936  ...  0.723402  0.411358  0.221149  0.474891   \n",
      "2  0.010976  0.013568  0.038615  ...  0.573730  0.754685  0.661434  0.399335   \n",
      "3  0.035249  0.143370  0.060524  ...  0.569851  0.808910  0.712458  0.265318   \n",
      "4  0.010871  0.018548  0.032915  ...  0.637309  0.390774  0.228883  0.350424   \n",
      "\n",
      "        555       556       557       558       559       560  \n",
      "0  0.438472  0.686710  0.670458  0.706308  0.429577  0.186687  \n",
      "1  0.504914  0.370094  0.287540  0.062542  0.714217  0.550051  \n",
      "2  0.436506  0.482682  0.372026  0.682632  0.101400  0.496930  \n",
      "3  0.642362  0.237348  0.918945  0.184444  0.886450  0.579936  \n",
      "4  0.533119  0.739723  0.607577  0.702489  0.309652  0.279731  \n",
      "\n",
      "[5 rows x 561 columns]\n"
     ]
    }
   ],
   "source": [
    "scl, features_nrm=PREP.pre_processing(features, display_result=True)"
   ]
  },
  {
   "cell_type": "markdown",
   "metadata": {},
   "source": [
    "### 1-4. Split the data"
   ]
  },
  {
   "cell_type": "code",
   "execution_count": 5,
   "metadata": {},
   "outputs": [
    {
     "name": "stdout",
     "output_type": "stream",
     "text": [
      "Enter the test_size (0<=test_size<1): \n",
      "Training: 3630, Test: 908\n",
      "\n"
     ]
    }
   ],
   "source": [
    "X, y=features_nrm, classes\n",
    "X_tr, X_te, y_tr, y_te=PREP.split_data(features_nrm, classes)"
   ]
  },
  {
   "cell_type": "markdown",
   "metadata": {},
   "source": [
    "## 4. Build an Autoencoder\n",
    "### 4-1. Define the parameters"
   ]
  },
  {
   "cell_type": "code",
   "execution_count": 8,
   "metadata": {},
   "outputs": [
    {
     "name": "stdout",
     "output_type": "stream",
     "text": [
      "Define 9 parameters for the autoencoder.\n",
      "When skipped (push enter) or an invalid value is given, the default value will be used.\n",
      "\n",
      "[Parameter 1/9: Autoencoder type] 0:Normal or 1:Stacked (default=0): \n",
      "[Parameter 2/9: Number of neurons in each layer] Integer separated by comma (default=561,500,400,300,200,100,50,25,10): 50, 10\n",
      "[Parameter 3/9: Activation function] 0:relu 1:sigmoid 2:tanh 3:softmax (default=relu): \n",
      "[Parameter 4/9: Optimiser] 0:adam 1:sdg (default=adam): \n",
      " - Learning rate (default=0.010000): \n",
      "[Parameter 5/9: Loss function] 0:mse 1:mean_absolute_error 2:mean_squared_logarithmic_error 3:categorical_crossentropy (default=mse): \n",
      "[Parameter 6/9: Dropout rate] 0<=rate<1 (default=0.000000): \n",
      "[Parameter 7/9: Training epochs] (default=20): 5\n",
      "[Parameter 8/9: Verbose] 0:False or 1:True (default=0): \n",
      "[Parameter 9/9: Summary display] 0:False or 1:True (default=0): \n",
      "\n",
      "Parameters for the autoencoder are\n",
      " 1. Mode: 1(Stacked)\n",
      " 2. Layers: [50, 10]\n",
      " 3. Activation function: relu\n",
      " 4. Optimiser: <keras.optimizers.Adam object at 0x10e3b34e0>\n",
      " 5. Loss function: mse\n",
      " 6. Dropout: 0.000000\n",
      " 7. Epochs: 5\n",
      " 8. Verbose: 0(False)\n",
      " 9. Summary_display: 0(False)\n"
     ]
    }
   ],
   "source": [
    "ae_layers, mode, act, opt, loss, dropout, \\\n",
    "    epochs, verbose, summary_display=AE.get_parameters(data_id)"
   ]
  },
  {
   "cell_type": "markdown",
   "metadata": {},
   "source": [
    "### 4-2. Train the autoencoder"
   ]
  },
  {
   "cell_type": "code",
   "execution_count": 9,
   "metadata": {},
   "outputs": [
    {
     "name": "stdout",
     "output_type": "stream",
     "text": [
      "Training Layer 1/2 ...\n",
      "Training Layer 2/2 ...\n"
     ]
    }
   ],
   "source": [
    "encoder, histories=AE.autoencoder(X, layers=ae_layers, mode=mode, act=act, opt=opt, \n",
    "                                 loss=loss, dropout=dropout, epochs=epochs, \n",
    "                                 verbose=verbose, summary_display=summary_display)"
   ]
  },
  {
   "cell_type": "markdown",
   "metadata": {},
   "source": [
    "### 4-3. Display the training loss history"
   ]
  },
  {
   "cell_type": "code",
   "execution_count": 10,
   "metadata": {},
   "outputs": [
    {
     "name": "stdout",
     "output_type": "stream",
     "text": [
      "Save training loss history as a picture? (y/n): n\n"
     ]
    },
    {
     "data": {
      "image/png": "[encoded data removed]",
      "text/plain": [
       "<matplotlib.figure.Figure at 0x11d32ff98>"
      ]
     },
     "metadata": {
      "needs_background": "light"
     },
     "output_type": "display_data"
    }
   ],
   "source": [
    "AE.plot_ae_loss_history(histories, mode, pic_file)"
   ]
  },
  {
   "cell_type": "markdown",
   "metadata": {},
   "source": [
    "### 4-4. Extract features from the datasets"
   ]
  },
  {
   "cell_type": "code",
   "execution_count": 11,
   "metadata": {},
   "outputs": [
    {
     "name": "stdout",
     "output_type": "stream",
     "text": [
      "The number of compressed features: 10\n"
     ]
    }
   ],
   "source": [
    "X_all_cmp=encoder.predict(features_nrm)\n",
    "X_tr_cmp=encoder.predict(X_tr)\n",
    "X_te_cmp=encoder.predict(X_te)\n",
    "\n",
    "print(\"The number of compressed features:\", len(X_all_cmp[0]))"
   ]
  },
  {
   "cell_type": "markdown",
   "metadata": {},
   "source": [
    "## 5. Build a discriminative neural network\n",
    "### 5-1. Define the parameters"
   ]
  },
  {
   "cell_type": "code",
   "execution_count": 12,
   "metadata": {},
   "outputs": [
    {
     "name": "stdout",
     "output_type": "stream",
     "text": [
      "Define 10 parameters for the autoencoder.\n",
      "When skipped (push enter) or an invalid value is given, the default value will be used.\n",
      "\n",
      "[Parameter 1/10: Finetune autoencoder] 0:False or 1:True (default=0): \n",
      "[Parameter 2/10: Number of hidden neurons](default=20): \n",
      "[Parameter 3/10: Activation function (hidden layer)] 0:relu 1:sigmoid 2:tanh 3:softmax (default=relu): \n",
      "[Parameter 4/10: Activation function (hidden layer)] 0:relu 1:sigmoid 2:tanh 3:softmax (default=softmax): \n",
      "[Parameter 5/10: Optimiser] 0:adam 1:sdg (default=adam): \n",
      " - Learning rate (default=0.010000): \n",
      "[Parameter 6/10: Loss function] 0:mse 1:mean_absolute_error 2:mean_squared_logarithmic_error 3:categorical_crossentropy (default=categorical_crossentropy): \n",
      "[Parameter 7/10: Training epochs] (default=20): \n",
      "[Parameter 8/10: Validation] 0<rate<1 (default=0.200000): \n",
      "[Parameter 9/10: Verbose] 0:False or 1:True (default=0): \n",
      "[Parameter 10/10: Summary display] 0:False or 1:True (default=0): \n",
      "\n",
      "Parameters for the MLP are\n",
      " 1. Finetune: : 0(False)\n",
      " 2. Number of neurons in the hidden layer: 20\n",
      " 3. Hidden layer activation function: relu\n",
      " 4. Output layer activation function: softmax\n",
      " 5. Optimiser: <keras.optimizers.Adam object at 0x127ae6ef0>\n",
      " 6. Loss function: categorical_crossentropy\n",
      " 7. Epochs: 20\n",
      " 8. Validation rate: 0.200000\n",
      " 9. Verbose: 0(False)\n",
      " 10. Summary_display: 0(False)\n"
     ]
    }
   ],
   "source": [
    "finetune, h_num, h_act, out_act, opt, loss, epochs, val_rate, \\\n",
    "    verbose, summary_display=MLP.get_parameters()"
   ]
  },
  {
   "cell_type": "markdown",
   "metadata": {},
   "source": [
    "### 5-2. Train the MLP"
   ]
  },
  {
   "cell_type": "code",
   "execution_count": 13,
   "metadata": {},
   "outputs": [],
   "source": [
    "k=ae_layers[-1]\n",
    "n=len(np.unique(y))\n",
    "\n",
    "model=MLP.build_mlp(encoder, num_in=k, num_out=n, \\\n",
    "            finetune=finetune, h_num=h_num, h_act=h_act, \\\n",
    "            out_act=out_act, opt=opt, loss=loss, \\\n",
    "            summary_display=summary_display)\n",
    "histories=MLP.train_mlp(X, y, model, epochs=epochs, \\\n",
    "            val_rate=val_rate, verbose=verbose)"
   ]
  },
  {
   "cell_type": "markdown",
   "metadata": {},
   "source": [
    "### 5-3. Display the training loss history"
   ]
  },
  {
   "cell_type": "code",
   "execution_count": 14,
   "metadata": {},
   "outputs": [
    {
     "name": "stdout",
     "output_type": "stream",
     "text": [
      "Save training loss history as a picture? (y/n): n\n"
     ]
    },
    {
     "data": {
      "image/png": "[encoded data removed]",
      "text/plain": [
       "<matplotlib.figure.Figure at 0x11f498128>"
      ]
     },
     "metadata": {
      "needs_background": "light"
     },
     "output_type": "display_data"
    }
   ],
   "source": [
    "MLP.plot_mlp_loss_history(histories, pic_file)"
   ]
  },
  {
   "cell_type": "markdown",
   "metadata": {},
   "source": [
    "## 6. Grid Search for optimal parameter"
   ]
  },
  {
   "cell_type": "code",
   "execution_count": null,
   "metadata": {},
   "outputs": [],
   "source": [
    "from sklearn.neural_network import MLPClassifier\n",
    "\n",
    "classifier=MLPClassifier(activation = \"tanh\", alpha = 1, hidden_layer_sizes = (14,), \n",
    "                   max_iter = 8000, learning_rate_init = 0.00001, \n",
    "                    solver = \"lbfgs\")"
   ]
  },
  {
   "cell_type": "markdown",
   "metadata": {},
   "source": [
    "### (1) Grid Search\n",
    "The codes and markdown below are originally written by the author for the assignment for CE802 which was submitted to the CSEE Department on 16 January 2019.<br><br>\n",
    "Major parameters to be tuned are:\n",
    "\n",
    "\n",
    "|parameter               |default    |description                                              |\n",
    "|------------------------|-----------|---------------------------------------------------------|\n",
    "|hidden_layer_sizes      |(100,)     |i-th element: numb of neurons in the i-th hidden layer   |\n",
    "|activation              |\"relu\"     |activation function                                      |\n",
    "|solver                  |\"adam\"     |weight optimasation                                      |\n",
    "|alpha                   |0.0001     |regularization parameter                                 |\n",
    "|learning_rate_init      |0.001      |step-size in weights update (solver=’sgd’ or ‘adam’)     |\n",
    "|max_iter                |200        |max num of iterations                                    |\n",
    "|momentum                |0.9        |momentum for gradient descent update (range (0, 1), solver=’sgd’|"
   ]
  },
  {
   "cell_type": "code",
   "execution_count": null,
   "metadata": {},
   "outputs": [],
   "source": [
    "from sklearn.model_selection import \\\n",
    "    GridSearchCV, cross_val_score, KFold, ShuffleSplit\n",
    "from statistics import mode\n",
    "\n",
    "Hs=[(100,), (14, ), (28, ), (42, ), (56, )]\n",
    "ACTs=[\"identity\", \"logistic\", \"tanh\", \"relu\"]\n",
    "SLOs=[\"lbfgs\", \"sgd\", \"adam\"]\n",
    "ACTs=[\"identity\"]\n",
    "SLOs=[\"lbfgs\"]\n",
    "ALPHAs=np.logspace(-5, 1, 7)\n",
    "ITRs=np.linspace(6000, 10000, 5, dtype = int)\n",
    "ETAs=np.logspace(-5, -3, 3)\n",
    "\n",
    "grid_list=[]\n",
    "grid_list.append(dict(activation=ACTs, solver=SLOs))\n",
    "grid_list.append(dict(learning_rate_init=ETAs, alpha=ALPHAs))\n",
    "grid_list.append(dict(max_iter=ITRs, hidden_layer_sizes=Hs))\n",
    "\n",
    "grid={0:\"Activation function & Solver\\n\", 1:\"Learning rate & Momentam\\n\", 2:\"Max iteration & Hidden layer\\n\"}\n",
    "ans=int(input(grid))\n",
    "\n",
    "param_grid=grid_list[ans]\n",
    "\n",
    "print (param_grid)"
   ]
  },
  {
   "cell_type": "code",
   "execution_count": null,
   "metadata": {},
   "outputs": [],
   "source": [
    "clf=GridSearchCV(estimator=classifier, param_grid=param_grid, n_jobs=-1,\n",
    "                    cv=ShuffleSplit())\n",
    "clf"
   ]
  },
  {
   "cell_type": "code",
   "execution_count": null,
   "metadata": {},
   "outputs": [],
   "source": [
    "def grid_search(X, y):\n",
    "    score, bests, lbs, means, modes=[], [], [], [], []\n",
    "    n_splits=10\n",
    "    k_fold=KFold(n_splits=n_splits)\n",
    "\n",
    "    grd = 1\n",
    "    for tr, te in k_fold.split(X):\n",
    "        print (\"\\rProgress [%s%s]\" % \n",
    "               (grd * \"# \", (n_splits-grd) * \". \"), end = \"\")\n",
    "        grd += 1\n",
    "        best = []\n",
    "\n",
    "        clf.fit (X[tr], y[tr])\n",
    "        score.append (clf.score(X[te], y[te]))\n",
    "\n",
    "        for key in param_grid.keys():\n",
    "            method = getattr(clf.best_estimator_, key)\n",
    "            best.append (method)\n",
    "            if len (lbs) != len(param_grid): lbs.append(\"Best %s\" % key)\n",
    "        best.append (score[-1])\n",
    "        bests.append (best)\n",
    "\n",
    "    lbs.append (\"Fold Accuracy\")\n",
    "\n",
    "    # append mean and mode\n",
    "    for k in range (len (bests[0])):\n",
    "        avgs = (np.array (bests)[:, k]).tolist()\n",
    "        try:    modes.append (mode (avgs))\n",
    "        except: modes.append (\"N/A\")\n",
    "\n",
    "        try:    means.append (np.mean ([float (avg) for avg in avgs]))\n",
    "        except: means.append (\"N/A\")\n",
    "\n",
    "    index=[\"Fold-%2d\" % fold for fold in(range(1, grd))]\n",
    "    for add1, add2 in zip ([[\"---\"] * (len (param_grid) + 1), means, modes], \n",
    "                           [\"---\", \"mean\", \"modes\"]):\n",
    "        bests.append (add1)\n",
    "        index.append (add2)\n",
    "    \n",
    "    return bests, index, lbs\n",
    "        \n",
    "bests, index, lbs=grid_search(X=feat_compressed, y=classes)"
   ]
  },
  {
   "cell_type": "code",
   "execution_count": null,
   "metadata": {},
   "outputs": [],
   "source": [
    "bests"
   ]
  },
  {
   "cell_type": "code",
   "execution_count": null,
   "metadata": {},
   "outputs": [],
   "source": [
    "index"
   ]
  },
  {
   "cell_type": "code",
   "execution_count": null,
   "metadata": {},
   "outputs": [],
   "source": [
    "# display best scores\n",
    "print (\"\\n\")\n",
    "d = pd.DataFrame(bests, index=index, columns=lbs)\n",
    "print (d)\n",
    "\n",
    "# export the results to a file\n",
    "from datetime import datetime\n",
    "now = datetime.now().strftime(\"%Y%m%d_%H%M%S\")\n",
    "mystr = input (\">>> Enter the type of predictor (for file name): \")\n",
    "d.to_csv(\"GridSearch_%s_%s.csv\" % (mystr, now), header = lbs, \n",
    "          index = index, sep = \",\", mode = \"a\")\n",
    "print (\"[  O K  ] The result of Grid Search is exported to \"\n",
    "       \"<GridSearch_%s_%s.csv>.\" % (mystr, now))"
   ]
  },
  {
   "cell_type": "markdown",
   "metadata": {},
   "source": [
    "### (2) Train the network"
   ]
  },
  {
   "cell_type": "code",
   "execution_count": null,
   "metadata": {},
   "outputs": [],
   "source": [
    "classifier.fit(X_tr, Y_tr) "
   ]
  },
  {
   "cell_type": "markdown",
   "metadata": {},
   "source": [
    "### (3) Prediction and Evaluation"
   ]
  },
  {
   "cell_type": "code",
   "execution_count": null,
   "metadata": {},
   "outputs": [],
   "source": [
    "pred=classifier.predict(X_te)\n",
    "\n",
    "# for multi class tasks, decode the class attribute\n",
    "pred_df=pd.DataFrame(pred, columns=unique_labels)\n",
    "pred=pred_df.idxmax(axis=1)"
   ]
  },
  {
   "cell_type": "markdown",
   "metadata": {},
   "source": []
  },
  {
   "cell_type": "markdown",
   "metadata": {},
   "source": [
    "## 6. Evaluation\n",
    "### 6-1. Cross Validation"
   ]
  },
  {
   "cell_type": "code",
   "execution_count": 28,
   "metadata": {},
   "outputs": [],
   "source": [
    "def mlp():\n",
    "    \n",
    "    from keras.models import Sequential\n",
    "    from keras.layers import Dense\n",
    "    \n",
    "    # reconstruct the autoencoder\n",
    "    model=Sequential()       \n",
    "    model.add(Dense(30, input_dim=100, activation=\"relu\"))\n",
    "    model.add(Dense(5, activation=\"softmax\"))\n",
    "\n",
    "    model.compile(loss=\"categorical_crossentropy\", optimizer=\"adam\", metrics=['accuracy'])\n",
    "\n",
    "    return model"
   ]
  },
  {
   "cell_type": "code",
   "execution_count": null,
   "metadata": {},
   "outputs": [],
   "source": [
    "def cross_validation():\n",
    "    from keras.wrappers.scikit_learn import KerasClassifier\n",
    "    from sklearn.model_selection import cross_val_score\n",
    "\n",
    "    X=np.random.rand(10,100)\n",
    "    y=[0,1,2,3,4]*2\n",
    "    num_out=len(np.unique(y))\n",
    "    estimator=KerasClassifier(build_fn=mlp, epochs=100, verbose=0)\n",
    "    y=MLP.multi_class(y)\n",
    "\n",
    "    scores=cross_val_score(estimator, X, y, cv=5)\n",
    "    \n",
    "    return scores\n",
    "scores=cross_validation()"
   ]
  },
  {
   "cell_type": "code",
   "execution_count": null,
   "metadata": {},
   "outputs": [],
   "source": [
    "print(\"Accuracy (95%% confidence interval): %0.2f (+/- %0.2f)\" % (scores.mean(), scores.std() * 2))"
   ]
  },
  {
   "cell_type": "markdown",
   "metadata": {},
   "source": [
    "### 6-2. Various evaluation metrics on test data"
   ]
  },
  {
   "cell_type": "code",
   "execution_count": null,
   "metadata": {},
   "outputs": [],
   "source": [
    "from sklearn import metrics\n",
    "import pandas as pd\n",
    "\n",
    "print (\"\\n< Classification Report >\")\n",
    "print (metrics.classification_report (cls_te, pred, digits = 5))\n",
    "\n",
    "print (\"\\n< Confusion Matrix >\")\n",
    "print (pd.DataFrame (metrics.confusion_matrix(cls_te, pred)))\n",
    "print (\"Accuracy: %f\" % metrics.accuracy_score (cls_te, pred))\n",
    "\n",
    "print (\"\\n< Kappa Statistic >\")\n",
    "print (metrics.cohen_kappa_score (cls_te, pred))\n",
    "\n",
    "CLS.plot_confusion_matrix(cls_te, pred, unique_labels, \"test\", \"NN\", \"NN\")"
   ]
  },
  {
   "cell_type": "code",
   "execution_count": null,
   "metadata": {},
   "outputs": [],
   "source": []
  },
  {
   "cell_type": "markdown",
   "metadata": {},
   "source": [
    "### 2-4. Classification with other procedures"
   ]
  },
  {
   "cell_type": "markdown",
   "metadata": {},
   "source": [
    "#### (1) Decision Tree"
   ]
  },
  {
   "cell_type": "code",
   "execution_count": null,
   "metadata": {},
   "outputs": [],
   "source": [
    "title = \"%s_Decision_Tree (%d)\" % (pic_file, len(X))\n",
    "true_label, pred_label, clf = CLS.train (feat_te_compressed, cls_te, 0, 0)\n",
    "#CLS.plot_confusion_matrix(true_label, pred_label, unique_labels, pic_file, title, \"Decision_Tree\")\n",
    "clf"
   ]
  },
  {
   "cell_type": "markdown",
   "metadata": {},
   "source": [
    "#### (2) Naive Bayes"
   ]
  },
  {
   "cell_type": "code",
   "execution_count": null,
   "metadata": {},
   "outputs": [],
   "source": [
    "title = \"%s_Naive Bayes (%d)\" % (pic_file, len(X))\n",
    "true_label, pred_label, clf = CLS.train (feat_te_compressed, cls_te, 1, 0)\n",
    "#CLS.plot_confusion_matrix(true_label, pred_label, unique_labels, pic_file, title, \"Naive Bayes\")\n",
    "clf"
   ]
  },
  {
   "cell_type": "markdown",
   "metadata": {},
   "source": [
    "#### (3) SVM"
   ]
  },
  {
   "cell_type": "code",
   "execution_count": null,
   "metadata": {
    "scrolled": true
   },
   "outputs": [],
   "source": [
    "title = \"%s_SVM (%d)\" % (pic_file, len(X))\n",
    "true_label, pred_label, clf = CLS.train (feat_te_compressed, cls_te, 2, data_id)\n",
    "#CLS.plot_confusion_matrix(true_label, pred_label, unique_labels, pic_file, title, \"SVM\")\n",
    "clf"
   ]
  },
  {
   "cell_type": "code",
   "execution_count": null,
   "metadata": {},
   "outputs": [],
   "source": []
  }
 ],
 "metadata": {
  "kernelspec": {
   "display_name": "Python 3",
   "language": "python",
   "name": "python3"
  },
  "language_info": {
   "codemirror_mode": {
    "name": "ipython",
    "version": 3
   },
   "file_extension": ".py",
   "mimetype": "text/x-python",
   "name": "python",
   "nbconvert_exporter": "python",
   "pygments_lexer": "ipython3",
   "version": "3.6.4"
  }
 },
 "nbformat": 4,
 "nbformat_minor": 2
}

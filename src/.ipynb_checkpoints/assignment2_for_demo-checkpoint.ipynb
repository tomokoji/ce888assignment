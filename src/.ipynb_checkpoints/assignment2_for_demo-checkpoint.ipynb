{
 "cells": [
  {
   "cell_type": "markdown",
   "metadata": {},
   "source": [
    "# CE888 Assignment 2 for Demo\n",
    "\n",
    "This code is written to demonstarte data analysis made for ce888 assignment 2.\n",
    "\n",
    "**Author**          : Tomoko Ayakawa<br> \n",
    "**Created on**      : 29 March 2019<br> \n",
    "**Last modified on**: 16 April 2019<br> "
   ]
  },
  {
   "cell_type": "code",
   "execution_count": 2,
   "metadata": {},
   "outputs": [],
   "source": [
    "# import open source libraries\n",
    "import pandas as pd \n",
    "import seaborn as sns\n",
    "import numpy as np\n",
    "import matplotlib.pyplot as plt\n",
    "import sys\n",
    "\n",
    "# import original libraries\n",
    "sys.path.append(\"../\")\n",
    "\n",
    "#import utility as UTL\n",
    "import assignment2_main as MAIN2\n",
    "from conf import myVariables as VAR\n",
    "import load_data as DATA\n",
    "import preprocess as PREP\n",
    "import autoencoder as AE\n",
    "\n",
    "\n",
    "\n",
    "import histogram as HST\n",
    "import correlation as CRRL\n",
    "import pca as PCA\n",
    "import classifier as CLS\n",
    "import feature_importance as IMP"
   ]
  },
  {
   "cell_type": "markdown",
   "metadata": {},
   "source": [
    "## 1. Prepare the data\n",
    "Load data from **data** directory.<br>\n",
    "\n",
    "### 1-1. Select the data to load\n",
    "> 0. Human Activity\n",
    "1. Spam\n",
    "2. Phishing\n",
    ">"
   ]
  },
  {
   "cell_type": "code",
   "execution_count": 4,
   "metadata": {
    "scrolled": true
   },
   "outputs": [
    {
     "name": "stdout",
     "output_type": "stream",
     "text": [
      "{0: 'human activity', 1: 'spam', 2: 'phishing'}0\n"
     ]
    },
    {
     "name": "stderr",
     "output_type": "stream",
     "text": [
      "./sub/load_data.py:52: FutureWarning: convert_objects is deprecated.  To re-infer data dtypes for object columns, use DataFrame.infer_objects()\n",
      "For all other conversions use the data-type specific converters pd.to_datetime, pd.to_timedelta and pd.to_numeric.\n",
      "  data_df = data_df.convert_objects(convert_numeric=True)\n"
     ]
    },
    {
     "name": "stdout",
     "output_type": "stream",
     "text": [
      "Number of NaN: 0\n",
      "Data shape:  (7352, 562)\n",
      "Target labels: ['1' '2' '3' '4' '5' '6']\n",
      "Class distribution: ['0.17', '0.15', '0.13', '0.17', '0.19', '0.19']\n"
     ]
    }
   ],
   "source": [
    "data_list={0: \"human activity\", 1: \"spam\", 2: \"phishing\"}\n",
    "data_id=int(input(data_list))\n",
    "\n",
    "col_names, features_df, targets_df, data_df, pic_file=DATA.load_data(data_id=data_id)\n",
    "unique_labels=DATA.verify_data(data_df, targets_df, dispaly_range=False)"
   ]
  },
  {
   "cell_type": "markdown",
   "metadata": {},
   "source": [
    "### 1-2. Obtain the small data"
   ]
  },
  {
   "cell_type": "code",
   "execution_count": 5,
   "metadata": {},
   "outputs": [
    {
     "name": "stdout",
     "output_type": "stream",
     "text": [
      "Enter the number of samples to use (Total: 7352): \n",
      " - Number of features: 561\n",
      " - Minimul data size : 4538\n",
      " - Specified size    : 4538\n",
      "\n"
     ]
    }
   ],
   "source": [
    "features, classes=PREP.get_small_data(features_df, targets_df)"
   ]
  },
  {
   "cell_type": "markdown",
   "metadata": {},
   "source": [
    "### 1-3. Pre-process the data\n",
    "Fit the scaler and transform the data.<br>\n",
    "When the scaler ID is not specified, MinMaxScaler will be applied."
   ]
  },
  {
   "cell_type": "code",
   "execution_count": 6,
   "metadata": {},
   "outputs": [
    {
     "name": "stdout",
     "output_type": "stream",
     "text": [
      "Select the scaler 0 (None), 1 (MinMax), 2 (Quantile), 3 (Standard): \n"
     ]
    },
    {
     "name": "stderr",
     "output_type": "stream",
     "text": [
      "/Library/Frameworks/Python.framework/Versions/3.6/lib/python3.6/site-packages/sklearn/utils/validation.py:595: DataConversionWarning: Data with input dtype object was converted to float64 by MinMaxScaler.\n",
      "  warnings.warn(msg, DataConversionWarning)\n"
     ]
    },
    {
     "name": "stdout",
     "output_type": "stream",
     "text": [
      "Scaler: MinMaxScaler(copy=True, feature_range=(0, 1))\n"
     ]
    }
   ],
   "source": [
    "scl, features_nrm=PREP.pre_processing(features, display_result=False)"
   ]
  },
  {
   "cell_type": "markdown",
   "metadata": {},
   "source": [
    "### 1-4. Split the data"
   ]
  },
  {
   "cell_type": "code",
   "execution_count": 12,
   "metadata": {},
   "outputs": [
    {
     "name": "stdout",
     "output_type": "stream",
     "text": [
      "Enter the test_size (0<=test_size<1): \n",
      "Training: 3630, Test: 908\n",
      "\n"
     ]
    }
   ],
   "source": [
    "X, y=features_nrm, classes\n",
    "X_tr, X_te, y_tr, y_te=PREP.split_data(features_nrm, classes)"
   ]
  },
  {
   "cell_type": "markdown",
   "metadata": {},
   "source": [
    "## 4. Build an Autoencoder\n",
    "### 4-1. Define the parameters\n",
    "- `num_outs`: number of outputs\n",
    "- `act_funcs`:activation functions\n",
    "- `opt`:optimiser\n",
    "- `loss`: loss function\n",
    "- `tr_epoch`: training epoch\n",
    "- `ver`: verbose"
   ]
  },
  {
   "cell_type": "code",
   "execution_count": 10,
   "metadata": {},
   "outputs": [
    {
     "name": "stderr",
     "output_type": "stream",
     "text": [
      "Using TensorFlow backend.\n"
     ]
    },
    {
     "name": "stdout",
     "output_type": "stream",
     "text": [
      "Define the parameters for the autoencoder.\n",
      "When skipped (push enter) or an invalid value is given, the default value will be used.\n",
      "[Parameter 1/9: Autoencoder type] 0:Normal or 1:Stacked (default=0): \n",
      "[Parameter 2/9: Number of neurons in each layer] Integer separated by comma (default=55,30,10): \n",
      "[Parameter 3/9: Activation function] 0:relu 1:sigmoid 2:tanh 3:softmax (default=relu): \n",
      "[Parameter 4/9: Optimiser function] 0:adam or 1:sdg (default=0): \n",
      " - Learning rate (default=0.010000): \n",
      "[Parameter 5/9: Loss function] 0:mse 1:mean_absolute_error 2:mean_squared_logarithmic_error (default=mse): \n",
      "[Parameter 6/9: Dropout rate] 0<=rate<1 (default=0.000000): \n",
      "[Parameter 7/9: Training epochs] (default=20): \n",
      "[Parameter 8/9: Verbose] 0:None or 1:Display (default=1): \n",
      "[Parameter 9/9: Summary display] 0:False or 1:True (default=1): \n",
      "Parameters for the autoencoders are\n",
      " 1. Mode: 0(Normal)\n",
      " 2. Layers: [55, 30, 10]\n",
      " 3. Activation function: relu\n",
      " 4. Optimiser: <keras.optimizers.Adam object at 0x126fd47f0>\n",
      " 5. Loss function: mse\n",
      " 6. Dropout: 0.000000\n",
      " 7. Epochs: 20.000000\n",
      " 8. Verbose: 1(Display)\n",
      " 9. Summary_display: 1(Display)\n"
     ]
    }
   ],
   "source": [
    "layers, mode, act, opt, loss, dropout, \\\n",
    "    epochs, verbose, summary_display=AE.get_parameters(data_id)"
   ]
  },
  {
   "cell_type": "markdown",
   "metadata": {},
   "source": [
    "### 4-2. Train the autoencoder"
   ]
  },
  {
   "cell_type": "code",
   "execution_count": 16,
   "metadata": {},
   "outputs": [
    {
     "name": "stdout",
     "output_type": "stream",
     "text": [
      "num_outs: [561, 561, 55, 30, 10] [10, 30, 55, 561, 561]\n",
      "i= 0 | output= 561 , input= 561\n",
      "i= 1 | output= 55 , input= 561\n",
      "i= 2 | output= 30 , input= 55\n",
      "i= 3 | output= 10 , input= 30\n",
      "i= 0 | output= 30 , input= 10\n",
      "i= 1 | output= 55 , input= 30\n",
      "i= 2 | output= 561 , input= 55\n",
      "i= 3 | output= 561 , input= 561\n",
      "Epoch 1/20\n",
      "4538/4538 [==============================] - 2s - loss: 1466.2014     \n",
      "Epoch 2/20\n",
      "4538/4538 [==============================] - 2s - loss: 0.1262     \n",
      "Epoch 3/20\n",
      "4538/4538 [==============================] - 2s - loss: 0.1262     \n",
      "Epoch 4/20\n",
      "4538/4538 [==============================] - 2s - loss: 0.1262     \n",
      "Epoch 5/20\n",
      "4538/4538 [==============================] - 2s - loss: 0.1262     \n",
      "Epoch 6/20\n",
      "4538/4538 [==============================] - 2s - loss: 0.1262     \n",
      "Epoch 7/20\n",
      "4538/4538 [==============================] - 2s - loss: 0.1262     \n",
      "Epoch 8/20\n",
      "4538/4538 [==============================] - 2s - loss: 0.1262     \n",
      "Epoch 9/20\n",
      "4538/4538 [==============================] - 2s - loss: 0.1262     \n",
      "Epoch 10/20\n",
      "4538/4538 [==============================] - 2s - loss: 0.1262     \n",
      "Epoch 11/20\n",
      "4538/4538 [==============================] - 2s - loss: 0.1262     \n",
      "Epoch 12/20\n",
      "4538/4538 [==============================] - 2s - loss: 0.1262     \n",
      "Epoch 13/20\n",
      "4538/4538 [==============================] - 2s - loss: 0.1262     \n",
      "Epoch 14/20\n",
      "4538/4538 [==============================] - 2s - loss: 0.1262     \n",
      "Epoch 15/20\n",
      "4538/4538 [==============================] - 2s - loss: 0.1262     \n",
      "Epoch 16/20\n",
      "4538/4538 [==============================] - 2s - loss: 0.1262     \n",
      "Epoch 17/20\n",
      "4538/4538 [==============================] - 2s - loss: 0.1262     \n",
      "Epoch 18/20\n",
      "4538/4538 [==============================] - 2s - loss: 0.1262     \n",
      "Epoch 19/20\n",
      "4538/4538 [==============================] - 2s - loss: 0.1262     \n",
      "Epoch 20/20\n",
      "4538/4538 [==============================] - 2s - loss: 0.1262     \n",
      "_________________________________________________________________\n",
      "Layer (type)                 Output Shape              Param #   \n",
      "=================================================================\n",
      "input_2 (InputLayer)         (None, 561)               0         \n",
      "_________________________________________________________________\n",
      "dense_7 (Dense)              (None, 561)               315282    \n",
      "_________________________________________________________________\n",
      "dense_8 (Dense)              (None, 55)                30910     \n",
      "_________________________________________________________________\n",
      "dense_9 (Dense)              (None, 30)                1680      \n",
      "_________________________________________________________________\n",
      "dense_10 (Dense)             (None, 10)                310       \n",
      "_________________________________________________________________\n",
      "dense_11 (Dense)             (None, 30)                330       \n",
      "_________________________________________________________________\n",
      "dense_12 (Dense)             (None, 55)                1705      \n",
      "_________________________________________________________________\n",
      "dense_13 (Dense)             (None, 561)               31416     \n",
      "_________________________________________________________________\n",
      "dense_14 (Dense)             (None, 561)               315282    \n",
      "=================================================================\n",
      "Total params: 696,915\n",
      "Trainable params: 696,915\n",
      "Non-trainable params: 0\n",
      "_________________________________________________________________\n",
      "None\n"
     ]
    }
   ],
   "source": [
    "encode, histories=AE.autoencoder(X, layers=layers, mode=mode, act=act, opt=opt, \n",
    "                                 loss=loss, dropout=dropout, epochs=epochs, \n",
    "                                 verbose=verbose, summary_display=summary_display)"
   ]
  },
  {
   "cell_type": "markdown",
   "metadata": {},
   "source": [
    "### 4-3. Display the training loss history"
   ]
  },
  {
   "cell_type": "code",
   "execution_count": 14,
   "metadata": {},
   "outputs": [
    {
     "name": "stdout",
     "output_type": "stream",
     "text": [
      "Save training loss history? (y/n): n\n"
     ]
    },
    {
     "data": {
      "image/png": "[encoded data removed]",
      "text/plain": [
       "<matplotlib.figure.Figure at 0x11cb9a208>"
      ]
     },
     "metadata": {
      "needs_background": "light"
     },
     "output_type": "display_data"
    }
   ],
   "source": [
    "AE.plot_ae_loss_history(histories, mode, pic_file)"
   ]
  },
  {
   "cell_type": "markdown",
   "metadata": {},
   "source": [
    "### 4-4. Extract features from the datasets"
   ]
  },
  {
   "cell_type": "code",
   "execution_count": 15,
   "metadata": {},
   "outputs": [
    {
     "ename": "NameError",
     "evalue": "name 'encoder' is not defined",
     "output_type": "error",
     "traceback": [
      "\u001b[0;31m---------------------------------------------------------------------------\u001b[0m",
      "\u001b[0;31mNameError\u001b[0m                                 Traceback (most recent call last)",
      "\u001b[0;32m<ipython-input-15-e27ddd501d57>\u001b[0m in \u001b[0;36m<module>\u001b[0;34m\u001b[0m\n\u001b[0;32m----> 1\u001b[0;31m \u001b[0mfeat_compressed\u001b[0m\u001b[0;34m=\u001b[0m\u001b[0mencoder\u001b[0m\u001b[0;34m.\u001b[0m\u001b[0mpredict\u001b[0m\u001b[0;34m(\u001b[0m\u001b[0mfeatures_nrm\u001b[0m\u001b[0;34m)\u001b[0m\u001b[0;34m\u001b[0m\u001b[0m\n\u001b[0m\u001b[1;32m      2\u001b[0m \u001b[0mX_tr_compressed\u001b[0m\u001b[0;34m=\u001b[0m\u001b[0mencoder\u001b[0m\u001b[0;34m.\u001b[0m\u001b[0mpredict\u001b[0m\u001b[0;34m(\u001b[0m\u001b[0mX_tr\u001b[0m\u001b[0;34m)\u001b[0m\u001b[0;34m\u001b[0m\u001b[0m\n\u001b[1;32m      3\u001b[0m \u001b[0mX_tr_compressed\u001b[0m\u001b[0;34m=\u001b[0m\u001b[0mencoder\u001b[0m\u001b[0;34m.\u001b[0m\u001b[0mpredict\u001b[0m\u001b[0;34m(\u001b[0m\u001b[0mX_te\u001b[0m\u001b[0;34m)\u001b[0m\u001b[0;34m\u001b[0m\u001b[0m\n\u001b[1;32m      4\u001b[0m \u001b[0;34m\u001b[0m\u001b[0m\n\u001b[1;32m      5\u001b[0m \u001b[0mprint\u001b[0m\u001b[0;34m(\u001b[0m\u001b[0;34m\"The number of compressed features:\"\u001b[0m\u001b[0;34m,\u001b[0m \u001b[0mlen\u001b[0m\u001b[0;34m(\u001b[0m\u001b[0mfeat_compressed\u001b[0m\u001b[0;34m[\u001b[0m\u001b[0;36m0\u001b[0m\u001b[0;34m]\u001b[0m\u001b[0;34m)\u001b[0m\u001b[0;34m)\u001b[0m\u001b[0;34m\u001b[0m\u001b[0m\n",
      "\u001b[0;31mNameError\u001b[0m: name 'encoder' is not defined"
     ]
    }
   ],
   "source": [
    "feat_compressed=encoder.predict(features_nrm)\n",
    "X_tr_compressed=encoder.predict(X_tr)\n",
    "X_tr_compressed=encoder.predict(X_te)\n",
    "\n",
    "print(\"The number of compressed features:\", len(feat_compressed[0]))"
   ]
  },
  {
   "cell_type": "markdown",
   "metadata": {},
   "source": [
    "## 5. Build a discriminative neural network\n",
    "### 5-1. Keras Multiclass classifier\n",
    "This model is developed in reference to [Multi-Class Classification Tutorial with the Keras Deep Learning Library ](https://machinelearningmastery.com/multi-class-classification-tutorial-keras-deep-learning-library/)."
   ]
  },
  {
   "cell_type": "code",
   "execution_count": null,
   "metadata": {},
   "outputs": [],
   "source": [
    "hidden_act='relu'\n",
    "out_act='softmax'\n",
    "cls_optimizer=\"adam\"\n",
    "cls_loss='categorical_crossentropy'"
   ]
  },
  {
   "cell_type": "code",
   "execution_count": null,
   "metadata": {},
   "outputs": [],
   "source": [
    "def classifier(num_out=1, finetune=False):\n",
    "    from keras.models import Sequential\n",
    "    from keras.layers import Dense, Input\n",
    "\n",
    "    model=Sequential()\n",
    "    for e in encoder.layers:\n",
    "        e.trainable=finetune\n",
    "        model.add(e)\n",
    "    model.add(Dense(30, input_dim=num_outs[-1], activation=hidden_act))\n",
    "    model.add(Dense(num_out, activation=out_act))\n",
    "\n",
    "    model.compile(loss=cls_loss, optimizer=cls_optimizer, metrics=['accuracy'])    \n",
    "    \n",
    "    return model"
   ]
  },
  {
   "cell_type": "code",
   "execution_count": null,
   "metadata": {},
   "outputs": [],
   "source": [
    "mlp=classifier(num_out=len(unique_labels), finetune=True)\n",
    "mlp.summary()"
   ]
  },
  {
   "cell_type": "code",
   "execution_count": null,
   "metadata": {},
   "outputs": [],
   "source": [
    "def multi_class(Y):\n",
    "    # For multi class task, replace the target with dummy values\n",
    "    from keras.utils import np_utils\n",
    "    from sklearn.preprocessing import LabelEncoder\n",
    "\n",
    "    # encode class values as integers\n",
    "    label_encoder=LabelEncoder()\n",
    "    encoded_Y=label_encoder.fit_transform(Y)\n",
    "\n",
    "    # convert integers to dummy variables (i.e. one hot encoded)\n",
    "    encoded_Y=np_utils.to_categorical(encoded_Y)\n",
    "\n",
    "    return encoded_Y\n",
    "\n",
    "Y_tr=multi_class(Y_tr)"
   ]
  },
  {
   "cell_type": "code",
   "execution_count": null,
   "metadata": {},
   "outputs": [],
   "source": [
    "# Train the network\n",
    "loss_hiss=mlp.fit(X_tr, Y_tr, epochs=20, validation_split=0.2, verbose=1)"
   ]
  },
  {
   "cell_type": "code",
   "execution_count": null,
   "metadata": {},
   "outputs": [],
   "source": [
    "def plot_mlp_loss_history(histories, pic_file):\n",
    "    import matplotlib.ticker as ticker\n",
    "    \n",
    "    fig=plt.figure(figsize=(15,5))\n",
    "\n",
    "    metrics=[[\"loss\", \"val_loss\"], [\"acc\", \"val_acc\"]]\n",
    "    labels=[\"Loss\", \"Accuracy\"]\n",
    "    for i, m , l in zip(range(1,3), metrics, labels):\n",
    "        plt.subplot(1, 2, i)\n",
    "        plt.plot(histories.history[m[0]], label=\"training\")\n",
    "        plt.plot(histories.history[m[1]], label=\"validation\")\n",
    "        plt.title(\"MLP Training and Validation %s\" % l)\n",
    "        plt.gca().get_xaxis().set_major_locator(ticker.MaxNLocator(integer=True))\n",
    "        plt.legend()\n",
    "\n",
    "    plt.show ()\n",
    "    \n",
    "    fig.savefig(\"%s%s_ae_loss.png\" % (VAR.out_path, pic_file), \\\n",
    "                bbox_inches='tight')"
   ]
  },
  {
   "cell_type": "code",
   "execution_count": null,
   "metadata": {},
   "outputs": [],
   "source": [
    "pic_file=\"test_mlp\"\n",
    "plot_mlp_loss_history(loss_hiss, pic_file)"
   ]
  },
  {
   "cell_type": "markdown",
   "metadata": {},
   "source": [
    "### 5-2. Sklearn Neural Network"
   ]
  },
  {
   "cell_type": "code",
   "execution_count": null,
   "metadata": {},
   "outputs": [],
   "source": [
    "from sklearn.neural_network import MLPClassifier\n",
    "\n",
    "classifier=MLPClassifier(activation = \"tanh\", alpha = 1, hidden_layer_sizes = (14,), \n",
    "                   max_iter = 8000, learning_rate_init = 0.00001, \n",
    "                    solver = \"lbfgs\")"
   ]
  },
  {
   "cell_type": "markdown",
   "metadata": {},
   "source": [
    "### (1) Grid Search\n",
    "The codes and markdown below are originally written by the author for the assignment for CE802 which was submitted to the CSEE Department on 16 January 2019.<br><br>\n",
    "Major parameters to be tuned are:\n",
    "\n",
    "\n",
    "|parameter               |default    |description                                              |\n",
    "|------------------------|-----------|---------------------------------------------------------|\n",
    "|hidden_layer_sizes      |(100,)     |i-th element: numb of neurons in the i-th hidden layer   |\n",
    "|activation              |\"relu\"     |activation function                                      |\n",
    "|solver                  |\"adam\"     |weight optimasation                                      |\n",
    "|alpha                   |0.0001     |regularization parameter                                 |\n",
    "|learning_rate_init      |0.001      |step-size in weights update (solver=’sgd’ or ‘adam’)     |\n",
    "|max_iter                |200        |max num of iterations                                    |\n",
    "|momentum                |0.9        |momentum for gradient descent update (range (0, 1), solver=’sgd’|"
   ]
  },
  {
   "cell_type": "code",
   "execution_count": null,
   "metadata": {},
   "outputs": [],
   "source": [
    "from sklearn.model_selection import \\\n",
    "    GridSearchCV, cross_val_score, KFold, ShuffleSplit\n",
    "from statistics import mode\n",
    "\n",
    "Hs=[(100,), (14, ), (28, ), (42, ), (56, )]\n",
    "ACTs=[\"identity\", \"logistic\", \"tanh\", \"relu\"]\n",
    "SLOs=[\"lbfgs\", \"sgd\", \"adam\"]\n",
    "ACTs=[\"identity\"]\n",
    "SLOs=[\"lbfgs\"]\n",
    "ALPHAs=np.logspace(-5, 1, 7)\n",
    "ITRs=np.linspace(6000, 10000, 5, dtype = int)\n",
    "ETAs=np.logspace(-5, -3, 3)\n",
    "\n",
    "grid_list=[]\n",
    "grid_list.append(dict(activation=ACTs, solver=SLOs))\n",
    "grid_list.append(dict(learning_rate_init=ETAs, alpha=ALPHAs))\n",
    "grid_list.append(dict(max_iter=ITRs, hidden_layer_sizes=Hs))\n",
    "\n",
    "grid={0:\"Activation function & Solver\\n\", 1:\"Learning rate & Momentam\\n\", 2:\"Max iteration & Hidden layer\\n\"}\n",
    "ans=int(input(grid))\n",
    "\n",
    "param_grid=grid_list[ans]\n",
    "\n",
    "print (param_grid)"
   ]
  },
  {
   "cell_type": "code",
   "execution_count": null,
   "metadata": {},
   "outputs": [],
   "source": [
    "clf=GridSearchCV(estimator=classifier, param_grid=param_grid, n_jobs=-1,\n",
    "                    cv=ShuffleSplit())\n",
    "clf"
   ]
  },
  {
   "cell_type": "code",
   "execution_count": null,
   "metadata": {},
   "outputs": [],
   "source": [
    "def grid_search(X, y):\n",
    "    score, bests, lbs, means, modes=[], [], [], [], []\n",
    "    n_splits=10\n",
    "    k_fold=KFold(n_splits=n_splits)\n",
    "\n",
    "    grd = 1\n",
    "    for tr, te in k_fold.split(X):\n",
    "        print (\"\\rProgress [%s%s]\" % \n",
    "               (grd * \"# \", (n_splits-grd) * \". \"), end = \"\")\n",
    "        grd += 1\n",
    "        best = []\n",
    "\n",
    "        clf.fit (X[tr], y[tr])\n",
    "        score.append (clf.score(X[te], y[te]))\n",
    "\n",
    "        for key in param_grid.keys():\n",
    "            method = getattr(clf.best_estimator_, key)\n",
    "            best.append (method)\n",
    "            if len (lbs) != len(param_grid): lbs.append(\"Best %s\" % key)\n",
    "        best.append (score[-1])\n",
    "        bests.append (best)\n",
    "\n",
    "    lbs.append (\"Fold Accuracy\")\n",
    "\n",
    "    # append mean and mode\n",
    "    for k in range (len (bests[0])):\n",
    "        avgs = (np.array (bests)[:, k]).tolist()\n",
    "        try:    modes.append (mode (avgs))\n",
    "        except: modes.append (\"N/A\")\n",
    "\n",
    "        try:    means.append (np.mean ([float (avg) for avg in avgs]))\n",
    "        except: means.append (\"N/A\")\n",
    "\n",
    "    index=[\"Fold-%2d\" % fold for fold in(range(1, grd))]\n",
    "    for add1, add2 in zip ([[\"---\"] * (len (param_grid) + 1), means, modes], \n",
    "                           [\"---\", \"mean\", \"modes\"]):\n",
    "        bests.append (add1)\n",
    "        index.append (add2)\n",
    "    \n",
    "    return bests, index, lbs\n",
    "        \n",
    "bests, index, lbs=grid_search(X=feat_compressed, y=classes)"
   ]
  },
  {
   "cell_type": "code",
   "execution_count": null,
   "metadata": {},
   "outputs": [],
   "source": [
    "bests"
   ]
  },
  {
   "cell_type": "code",
   "execution_count": null,
   "metadata": {},
   "outputs": [],
   "source": [
    "index"
   ]
  },
  {
   "cell_type": "code",
   "execution_count": null,
   "metadata": {},
   "outputs": [],
   "source": [
    "# display best scores\n",
    "print (\"\\n\")\n",
    "d = pd.DataFrame(bests, index=index, columns=lbs)\n",
    "print (d)\n",
    "\n",
    "# export the results to a file\n",
    "from datetime import datetime\n",
    "now = datetime.now().strftime(\"%Y%m%d_%H%M%S\")\n",
    "mystr = input (\">>> Enter the type of predictor (for file name): \")\n",
    "d.to_csv(\"GridSearch_%s_%s.csv\" % (mystr, now), header = lbs, \n",
    "          index = index, sep = \",\", mode = \"a\")\n",
    "print (\"[  O K  ] The result of Grid Search is exported to \"\n",
    "       \"<GridSearch_%s_%s.csv>.\" % (mystr, now))"
   ]
  },
  {
   "cell_type": "markdown",
   "metadata": {},
   "source": [
    "### (2) Train the network"
   ]
  },
  {
   "cell_type": "code",
   "execution_count": null,
   "metadata": {},
   "outputs": [],
   "source": [
    "classifier.fit(X_tr, Y_tr) "
   ]
  },
  {
   "cell_type": "markdown",
   "metadata": {},
   "source": [
    "### (3) Prediction and Evaluation"
   ]
  },
  {
   "cell_type": "code",
   "execution_count": null,
   "metadata": {},
   "outputs": [],
   "source": [
    "pred=classifier.predict(X_te)\n",
    "\n",
    "# for multi class tasks, decode the class attribute\n",
    "pred_df=pd.DataFrame(pred, columns=unique_labels)\n",
    "pred=pred_df.idxmax(axis=1)"
   ]
  },
  {
   "cell_type": "markdown",
   "metadata": {},
   "source": []
  },
  {
   "cell_type": "markdown",
   "metadata": {},
   "source": [
    "## 6. Evaluation\n",
    "### 6-1. Cross Validation"
   ]
  },
  {
   "cell_type": "code",
   "execution_count": null,
   "metadata": {},
   "outputs": [],
   "source": [
    "from keras.wrappers.scikit_learn import KerasClassifier\n",
    "from sklearn.model_selection import cross_val_score\n",
    "\n",
    "estimator=KerasClassifier(build_fn=classifier, num_out=num_out, finetune=False, epochs=100, verbose=0)\n",
    "scores=cross_val_score(estimator, X, y, cv=5)#, n_jobs=-1)"
   ]
  },
  {
   "cell_type": "code",
   "execution_count": null,
   "metadata": {},
   "outputs": [],
   "source": [
    "print(\"Accuracy (95%% confidence interval): %0.2f (+/- %0.2f)\" % (scores.mean(), scores.std() * 2))"
   ]
  },
  {
   "cell_type": "markdown",
   "metadata": {},
   "source": [
    "### 6-2. Various evaluation metrics on test data"
   ]
  },
  {
   "cell_type": "code",
   "execution_count": null,
   "metadata": {},
   "outputs": [],
   "source": [
    "from sklearn import metrics\n",
    "import pandas as pd\n",
    "\n",
    "print (\"\\n< Classification Report >\")\n",
    "print (metrics.classification_report (cls_te, pred, digits = 5))\n",
    "\n",
    "print (\"\\n< Confusion Matrix >\")\n",
    "print (pd.DataFrame (metrics.confusion_matrix(cls_te, pred)))\n",
    "print (\"Accuracy: %f\" % metrics.accuracy_score (cls_te, pred))\n",
    "\n",
    "print (\"\\n< Kappa Statistic >\")\n",
    "print (metrics.cohen_kappa_score (cls_te, pred))\n",
    "\n",
    "CLS.plot_confusion_matrix(cls_te, pred, unique_labels, \"test\", \"NN\", \"NN\")"
   ]
  },
  {
   "cell_type": "code",
   "execution_count": null,
   "metadata": {},
   "outputs": [],
   "source": []
  },
  {
   "cell_type": "markdown",
   "metadata": {},
   "source": [
    "### 2-4. Classification with other procedures"
   ]
  },
  {
   "cell_type": "markdown",
   "metadata": {},
   "source": [
    "#### (1) Decision Tree"
   ]
  },
  {
   "cell_type": "code",
   "execution_count": null,
   "metadata": {},
   "outputs": [],
   "source": [
    "title = \"%s_Decision_Tree (%d)\" % (pic_file, len(X))\n",
    "true_label, pred_label, clf = CLS.train (feat_te_compressed, cls_te, 0, 0)\n",
    "#CLS.plot_confusion_matrix(true_label, pred_label, unique_labels, pic_file, title, \"Decision_Tree\")\n",
    "clf"
   ]
  },
  {
   "cell_type": "markdown",
   "metadata": {},
   "source": [
    "#### (2) Naive Bayes"
   ]
  },
  {
   "cell_type": "code",
   "execution_count": null,
   "metadata": {},
   "outputs": [],
   "source": [
    "title = \"%s_Naive Bayes (%d)\" % (pic_file, len(X))\n",
    "true_label, pred_label, clf = CLS.train (feat_te_compressed, cls_te, 1, 0)\n",
    "#CLS.plot_confusion_matrix(true_label, pred_label, unique_labels, pic_file, title, \"Naive Bayes\")\n",
    "clf"
   ]
  },
  {
   "cell_type": "markdown",
   "metadata": {},
   "source": [
    "#### (3) SVM"
   ]
  },
  {
   "cell_type": "code",
   "execution_count": null,
   "metadata": {
    "scrolled": true
   },
   "outputs": [],
   "source": [
    "title = \"%s_SVM (%d)\" % (pic_file, len(X))\n",
    "true_label, pred_label, clf = CLS.train (feat_te_compressed, cls_te, 2, data_id)\n",
    "#CLS.plot_confusion_matrix(true_label, pred_label, unique_labels, pic_file, title, \"SVM\")\n",
    "clf"
   ]
  },
  {
   "cell_type": "code",
   "execution_count": null,
   "metadata": {},
   "outputs": [],
   "source": []
  }
 ],
 "metadata": {
  "kernelspec": {
   "display_name": "Python 3",
   "language": "python",
   "name": "python3"
  },
  "language_info": {
   "codemirror_mode": {
    "name": "ipython",
    "version": 3
   },
   "file_extension": ".py",
   "mimetype": "text/x-python",
   "name": "python",
   "nbconvert_exporter": "python",
   "pygments_lexer": "ipython3",
   "version": "3.6.4"
  }
 },
 "nbformat": 4,
 "nbformat_minor": 2
}

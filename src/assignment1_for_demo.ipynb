{
 "cells": [
  {
   "cell_type": "markdown",
   "metadata": {},
   "source": [
    "# CE888 Assignment 1 for Demo\n",
    "\n",
    "This code is written to demonstarte data analysis made for ce888 assignment 1.\n",
    "\n",
    "**Author**          : Tomoko Ayakawa<br> \n",
    "**Created on**      : 5 February 2019<br> \n",
    "**Last modified on**: 19 February 2019<br> "
   ]
  },
  {
   "cell_type": "code",
   "execution_count": 6,
   "metadata": {},
   "outputs": [],
   "source": [
    "# import open source libraries\n",
    "import pandas as pd \n",
    "import seaborn as sns\n",
    "import numpy as np\n",
    "import matplotlib.pyplot as plt\n",
    "import sys\n",
    "\n",
    "# import original libraries\n",
    "sys.path.append(\"../\")\n",
    "\n",
    "import assignment1_main as MAIN\n",
    "import load_data as DATA\n",
    "import histogram as HST\n",
    "import correlation as CRRL\n",
    "import pca as PCA\n",
    "import classifier as CLS\n",
    "import feature_importance as IMP"
   ]
  },
  {
   "cell_type": "markdown",
   "metadata": {},
   "source": [
    "## 1. Load Data\n",
    "Load data from **data** directory.<br>\n",
    "Reading and preprocessing data into pandas.DataFrame are done by respective python files.<br>\n",
    "#### Returned variables<br>\n",
    ">`col_names` : List --- Name of the columns (including target column)<br>\n",
    "`features_df` : DataFrame --- Feature values<br>\n",
    "`targets_df` : DataFrame --- Target values<br>\n",
    "`data_df` : DataFrame --- The whole data containing both features and targets<br>\n",
    "`pic_file`: String --- Prefix for file name (data name + timestamp)<br>\n",
    "`unique_labels` : List --- Column haeders containing feature names and terget name (\"Class\")\n",
    ">\n",
    "\n",
    "#### Select data to load (Argument `data_id`)\n",
    "> 0. Human Activity\n",
    "1. Spam\n",
    "2. Phishing\n",
    ">"
   ]
  },
  {
   "cell_type": "code",
   "execution_count": 11,
   "metadata": {
    "scrolled": true
   },
   "outputs": [
    {
     "name": "stdout",
     "output_type": "stream",
     "text": [
      "Select the data to load (0: human activity, 1: spam, 2: phishing): 2\n",
      "Number of NaN: 0\n",
      "Data shape:  (11055, 31)\n",
      "Target labels: [-1.  1.]\n",
      "The range of features:                               Max  Min\n",
      "having_IP_Address            1.0 -1.0\n",
      "URL_Length                   1.0 -1.0\n",
      "Shortining_Service           1.0 -1.0\n",
      "having_At_Symbol             1.0 -1.0\n",
      "double_slash_redirecting     1.0 -1.0\n",
      "Prefix_Suffix                1.0 -1.0\n",
      "having_Sub_Domain            1.0 -1.0\n",
      "SSLfinal_State               1.0 -1.0\n",
      "Domain_registeration_length  1.0 -1.0\n",
      "Favicon                      1.0 -1.0\n",
      "port                         1.0 -1.0\n",
      "HTTPS_token                  1.0 -1.0\n",
      "Request_URL                  1.0 -1.0\n",
      "URL_of_Anchor                1.0 -1.0\n",
      "Links_in_tags                1.0 -1.0\n",
      "SFH                          1.0 -1.0\n",
      "Submitting_to_email          1.0 -1.0\n",
      "Abnormal_URL                 1.0 -1.0\n",
      "Redirect                     1.0  0.0\n",
      "on_mouseover                 1.0 -1.0\n",
      "RightClick                   1.0 -1.0\n",
      "popUpWidnow                  1.0 -1.0\n",
      "Iframe                       1.0 -1.0\n",
      "age_of_domain                1.0 -1.0\n",
      "DNSRecord                    1.0 -1.0\n",
      "web_traffic                  1.0 -1.0\n",
      "Page_Rank                    1.0 -1.0\n",
      "Google_Index                 1.0 -1.0\n",
      "Links_pointing_to_page       1.0 -1.0\n",
      "Statistical_report           1.0 -1.0\n",
      "Class                        1.0 -1.0\n"
     ]
    },
    {
     "data": {
      "text/html": [
       "<div>\n",
       "<style scoped>\n",
       "    .dataframe tbody tr th:only-of-type {\n",
       "        vertical-align: middle;\n",
       "    }\n",
       "\n",
       "    .dataframe tbody tr th {\n",
       "        vertical-align: top;\n",
       "    }\n",
       "\n",
       "    .dataframe thead th {\n",
       "        text-align: right;\n",
       "    }\n",
       "</style>\n",
       "<table border=\"1\" class=\"dataframe\">\n",
       "  <thead>\n",
       "    <tr style=\"text-align: right;\">\n",
       "      <th></th>\n",
       "      <th>having_IP_Address</th>\n",
       "      <th>URL_Length</th>\n",
       "      <th>Shortining_Service</th>\n",
       "      <th>having_At_Symbol</th>\n",
       "      <th>double_slash_redirecting</th>\n",
       "      <th>Prefix_Suffix</th>\n",
       "      <th>having_Sub_Domain</th>\n",
       "      <th>SSLfinal_State</th>\n",
       "      <th>Domain_registeration_length</th>\n",
       "      <th>Favicon</th>\n",
       "      <th>...</th>\n",
       "      <th>popUpWidnow</th>\n",
       "      <th>Iframe</th>\n",
       "      <th>age_of_domain</th>\n",
       "      <th>DNSRecord</th>\n",
       "      <th>web_traffic</th>\n",
       "      <th>Page_Rank</th>\n",
       "      <th>Google_Index</th>\n",
       "      <th>Links_pointing_to_page</th>\n",
       "      <th>Statistical_report</th>\n",
       "      <th>Class</th>\n",
       "    </tr>\n",
       "  </thead>\n",
       "  <tbody>\n",
       "    <tr>\n",
       "      <th>0</th>\n",
       "      <td>-1.0</td>\n",
       "      <td>1.0</td>\n",
       "      <td>1.0</td>\n",
       "      <td>1.0</td>\n",
       "      <td>-1.0</td>\n",
       "      <td>-1.0</td>\n",
       "      <td>-1.0</td>\n",
       "      <td>-1.0</td>\n",
       "      <td>-1.0</td>\n",
       "      <td>1.0</td>\n",
       "      <td>...</td>\n",
       "      <td>1.0</td>\n",
       "      <td>1.0</td>\n",
       "      <td>-1.0</td>\n",
       "      <td>-1.0</td>\n",
       "      <td>-1.0</td>\n",
       "      <td>-1.0</td>\n",
       "      <td>1.0</td>\n",
       "      <td>1.0</td>\n",
       "      <td>-1.0</td>\n",
       "      <td>-1.0</td>\n",
       "    </tr>\n",
       "    <tr>\n",
       "      <th>1</th>\n",
       "      <td>1.0</td>\n",
       "      <td>1.0</td>\n",
       "      <td>1.0</td>\n",
       "      <td>1.0</td>\n",
       "      <td>1.0</td>\n",
       "      <td>-1.0</td>\n",
       "      <td>0.0</td>\n",
       "      <td>1.0</td>\n",
       "      <td>-1.0</td>\n",
       "      <td>1.0</td>\n",
       "      <td>...</td>\n",
       "      <td>1.0</td>\n",
       "      <td>1.0</td>\n",
       "      <td>-1.0</td>\n",
       "      <td>-1.0</td>\n",
       "      <td>0.0</td>\n",
       "      <td>-1.0</td>\n",
       "      <td>1.0</td>\n",
       "      <td>1.0</td>\n",
       "      <td>1.0</td>\n",
       "      <td>-1.0</td>\n",
       "    </tr>\n",
       "    <tr>\n",
       "      <th>2</th>\n",
       "      <td>1.0</td>\n",
       "      <td>0.0</td>\n",
       "      <td>1.0</td>\n",
       "      <td>1.0</td>\n",
       "      <td>1.0</td>\n",
       "      <td>-1.0</td>\n",
       "      <td>-1.0</td>\n",
       "      <td>-1.0</td>\n",
       "      <td>-1.0</td>\n",
       "      <td>1.0</td>\n",
       "      <td>...</td>\n",
       "      <td>1.0</td>\n",
       "      <td>1.0</td>\n",
       "      <td>1.0</td>\n",
       "      <td>-1.0</td>\n",
       "      <td>1.0</td>\n",
       "      <td>-1.0</td>\n",
       "      <td>1.0</td>\n",
       "      <td>0.0</td>\n",
       "      <td>-1.0</td>\n",
       "      <td>-1.0</td>\n",
       "    </tr>\n",
       "    <tr>\n",
       "      <th>3</th>\n",
       "      <td>1.0</td>\n",
       "      <td>0.0</td>\n",
       "      <td>1.0</td>\n",
       "      <td>1.0</td>\n",
       "      <td>1.0</td>\n",
       "      <td>-1.0</td>\n",
       "      <td>-1.0</td>\n",
       "      <td>-1.0</td>\n",
       "      <td>1.0</td>\n",
       "      <td>1.0</td>\n",
       "      <td>...</td>\n",
       "      <td>1.0</td>\n",
       "      <td>1.0</td>\n",
       "      <td>-1.0</td>\n",
       "      <td>-1.0</td>\n",
       "      <td>1.0</td>\n",
       "      <td>-1.0</td>\n",
       "      <td>1.0</td>\n",
       "      <td>-1.0</td>\n",
       "      <td>1.0</td>\n",
       "      <td>-1.0</td>\n",
       "    </tr>\n",
       "    <tr>\n",
       "      <th>4</th>\n",
       "      <td>1.0</td>\n",
       "      <td>0.0</td>\n",
       "      <td>-1.0</td>\n",
       "      <td>1.0</td>\n",
       "      <td>1.0</td>\n",
       "      <td>-1.0</td>\n",
       "      <td>1.0</td>\n",
       "      <td>1.0</td>\n",
       "      <td>-1.0</td>\n",
       "      <td>1.0</td>\n",
       "      <td>...</td>\n",
       "      <td>-1.0</td>\n",
       "      <td>1.0</td>\n",
       "      <td>-1.0</td>\n",
       "      <td>-1.0</td>\n",
       "      <td>0.0</td>\n",
       "      <td>-1.0</td>\n",
       "      <td>1.0</td>\n",
       "      <td>1.0</td>\n",
       "      <td>1.0</td>\n",
       "      <td>1.0</td>\n",
       "    </tr>\n",
       "  </tbody>\n",
       "</table>\n",
       "<p>5 rows × 31 columns</p>\n",
       "</div>"
      ],
      "text/plain": [
       "   having_IP_Address  URL_Length  Shortining_Service  having_At_Symbol  \\\n",
       "0               -1.0         1.0                 1.0               1.0   \n",
       "1                1.0         1.0                 1.0               1.0   \n",
       "2                1.0         0.0                 1.0               1.0   \n",
       "3                1.0         0.0                 1.0               1.0   \n",
       "4                1.0         0.0                -1.0               1.0   \n",
       "\n",
       "   double_slash_redirecting  Prefix_Suffix  having_Sub_Domain  SSLfinal_State  \\\n",
       "0                      -1.0           -1.0               -1.0            -1.0   \n",
       "1                       1.0           -1.0                0.0             1.0   \n",
       "2                       1.0           -1.0               -1.0            -1.0   \n",
       "3                       1.0           -1.0               -1.0            -1.0   \n",
       "4                       1.0           -1.0                1.0             1.0   \n",
       "\n",
       "   Domain_registeration_length  Favicon  ...    popUpWidnow  Iframe  \\\n",
       "0                         -1.0      1.0  ...            1.0     1.0   \n",
       "1                         -1.0      1.0  ...            1.0     1.0   \n",
       "2                         -1.0      1.0  ...            1.0     1.0   \n",
       "3                          1.0      1.0  ...            1.0     1.0   \n",
       "4                         -1.0      1.0  ...           -1.0     1.0   \n",
       "\n",
       "   age_of_domain  DNSRecord  web_traffic  Page_Rank  Google_Index  \\\n",
       "0           -1.0       -1.0         -1.0       -1.0           1.0   \n",
       "1           -1.0       -1.0          0.0       -1.0           1.0   \n",
       "2            1.0       -1.0          1.0       -1.0           1.0   \n",
       "3           -1.0       -1.0          1.0       -1.0           1.0   \n",
       "4           -1.0       -1.0          0.0       -1.0           1.0   \n",
       "\n",
       "   Links_pointing_to_page  Statistical_report  Class  \n",
       "0                     1.0                -1.0   -1.0  \n",
       "1                     1.0                 1.0   -1.0  \n",
       "2                     0.0                -1.0   -1.0  \n",
       "3                    -1.0                 1.0   -1.0  \n",
       "4                     1.0                 1.0    1.0  \n",
       "\n",
       "[5 rows x 31 columns]"
      ]
     },
     "execution_count": 11,
     "metadata": {},
     "output_type": "execute_result"
    }
   ],
   "source": [
    "data_id = int(input(\"Select the data to load (0: human activity, 1: spam, 2: phishing): \"))\n",
    "\n",
    "col_names, features_df, targets_df, data_df, pic_file = DATA.load_data(data_id=data_id)\n",
    "unique_labels = DATA.verify_data(data_df, targets_df)\n",
    "data_df.head(5)"
   ]
  },
  {
   "cell_type": "markdown",
   "metadata": {},
   "source": [
    "## 2. Analyse the Data"
   ]
  },
  {
   "cell_type": "markdown",
   "metadata": {},
   "source": [
    "### 2-1. Data Structure\n",
    "#### (1) Feature distribution"
   ]
  },
  {
   "cell_type": "code",
   "execution_count": null,
   "metadata": {},
   "outputs": [],
   "source": [
    "HST.histogram(data_df[data_df.columns[:-1]], pic_file, \"_features\")"
   ]
  },
  {
   "cell_type": "markdown",
   "metadata": {},
   "source": [
    "#### (2) Target distribution"
   ]
  },
  {
   "cell_type": "code",
   "execution_count": null,
   "metadata": {},
   "outputs": [],
   "source": [
    "HST.histogram(data_df[data_df.columns[-1:]], pic_file, \"_targets\")"
   ]
  },
  {
   "cell_type": "markdown",
   "metadata": {},
   "source": [
    "#### (3) Correlation among features"
   ]
  },
  {
   "cell_type": "code",
   "execution_count": null,
   "metadata": {},
   "outputs": [],
   "source": [
    "cr_np = CRRL.correlation(data_df)\n",
    "CRRL.cr_heatmap (cr_np, pic_file, col_names)"
   ]
  },
  {
   "cell_type": "markdown",
   "metadata": {},
   "source": [
    "### 2-2. Feature importance\n",
    "#### (1) Correlation with the target"
   ]
  },
  {
   "cell_type": "code",
   "execution_count": null,
   "metadata": {},
   "outputs": [],
   "source": [
    "CRRL.cr_bar_graph (cr_np, pic_file, col_names)"
   ]
  },
  {
   "cell_type": "markdown",
   "metadata": {},
   "source": [
    "#### (2) Feature Importance based on Decision Tree"
   ]
  },
  {
   "cell_type": "code",
   "execution_count": null,
   "metadata": {},
   "outputs": [],
   "source": [
    "clf = CLS.train (features_df, targets_df, 0)[-1]\n",
    "IMP.feature_importance(clf, col_names, pic_file, pic_file.split(\"_\")[0])"
   ]
  },
  {
   "cell_type": "markdown",
   "metadata": {},
   "source": [
    "### 2-3. Principal Component Analysis (PCA)"
   ]
  },
  {
   "cell_type": "markdown",
   "metadata": {},
   "source": [
    "#### (1) Plot the data in 3D"
   ]
  },
  {
   "cell_type": "code",
   "execution_count": null,
   "metadata": {},
   "outputs": [],
   "source": [
    "%matplotlib notebook\n",
    "PCA.pca(features_df, targets_df, unique_labels, pic_file)"
   ]
  },
  {
   "cell_type": "markdown",
   "metadata": {},
   "source": [
    "#### (2) Explained Variance"
   ]
  },
  {
   "cell_type": "code",
   "execution_count": null,
   "metadata": {},
   "outputs": [],
   "source": [
    "%matplotlib inline\n",
    "PCA.variance(features_df, pic_file)"
   ]
  },
  {
   "cell_type": "markdown",
   "metadata": {},
   "source": [
    "### 2-4. Classification with small training data\n",
    "#### Obtain minimal size data"
   ]
  },
  {
   "cell_type": "code",
   "execution_count": null,
   "metadata": {},
   "outputs": [],
   "source": [
    "X, y = MAIN.get_minimal_data(features_df.values, targets_df.values)\n",
    "#X, y = features_df.values, targets_df.values"
   ]
  },
  {
   "cell_type": "markdown",
   "metadata": {},
   "source": [
    "#### (1) Decision Tree"
   ]
  },
  {
   "cell_type": "code",
   "execution_count": null,
   "metadata": {},
   "outputs": [],
   "source": [
    "title = \"%s_Decision_Tree\" % pic_file.split(\"_\")[0]\n",
    "true_label, pred_label, clf = CLS.train (X, y, 0)\n",
    "CLS.plot_confusion_matrix(true_label, pred_label, unique_labels, pic_file, title, \"Decision_Tree\")\n",
    "clf"
   ]
  },
  {
   "cell_type": "markdown",
   "metadata": {},
   "source": [
    "#### (2) Naive Bayes"
   ]
  },
  {
   "cell_type": "code",
   "execution_count": null,
   "metadata": {},
   "outputs": [],
   "source": [
    "title = \"%s_Naive Bayes\" % pic_file.split(\"_\")[0]\n",
    "true_label, pred_label, clf = CLS.train (X, y, 1)\n",
    "CLS.plot_confusion_matrix(true_label, pred_label, unique_labels, pic_file, title, \"Naive Bayes\")\n",
    "clf"
   ]
  },
  {
   "cell_type": "markdown",
   "metadata": {},
   "source": [
    "#### (3) SVM"
   ]
  },
  {
   "cell_type": "code",
   "execution_count": null,
   "metadata": {},
   "outputs": [],
   "source": [
    "title = \"%s_SVM\" % pic_file.split(\"_\")[0]\n",
    "true_label, pred_label, clf = CLS.train (X, y, 2)\n",
    "CLS.plot_confusion_matrix(true_label, pred_label, unique_labels, pic_file, title, \"SVM\")\n",
    "clf"
   ]
  },
  {
   "cell_type": "code",
   "execution_count": null,
   "metadata": {},
   "outputs": [],
   "source": []
  }
 ],
 "metadata": {
  "kernelspec": {
   "display_name": "Python 3",
   "language": "python",
   "name": "python3"
  },
  "language_info": {
   "codemirror_mode": {
    "name": "ipython",
    "version": 3
   },
   "file_extension": ".py",
   "mimetype": "text/x-python",
   "name": "python",
   "nbconvert_exporter": "python",
   "pygments_lexer": "ipython3",
   "version": "3.6.5"
  }
 },
 "nbformat": 4,
 "nbformat_minor": 2
}
